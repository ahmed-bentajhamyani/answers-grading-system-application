{
 "cells": [
  {
   "cell_type": "markdown",
   "id": "74395077",
   "metadata": {},
   "source": [
    "# Import Libraries"
   ]
  },
  {
   "cell_type": "code",
   "execution_count": 33,
   "id": "2db1ad22",
   "metadata": {},
   "outputs": [],
   "source": [
    "import pandas as pd\n",
    "import numpy as np\n",
    "import matplotlib.pyplot as plt\n",
    "import seaborn as sns\n",
    "import string \n",
    "from nltk.corpus import stopwords\n",
    "from nltk.stem.isri import ISRIStemmer\n",
    "from sklearn.model_selection import train_test_split\n",
    "import tensorflow as tf \n",
    "from keras.preprocessing.text import Tokenizer\n",
    "from tensorflow.keras.preprocessing.sequence import pad_sequences\n",
    "from keras.models import Sequential\n",
    "from keras.layers import Embedding, LSTM, Dense, Dropout\n",
    "from sklearn.model_selection import cross_val_score\n",
    "from sklearn.metrics import accuracy_score\n",
    "from sklearn.metrics import roc_auc_score\n",
    "\n",
    "# from keras.models import Sequential\n",
    "from sklearn.svm import SVC\n",
    "from sklearn.ensemble import RandomForestClassifier\n",
    "from sklearn.neighbors import KNeighborsClassifier\n",
    "from sklearn.naive_bayes import GaussianNB\n",
    "from sklearn.ensemble import BaggingClassifier\n",
    "from sklearn.neural_network import MLPClassifier\n",
    "\n",
    "\n",
    "import nltk\n",
    "from nltk.tokenize import word_tokenize\n",
    "from gensim.models import Word2Vec\n",
    "import pickle "
   ]
  },
  {
   "cell_type": "code",
   "execution_count": 34,
   "id": "64e006be",
   "metadata": {},
   "outputs": [],
   "source": [
    "import warnings\n",
    "warnings.filterwarnings('ignore')"
   ]
  },
  {
   "cell_type": "markdown",
   "id": "cea978ea",
   "metadata": {},
   "source": [
    "# Load Data"
   ]
  },
  {
   "cell_type": "code",
   "execution_count": 35,
   "id": "034bf77f",
   "metadata": {
    "scrolled": true
   },
   "outputs": [
    {
     "data": {
      "text/html": [
       "<div>\n",
       "<style scoped>\n",
       "    .dataframe tbody tr th:only-of-type {\n",
       "        vertical-align: middle;\n",
       "    }\n",
       "\n",
       "    .dataframe tbody tr th {\n",
       "        vertical-align: top;\n",
       "    }\n",
       "\n",
       "    .dataframe thead th {\n",
       "        text-align: right;\n",
       "    }\n",
       "</style>\n",
       "<table border=\"1\" class=\"dataframe\">\n",
       "  <thead>\n",
       "    <tr style=\"text-align: right;\">\n",
       "      <th></th>\n",
       "      <th>question_id</th>\n",
       "      <th>answer</th>\n",
       "      <th>grade</th>\n",
       "    </tr>\n",
       "  </thead>\n",
       "  <tbody>\n",
       "    <tr>\n",
       "      <th>0</th>\n",
       "      <td>8</td>\n",
       "      <td>643م - 709م</td>\n",
       "      <td>2</td>\n",
       "    </tr>\n",
       "    <tr>\n",
       "      <th>1</th>\n",
       "      <td>8</td>\n",
       "      <td>القرن السابع</td>\n",
       "      <td>2</td>\n",
       "    </tr>\n",
       "    <tr>\n",
       "      <th>2</th>\n",
       "      <td>8</td>\n",
       "      <td>القرن الثالث</td>\n",
       "      <td>0</td>\n",
       "    </tr>\n",
       "  </tbody>\n",
       "</table>\n",
       "</div>"
      ],
      "text/plain": [
       "   question_id        answer  grade\n",
       "0            8   643م - 709م      2\n",
       "1            8  القرن السابع      2\n",
       "2            8  القرن الثالث      0"
      ]
     },
     "execution_count": 35,
     "metadata": {},
     "output_type": "execute_result"
    }
   ],
   "source": [
    "# read csv file into pandas\n",
    "df = pd.read_csv(\"../datasets/question8.csv\")\n",
    "df.head(3)"
   ]
  },
  {
   "cell_type": "markdown",
   "id": "5984b4ed",
   "metadata": {},
   "source": [
    "# EDA"
   ]
  },
  {
   "cell_type": "code",
   "execution_count": 36,
   "id": "e4cc011c",
   "metadata": {},
   "outputs": [
    {
     "name": "stdout",
     "output_type": "stream",
     "text": [
      "<class 'pandas.core.frame.DataFrame'>\n",
      "RangeIndex: 86 entries, 0 to 85\n",
      "Data columns (total 3 columns):\n",
      " #   Column       Non-Null Count  Dtype \n",
      "---  ------       --------------  ----- \n",
      " 0   question_id  86 non-null     int64 \n",
      " 1   answer       86 non-null     object\n",
      " 2   grade        86 non-null     int64 \n",
      "dtypes: int64(2), object(1)\n",
      "memory usage: 2.1+ KB\n"
     ]
    }
   ],
   "source": [
    "df.info()"
   ]
  },
  {
   "cell_type": "code",
   "execution_count": 37,
   "id": "89ced33c",
   "metadata": {},
   "outputs": [
    {
     "data": {
      "text/plain": [
       "grade\n",
       "0    30\n",
       "1    23\n",
       "2    33\n",
       "dtype: int64"
      ]
     },
     "execution_count": 37,
     "metadata": {},
     "output_type": "execute_result"
    }
   ],
   "source": [
    "df.groupby('grade').size()"
   ]
  },
  {
   "cell_type": "code",
   "execution_count": 38,
   "id": "3a720ee4",
   "metadata": {},
   "outputs": [
    {
     "data": {
      "text/plain": [
       "18"
      ]
     },
     "execution_count": 38,
     "metadata": {},
     "output_type": "execute_result"
    }
   ],
   "source": [
    "df.duplicated().sum()"
   ]
  },
  {
   "cell_type": "code",
   "execution_count": 39,
   "id": "a52be670",
   "metadata": {},
   "outputs": [
    {
     "data": {
      "image/png": "[encoded data removed]",
      "text/plain": [
       "<Figure size 1000x600 with 1 Axes>"
      ]
     },
     "metadata": {},
     "output_type": "display_data"
    }
   ],
   "source": [
    "plt.figure(figsize=(10, 6))\n",
    "sns.countplot(data=df, x='grade')\n",
    "plt.show()"
   ]
  },
  {
   "cell_type": "markdown",
   "id": "f927deff",
   "metadata": {},
   "source": [
    "# Data Cleaning"
   ]
  },
  {
   "cell_type": "code",
   "execution_count": 40,
   "id": "4e2b5cd3",
   "metadata": {},
   "outputs": [],
   "source": [
    "df.drop('question_id', axis=1, inplace=True)"
   ]
  },
  {
   "cell_type": "code",
   "execution_count": 41,
   "id": "2bedaead",
   "metadata": {},
   "outputs": [],
   "source": [
    "df.dropna(inplace=True)"
   ]
  },
  {
   "cell_type": "code",
   "execution_count": 42,
   "id": "c7aecaff",
   "metadata": {},
   "outputs": [],
   "source": [
    "df.drop_duplicates(inplace=True)"
   ]
  },
  {
   "cell_type": "markdown",
   "id": "3ae6d336",
   "metadata": {},
   "source": [
    "# Data Pre-Preocessing"
   ]
  },
  {
   "cell_type": "code",
   "execution_count": 43,
   "id": "75658c83",
   "metadata": {},
   "outputs": [],
   "source": [
    "def txt_preprocess(text):\n",
    "    text = text.lower()\n",
    "    tokens = word_tokenize(text)\n",
    "    #tokens = [token for token in tokens if token.isalpha() and token not in stop_words]\n",
    "    return tokens"
   ]
  },
  {
   "cell_type": "code",
   "execution_count": 44,
   "id": "0cf45543",
   "metadata": {},
   "outputs": [],
   "source": [
    "df['tokens'] = df['answer'].apply(txt_preprocess)"
   ]
  },
  {
   "cell_type": "markdown",
   "id": "9bfbf36f",
   "metadata": {},
   "source": [
    "# Text Representation"
   ]
  },
  {
   "cell_type": "code",
   "execution_count": 45,
   "id": "cf192e33",
   "metadata": {},
   "outputs": [],
   "source": [
    "model_word2vec = Word2Vec(df['tokens'], vector_size=100, window=5, min_count=1, workers=4)"
   ]
  },
  {
   "cell_type": "code",
   "execution_count": 46,
   "id": "0f75f229",
   "metadata": {},
   "outputs": [],
   "source": [
    "def get_word_vector(tokens, model_word2vec):\n",
    "    textvector = np.zeros((100,), dtype='float32')\n",
    "    for token in tokens:\n",
    "        try:\n",
    "            textvector += model_word2vec.wv[token]\n",
    "        except KeyError:\n",
    "            continue\n",
    "    return textvector\n",
    "\n",
    "\n",
    "df['textvector'] = df['tokens'].apply(lambda x: get_word_vector(x, model_word2vec))"
   ]
  },
  {
   "cell_type": "code",
   "execution_count": 47,
   "id": "b59986fa",
   "metadata": {},
   "outputs": [
    {
     "data": {
      "text/html": [
       "<div>\n",
       "<style scoped>\n",
       "    .dataframe tbody tr th:only-of-type {\n",
       "        vertical-align: middle;\n",
       "    }\n",
       "\n",
       "    .dataframe tbody tr th {\n",
       "        vertical-align: top;\n",
       "    }\n",
       "\n",
       "    .dataframe thead th {\n",
       "        text-align: right;\n",
       "    }\n",
       "</style>\n",
       "<table border=\"1\" class=\"dataframe\">\n",
       "  <thead>\n",
       "    <tr style=\"text-align: right;\">\n",
       "      <th></th>\n",
       "      <th>answer</th>\n",
       "      <th>grade</th>\n",
       "      <th>tokens</th>\n",
       "      <th>textvector</th>\n",
       "    </tr>\n",
       "  </thead>\n",
       "  <tbody>\n",
       "    <tr>\n",
       "      <th>0</th>\n",
       "      <td>643م - 709م</td>\n",
       "      <td>2</td>\n",
       "      <td>[643م, -, 709م]</td>\n",
       "      <td>[0.024262931, 0.0033126278, -0.014880531, -0.0...</td>\n",
       "    </tr>\n",
       "    <tr>\n",
       "      <th>1</th>\n",
       "      <td>القرن السابع</td>\n",
       "      <td>2</td>\n",
       "      <td>[القرن, السابع]</td>\n",
       "      <td>[0.0077785645, -0.0037653793, 0.0040574693, 0....</td>\n",
       "    </tr>\n",
       "    <tr>\n",
       "      <th>2</th>\n",
       "      <td>القرن الثالث</td>\n",
       "      <td>0</td>\n",
       "      <td>[القرن, الثالث]</td>\n",
       "      <td>[0.0015594547, 0.008713241, -0.0031978665, 0.0...</td>\n",
       "    </tr>\n",
       "    <tr>\n",
       "      <th>4</th>\n",
       "      <td>القرن الخامس</td>\n",
       "      <td>0</td>\n",
       "      <td>[القرن, الخامس]</td>\n",
       "      <td>[0.0046465937, -0.0039713774, -0.004082026, -0...</td>\n",
       "    </tr>\n",
       "    <tr>\n",
       "      <th>5</th>\n",
       "      <td>من ٦٤٣م الى ٧١٥م</td>\n",
       "      <td>1</td>\n",
       "      <td>[من, ٦٤٣م, الى, ٧١٥م]</td>\n",
       "      <td>[0.015998516, -0.00400648, 0.01811508, 0.01172...</td>\n",
       "    </tr>\n",
       "  </tbody>\n",
       "</table>\n",
       "</div>"
      ],
      "text/plain": [
       "             answer  grade                 tokens  \\\n",
       "0       643م - 709م      2        [643م, -, 709م]   \n",
       "1      القرن السابع      2        [القرن, السابع]   \n",
       "2      القرن الثالث      0        [القرن, الثالث]   \n",
       "4      القرن الخامس      0        [القرن, الخامس]   \n",
       "5  من ٦٤٣م الى ٧١٥م      1  [من, ٦٤٣م, الى, ٧١٥م]   \n",
       "\n",
       "                                          textvector  \n",
       "0  [0.024262931, 0.0033126278, -0.014880531, -0.0...  \n",
       "1  [0.0077785645, -0.0037653793, 0.0040574693, 0....  \n",
       "2  [0.0015594547, 0.008713241, -0.0031978665, 0.0...  \n",
       "4  [0.0046465937, -0.0039713774, -0.004082026, -0...  \n",
       "5  [0.015998516, -0.00400648, 0.01811508, 0.01172...  "
      ]
     },
     "execution_count": 47,
     "metadata": {},
     "output_type": "execute_result"
    }
   ],
   "source": [
    "df.head()"
   ]
  },
  {
   "cell_type": "markdown",
   "id": "22a8ed60",
   "metadata": {},
   "source": [
    "# split the data"
   ]
  },
  {
   "cell_type": "code",
   "execution_count": 48,
   "id": "3df3116d",
   "metadata": {},
   "outputs": [],
   "source": [
    "train_data = df.sample(frac=0.85, random_state=42)\n",
    "test_data = df.drop(train_data.index)"
   ]
  },
  {
   "cell_type": "code",
   "execution_count": 49,
   "id": "ff7cd537",
   "metadata": {},
   "outputs": [
    {
     "name": "stdout",
     "output_type": "stream",
     "text": [
      "[[-3.09541821e-04 -3.52380378e-03  5.02432790e-03  6.89765625e-03\n",
      "  -1.11213308e-02 -8.82127695e-03  1.09852049e-02  1.37699060e-02\n",
      "  -1.82892065e-02 -3.18379793e-03  1.06520560e-02  2.30834237e-03\n",
      "   9.62865725e-03  7.72009604e-04 -8.49328749e-03  1.44748576e-03\n",
      "   1.17127253e-02 -8.85700155e-03 -4.14713006e-03 -2.61040293e-02\n",
      "   1.33562237e-02 -3.70124122e-04  2.34664902e-02 -8.51176493e-03\n",
      "  -9.97671764e-03 -7.56667415e-03 -5.64558152e-03  6.79305010e-03\n",
      "  -1.00310100e-03  9.17180069e-03 -8.16733949e-03  3.48752923e-03\n",
      "   2.17638928e-02  8.30323994e-03  1.57353515e-03  1.04355048e-02\n",
      "   1.08503411e-03 -4.94045159e-03 -7.01513560e-03 -4.78848349e-03\n",
      "  -4.35864879e-03  1.48402923e-03 -1.74212884e-02  2.86310399e-03\n",
      "  -6.98994473e-03 -1.10997725e-02 -4.35644761e-03  1.50220061e-03\n",
      "   5.32004656e-03  9.93969198e-03 -1.08416257e-02  6.31122012e-03\n",
      "  -1.18568381e-02  4.42648726e-03  8.67468119e-03  4.02033649e-04\n",
      "  -5.75980172e-04 -1.17320726e-02 -5.36909979e-03  2.97022937e-03\n",
      "  -1.00945598e-02 -9.07485094e-03 -2.67775101e-03 -9.61828511e-03\n",
      "  -1.96665004e-02  8.38394649e-03 -3.53223272e-03 -4.00812458e-03\n",
      "  -6.71794172e-03  2.18059821e-03  8.67213123e-03  1.18230879e-02\n",
      "  -6.00145478e-03 -5.44435345e-04  3.04224389e-03  6.30621798e-04\n",
      "   2.09701061e-02 -6.09227782e-03 -8.56396370e-03  5.12884185e-03\n",
      "   5.07351942e-03  1.86463073e-02  1.06139686e-02  2.27689929e-02\n",
      "  -1.56139322e-02 -7.55395740e-06 -3.34293302e-03  8.54734890e-03\n",
      "   3.68708186e-03  1.22876726e-02  1.78213604e-02 -4.44323197e-03\n",
      "   5.30238380e-04 -2.18005339e-03 -2.47589406e-03 -3.38689121e-03\n",
      "   4.42540692e-03 -9.79499985e-03  1.03765987e-02  8.15758482e-04]\n",
      " [-2.16911570e-03 -9.64148063e-03  9.29826684e-03  2.01628637e-03\n",
      "  -1.15258072e-03 -5.55017916e-03 -8.47777072e-03 -9.82238818e-03\n",
      "   8.91953427e-03 -2.53163744e-03  4.55893576e-03 -4.55647474e-03\n",
      "   9.97845456e-03  3.69770778e-03  1.03438937e-03 -4.07872768e-03\n",
      "   1.26073021e-03 -2.65675015e-03  7.31338933e-03  4.38470300e-03\n",
      "   1.00945856e-03  3.49985110e-03  3.72009678e-03 -6.79264637e-03\n",
      "   8.92983843e-03  1.75233616e-03 -5.81702404e-03  8.65543634e-03\n",
      "  -1.32924586e-03  8.18964839e-03 -1.48172351e-03  6.97283633e-03\n",
      "   2.74651195e-03 -4.41700313e-03 -3.77141265e-03  9.25261527e-03\n",
      "   1.62191410e-03 -6.03055861e-03  3.38166399e-04 -1.99803896e-03\n",
      "   1.57797302e-03 -7.73217482e-03  7.38525856e-03  1.29762641e-03\n",
      "   7.88869988e-03  4.44544526e-03 -4.42909263e-03  3.73066566e-03\n",
      "  -6.23003754e-04 -9.83817317e-03  8.24169721e-03  9.61248670e-03\n",
      "   9.62250121e-03 -3.82358860e-03 -8.43873806e-03  4.84912051e-03\n",
      "  -7.65481684e-03  8.54304712e-03  2.70964205e-03  5.58048720e-03\n",
      "   6.12901896e-03  4.26078215e-04 -2.05601472e-03  8.07143049e-04\n",
      "   9.82858147e-03 -7.07259821e-03 -1.53437792e-03 -2.34686863e-03\n",
      "   4.81927814e-03  6.48441305e-03 -4.12640395e-03  3.63602652e-03\n",
      "  -4.46075061e-03  3.25891026e-03  8.19615461e-03  3.66600696e-03\n",
      "  -4.54888539e-03 -2.97822873e-03  7.85698835e-03  9.61100962e-03\n",
      "   5.79678454e-03 -3.28161172e-03 -1.85895711e-03 -6.21687993e-03\n",
      "  -4.29828884e-03  3.36359651e-03 -6.41495828e-03 -6.58114208e-03\n",
      "   8.13335646e-03  9.52283666e-03  8.18768982e-03  1.54289510e-03\n",
      "  -8.78334884e-03 -7.61431456e-03  1.59857958e-03 -9.52431560e-03\n",
      "  -7.40995118e-03  2.03240081e-03 -2.91606109e-03 -9.15350579e-03]\n",
      " [ 8.84103030e-03 -1.70954093e-02  1.19249243e-02 -4.43370407e-03\n",
      "  -3.01434584e-02 -1.04624312e-02  1.82924867e-02  2.60026865e-02\n",
      "  -1.97483115e-02 -1.98352300e-02  1.09057119e-02 -1.01336269e-02\n",
      "   6.02686405e-03  6.96686516e-03 -8.79638828e-03  1.35738738e-02\n",
      "   9.37789120e-03 -1.57604646e-03 -4.13895492e-03 -1.21389190e-02\n",
      "   1.27650471e-03 -8.98475759e-04  1.61448568e-02 -1.87323093e-02\n",
      "   7.91738927e-03  4.36384277e-03 -5.95716154e-03 -6.97565963e-03\n",
      "  -1.64167546e-02 -9.79115022e-04 -1.19283665e-02  3.82062956e-03\n",
      "   2.12122649e-02  1.26929954e-04  3.95577308e-03  3.31861223e-03\n",
      "   5.15216216e-03 -2.27234587e-02 -1.44509533e-02 -6.53594127e-03\n",
      "  -9.03758500e-03 -2.02218583e-03 -2.44876370e-02  1.95012577e-02\n",
      "   1.19872838e-02 -1.72458012e-02 -6.75158016e-03  5.30052930e-04\n",
      "  -1.32664656e-02  2.09508426e-02 -6.30487548e-03 -7.33755995e-04\n",
      "  -1.98969636e-02  3.09327943e-03  7.26149045e-03 -6.82561565e-03\n",
      "  -1.08023528e-02  2.74037989e-03 -6.85347477e-03 -2.54029967e-03\n",
      "  -1.74395554e-03  4.63011063e-04 -2.62692198e-03 -3.18646105e-03\n",
      "  -2.09030584e-02  8.27612914e-03 -1.29052512e-02  2.70779058e-03\n",
      "  -3.57371755e-04  8.52804445e-03 -8.68113711e-05  1.92073025e-02\n",
      "  -2.30469182e-03 -7.57788587e-03  1.37867350e-02  2.71369424e-02\n",
      "   6.37537520e-03 -9.67248343e-04 -6.15059957e-03  5.27797174e-03\n",
      "   5.80038410e-03  4.65699658e-03  3.39286122e-03  2.41582636e-02\n",
      "  -1.26548382e-02  9.14503541e-03  6.02721330e-03 -6.04449399e-03\n",
      "  -7.63088465e-04 -2.56022019e-03  8.19541793e-03  1.20747192e-02\n",
      "   2.74000480e-03  6.84000971e-03  1.48901418e-02 -4.52023186e-03\n",
      "   1.11396173e-02 -5.78830531e-03  6.24118047e-03  1.57790422e-03]\n",
      " [ 1.10728294e-02  1.11581748e-02  3.08980467e-03 -6.69240719e-03\n",
      "   1.57956127e-03 -5.84333576e-03  5.72388433e-03  1.89216472e-02\n",
      "   8.04329850e-03 -9.63363051e-03  1.12553239e-02 -1.49554405e-02\n",
      "  -1.18752606e-02  4.79393639e-03 -3.26488726e-03  2.14790087e-03\n",
      "   7.82671757e-03 -5.69684478e-03 -1.27419028e-02 -2.00784020e-02\n",
      "   1.10935578e-02  1.83476042e-03 -2.26017693e-03  3.15061770e-05\n",
      "   4.22059605e-03  9.40843485e-04  1.16815499e-03 -2.34836177e-03\n",
      "   3.25970957e-03 -1.05171427e-02 -1.80416405e-02 -4.40054666e-03\n",
      "   1.34529844e-02 -1.91129763e-02 -1.45179443e-02 -1.51051972e-02\n",
      "   2.06567831e-02 -6.98815472e-03  9.27935634e-03 -3.74307437e-03\n",
      "  -4.86489944e-03 -5.74016944e-03 -4.85552521e-03 -3.31844459e-03\n",
      "   3.07730772e-03  2.82194000e-04 -8.70075822e-03  7.40612438e-03\n",
      "   6.06591674e-03  2.24410780e-02 -1.04085365e-02  9.02070478e-03\n",
      "  -7.17312656e-03 -9.62217338e-03  1.27257975e-02 -3.38143110e-03\n",
      "   8.53801612e-03 -4.48211096e-04  1.77014724e-03  1.44634470e-02\n",
      "  -9.00463667e-04 -1.10559277e-02 -7.81585835e-03  6.28156355e-03\n",
      "   7.40165636e-03  1.87075343e-02 -9.11681447e-04 -6.19256217e-03\n",
      "  -1.34801562e-03 -3.93670797e-03 -9.52172466e-03  7.68466946e-03\n",
      "  -4.32796357e-03 -1.68461837e-02  1.42023037e-03 -2.39840848e-03\n",
      "   1.98802911e-02  4.73326212e-03  4.55977488e-03 -3.41083226e-03\n",
      "   8.79809726e-04  1.09551882e-03  7.91859813e-03  1.76674500e-03\n",
      "   6.50071539e-04  6.67951116e-03  1.09931296e-02  4.94927727e-03\n",
      "  -1.71647524e-03 -2.28663255e-03  3.58740939e-03  4.92605846e-03\n",
      "   4.04258166e-03 -3.04163620e-03  8.56619421e-03 -9.59405117e-03\n",
      "  -1.59130711e-03 -4.88504861e-03 -5.08387899e-03  7.23705161e-03]\n",
      " [-2.04653237e-02  1.14464210e-02  5.79890888e-03  8.60368274e-03\n",
      "   2.17655525e-02 -1.36400927e-02  1.15566757e-02  5.35466634e-02\n",
      "  -3.78894284e-02 -2.80369595e-02 -1.85185466e-02 -3.46884876e-02\n",
      "  -1.12636350e-02  1.17792925e-02  4.90211695e-03 -7.20877433e-03\n",
      "   1.14593608e-02  6.68245973e-03 -1.25104990e-02 -4.48333248e-02\n",
      "   1.27421087e-02 -1.13723120e-02  3.84764746e-02 -5.68008237e-03\n",
      "   5.95106743e-04  8.38389061e-03  1.35581046e-02  1.17914025e-02\n",
      "  -3.89909297e-02  1.53116928e-02  2.85227578e-02 -1.72981527e-02\n",
      "  -1.29553396e-02 -3.57442461e-02  3.31287342e-03  2.52884012e-02\n",
      "   2.87191812e-02  5.83714433e-03 -6.18030317e-03  9.68234241e-03\n",
      "   2.28002388e-02 -1.61188543e-02 -3.98697257e-02  6.62948377e-03\n",
      "   2.19174512e-02  5.60515095e-04 -1.19977016e-02  1.12692900e-02\n",
      "   2.95941159e-02  1.80233940e-02  7.75743695e-03 -1.02571314e-02\n",
      "   2.39236690e-02 -1.62072368e-02 -1.13372691e-03 -3.56413843e-03\n",
      "  -4.47919127e-04 -2.01231502e-02 -8.63488205e-03 -3.23635992e-03\n",
      "   1.45785436e-02  2.76195351e-04  2.12610215e-02 -1.09024495e-02\n",
      "  -5.80446189e-03  1.30378511e-02 -1.00000249e-03  3.55522484e-02\n",
      "  -1.01375543e-02  2.15865672e-03  2.62726787e-02  1.25373434e-02\n",
      "   1.28431944e-02  8.28218926e-03 -1.45832379e-03  6.80420594e-03\n",
      "   2.03824118e-02  2.09118817e-02  3.05251274e-02 -1.92354862e-02\n",
      "  -1.38518326e-02 -1.94296930e-02 -9.90230124e-03 -6.24084193e-03\n",
      "  -1.49582429e-02 -3.25471833e-02  1.72901675e-02 -2.81549664e-03\n",
      "   1.31937414e-02 -5.60660567e-03  1.50938854e-02  2.03377567e-02\n",
      "   2.17256844e-02  4.62291762e-03  5.07325828e-02  1.46563454e-02\n",
      "  -1.49117876e-02 -3.03700045e-02  8.79729725e-03 -1.27954911e-02]\n",
      " [-4.62973416e-02  4.22668345e-02  7.16619194e-03  2.71353535e-02\n",
      "  -3.89743503e-03 -2.69802399e-02  7.96142966e-03  1.85838751e-02\n",
      "  -7.47473463e-02 -1.27867293e-02 -2.73711216e-02 -5.72878569e-02\n",
      "   5.94843505e-03  2.58673239e-03  3.68519872e-02 -2.71632746e-02\n",
      "   1.34380199e-02 -1.68014951e-02 -1.23001207e-02 -4.38176543e-02\n",
      "   9.37423855e-03  2.70708799e-02  3.61460634e-02  2.22394690e-02\n",
      "   1.80669781e-03  3.58391516e-02 -1.21277012e-02  4.70815077e-02\n",
      "  -5.70847420e-03 -3.73107567e-02  5.87020116e-03 -6.94629364e-03\n",
      "  -1.44954417e-02 -1.65796336e-02  8.65085796e-03  3.52989286e-02\n",
      "   6.57261983e-02 -2.25190204e-02 -2.25648610e-03  2.76836008e-02\n",
      "   2.07847711e-02 -3.01764589e-02 -3.31048295e-02 -2.72351932e-02\n",
      "   1.64710339e-02 -9.34278127e-03 -2.50316747e-02 -6.18959265e-03\n",
      "   1.36462264e-02 -3.62796150e-02  5.05744480e-03 -3.28438869e-03\n",
      "   1.63641144e-02  1.76569186e-02 -1.54394433e-02  1.40853273e-03\n",
      "   1.32563468e-02 -1.66639760e-02  1.91963688e-02 -2.11210959e-02\n",
      "   4.91210120e-03 -2.01603062e-02  3.50439698e-02  9.08206217e-03\n",
      "  -1.44264754e-03  3.44991237e-02  1.50276246e-02  3.23360153e-02\n",
      "  -2.55322345e-02  6.17658496e-02 -1.67460591e-02  2.42501125e-02\n",
      "   2.21605543e-02  2.87463050e-03 -1.03187766e-02  3.79479118e-02\n",
      "  -1.67438388e-02  7.60752894e-03  1.36759821e-02 -9.90205444e-03\n",
      "  -3.66307199e-02 -3.85069512e-02  1.34930452e-02  2.20833570e-02\n",
      "  -1.13622164e-02  8.21672939e-03  1.20079303e-02  1.63056934e-03\n",
      "   1.44619858e-02 -5.76717779e-04  1.09039079e-02  3.35282832e-02\n",
      "  -3.07553937e-03 -3.74016427e-02  4.49680984e-02  3.41037586e-02\n",
      "   1.15785431e-02 -3.02991783e-03  5.36391512e-03 -2.13687541e-03]\n",
      " [ 6.97103189e-03  8.30939598e-03  7.10237026e-03  1.68962888e-02\n",
      "  -1.47336992e-02 -1.91540383e-02  1.30786970e-02  2.23653819e-02\n",
      "  -7.99688883e-03 -1.70967095e-02  1.66672878e-02  3.01628397e-03\n",
      "  -2.32008751e-03  8.89031775e-03 -4.58938768e-04 -8.34328774e-03\n",
      "  -3.29417828e-03  7.58592924e-03 -2.86063552e-02 -2.41152868e-02\n",
      "  -6.74233679e-03 -2.97949649e-04 -8.13124795e-03  5.87129686e-03\n",
      "  -1.14156371e-02 -2.27256604e-02  1.20531302e-03  2.23942427e-03\n",
      "  -1.02521423e-02 -1.53159313e-02 -8.13104969e-04 -8.79324134e-03\n",
      "   1.25329364e-02  1.02218101e-03 -8.66174465e-04 -4.12981398e-03\n",
      "   2.13163048e-02 -5.83576225e-03  1.50958844e-03 -6.09221496e-03\n",
      "  -1.83191057e-02 -2.13078759e-03 -6.65050047e-03  5.49805816e-03\n",
      "   4.39265929e-03 -1.83138419e-02  3.37951118e-03  5.11952676e-03\n",
      "   1.46110281e-02  1.98971033e-02  6.62574265e-03  1.00611895e-03\n",
      "   5.56008983e-03  3.80102545e-03  1.33577595e-03  1.03887729e-02\n",
      "   1.80188119e-02  4.37877234e-03 -6.78709382e-03  9.21872817e-03\n",
      "   8.18124041e-03  8.60512350e-03  2.36364244e-03 -1.69260353e-02\n",
      "  -1.71505939e-02  1.80209726e-02 -4.10990603e-03  5.88902505e-04\n",
      "  -8.27981718e-03  8.31381790e-03  3.41754174e-03  1.08792204e-02\n",
      "  -3.89558263e-04 -3.87185928e-03  1.51504865e-02  2.03370713e-02\n",
      "   7.73163419e-03  1.80565398e-02 -8.88503343e-03 -1.31844180e-02\n",
      "   6.23522792e-04  1.64295994e-02 -8.18162691e-03  8.04394763e-03\n",
      "  -5.75689599e-04  1.42078754e-02  6.06982503e-05 -9.87002999e-03\n",
      "   8.24761204e-03  2.81217657e-02  1.19878259e-03 -8.25303607e-03\n",
      "  -4.63337358e-03  1.27127580e-02  2.78344341e-02 -1.28111737e-02\n",
      "  -4.57845116e-03 -1.86850484e-02 -7.68809160e-03 -7.99967721e-03]\n",
      " [ 1.16400060e-03 -6.76188758e-03  8.27221014e-03 -1.51955206e-02\n",
      "  -1.21038500e-03  1.69017189e-03 -1.01838424e-03  1.06645031e-02\n",
      "   6.51969993e-03 -3.63484584e-03 -1.17547903e-02  3.13726952e-03\n",
      "  -8.68394505e-03 -9.94279049e-03 -7.39356223e-03 -4.95350920e-04\n",
      "  -2.55219988e-04 -2.20440747e-03 -1.70288794e-03 -8.67571123e-03\n",
      "  -7.61508336e-03  8.96111317e-03 -6.81555970e-03  9.52794775e-03\n",
      "   1.01635524e-04  1.12171890e-02 -1.62777267e-02  1.63758080e-02\n",
      "  -4.74005006e-03  1.39893834e-02 -1.70757174e-02  6.85240328e-03\n",
      "  -7.17218313e-03 -3.26925283e-03 -6.31165551e-03 -1.28017431e-02\n",
      "  -7.94892013e-03 -7.96447974e-03  6.41851593e-03 -1.82711857e-03\n",
      "  -5.83771616e-03  9.23440326e-04  5.80186956e-03  3.24750412e-03\n",
      "   2.22500414e-04 -4.45312494e-03  4.28829622e-03  2.51784828e-03\n",
      "  -1.33234039e-02  8.31154268e-03  3.34083522e-03 -6.61826646e-03\n",
      "   4.70106909e-03 -8.85730982e-03 -2.75687850e-03 -6.18678238e-03\n",
      "  -2.88098748e-03  8.64494778e-03  2.73767766e-03  1.13341138e-02\n",
      "  -1.33845489e-02 -1.36416722e-02  2.35154526e-03  3.88913206e-03\n",
      "   4.48729517e-03  8.59331526e-03  1.87355392e-02  5.79357101e-03\n",
      "  -1.25050172e-02 -7.61284493e-04  1.50418039e-02  1.28270965e-02\n",
      "   1.01451967e-02  1.21059222e-03  1.28842378e-03  2.40275497e-03\n",
      "  -3.56772589e-03 -4.61090822e-04  1.39235146e-03 -6.79587387e-03\n",
      "  -7.48174172e-03  1.45599879e-02  3.19789560e-03  1.70186944e-02\n",
      "   2.25721020e-03 -2.41380115e-03  1.67533159e-02  1.98217900e-03\n",
      "  -6.86095702e-03  1.67613651e-03  1.24435071e-02  3.31897079e-03\n",
      "  -1.84417702e-04 -1.11293085e-02  6.01867214e-06  3.64574022e-03\n",
      "   9.82335582e-03 -2.61542341e-03  9.00511816e-03  1.74029283e-02]\n",
      " [-9.84352082e-03  4.39078733e-03  1.46211181e-02  2.77257375e-02\n",
      "  -7.69884465e-03 -6.32452499e-03  1.66840330e-02  6.65834174e-03\n",
      "  -1.27219884e-02 -1.13405678e-02  1.89439971e-02 -1.50319431e-02\n",
      "   4.98782145e-03  1.74975526e-02 -5.28790290e-03 -2.02010153e-03\n",
      "   3.94368870e-03 -3.07702739e-03 -1.68564878e-02 -1.78202353e-02\n",
      "   1.16591528e-03  6.28393469e-03  2.49666944e-02  3.21160769e-03\n",
      "   1.27305258e-02  1.13042556e-02 -1.32675003e-02  3.39708291e-04\n",
      "  -1.12507399e-02 -2.05310546e-02 -2.16083741e-03  3.89394676e-03\n",
      "   1.17484890e-02  1.24572441e-02 -9.26748104e-03  7.37169664e-03\n",
      "   5.52336872e-03 -1.60738304e-02 -3.98667529e-03 -2.79226974e-02\n",
      "  -1.34140132e-02  6.00768626e-03  1.71179231e-03 -1.55145684e-02\n",
      "   6.52169110e-04  9.55637544e-04 -1.85166709e-02  4.96368250e-03\n",
      "   4.29478567e-03  9.99543350e-03 -1.20161492e-02 -6.96713571e-04\n",
      "  -1.56320967e-02 -5.94428461e-03  1.05795544e-03 -2.16124710e-02\n",
      "   7.98053108e-03 -2.25061961e-02 -1.26249278e-02 -1.06666256e-02\n",
      "  -1.21297780e-03 -7.40928063e-03  1.77829843e-02  7.20001757e-04\n",
      "  -2.06119139e-02  3.96324089e-03 -3.51022696e-03  1.18191168e-02\n",
      "  -1.53166093e-02  1.02004008e-02  3.30480235e-03  1.36404559e-02\n",
      "   3.05281067e-03  8.59777257e-03  1.28523465e-02 -2.81780493e-03\n",
      "  -2.69250525e-03 -7.43832113e-03 -1.02284336e-02 -3.14321974e-03\n",
      "   4.37370734e-03 -3.52416188e-03  1.15038780e-02  3.84929217e-03\n",
      "  -4.28109895e-03 -1.13967303e-02  2.40938328e-02 -1.40991593e-02\n",
      "  -1.37937609e-02  1.30286822e-02  2.03807233e-03  1.02650505e-02\n",
      "   9.22920741e-03  1.41569041e-03  2.08166465e-02  2.26284899e-02\n",
      "   2.87943287e-03 -5.25746308e-03 -4.32068203e-03  8.84214975e-03]\n",
      " [-3.59294489e-02  1.72785819e-02 -3.75742884e-03  5.31509984e-03\n",
      "   8.00399017e-03 -2.34989803e-02  1.12699075e-02  3.78488004e-02\n",
      "  -3.70974131e-02 -2.84933131e-02 -1.43360272e-02 -1.92714930e-02\n",
      "  -1.69831105e-02  1.17209181e-03  1.27327200e-02  5.71386423e-04\n",
      "   2.50533298e-02  5.23789646e-03 -2.01061182e-02 -5.79805635e-02\n",
      "   1.97435450e-02 -2.64505623e-04  3.82592343e-02  2.73933471e-03\n",
      "   6.08376879e-03  1.23016536e-02 -6.00085314e-03  6.00238889e-03\n",
      "  -3.29755954e-02  2.27043144e-02  3.28636095e-02 -1.13332905e-02\n",
      "  -3.60667799e-03 -5.06879948e-02  7.60316197e-03  2.64143739e-02\n",
      "   1.02977837e-02  2.17267815e-02 -1.85269443e-03  1.53521309e-03\n",
      "   2.61130407e-02 -2.71476284e-02 -2.88942885e-02  2.00854652e-02\n",
      "   2.84246579e-02 -9.07566771e-03 -2.15461180e-02  3.78935132e-03\n",
      "   3.27311531e-02  1.08285807e-02  8.16900376e-03 -2.33300403e-03\n",
      "   6.87210541e-03 -7.49494601e-03 -9.40848980e-03  3.66540859e-04\n",
      "   5.64168021e-03 -1.89539213e-02 -1.94159579e-02  1.11205298e-02\n",
      "   1.77396983e-02  6.54203724e-03  2.45349910e-02  4.02717665e-03\n",
      "   1.00379176e-02  2.04720162e-02  1.18111419e-02  4.03757393e-02\n",
      "   1.76337641e-03 -7.91661069e-03  2.15545744e-02  1.50758754e-02\n",
      "   9.36355814e-03  1.73266716e-02  1.55506944e-02  1.55123174e-02\n",
      "   1.96061470e-02  1.80351883e-02  3.00366431e-02 -2.25685835e-02\n",
      "  -2.11306997e-02 -1.91174001e-02  7.22262682e-03 -2.25253124e-03\n",
      "  -5.95861953e-03 -2.48973295e-02  2.38864832e-02  1.21838031e-02\n",
      "   1.42025668e-02 -1.52227022e-02  2.22872011e-02  2.88755447e-02\n",
      "   2.45825723e-02 -5.83286630e-03  4.17275913e-02  1.24857193e-02\n",
      "  -1.03961118e-03 -2.65571643e-02  4.02129348e-03  6.19472936e-04]]\n"
     ]
    }
   ],
   "source": [
    "X_train = np.array(train_data['textvector'].tolist())\n",
    "Y_train = np.array(train_data['grade'])\n",
    "\n",
    "X_test = np.array(test_data['textvector'].tolist())\n",
    "Y_test = np.array(test_data['grade'])\n",
    "print(X_test)"
   ]
  },
  {
   "cell_type": "markdown",
   "id": "73b1a014",
   "metadata": {},
   "source": [
    "# build Models "
   ]
  },
  {
   "cell_type": "code",
   "execution_count": 50,
   "id": "493a5eba",
   "metadata": {},
   "outputs": [],
   "source": [
    "def getModel(name):\n",
    "    if name == 'svm_linear':\n",
    "        model_svm_linear = SVC(kernel='linear' ,probability=True)\n",
    "        model_svm_linear.fit(X_train, Y_train)\n",
    "        return model_svm_linear\n",
    "    elif name == 'svm_rbf':\n",
    "        model_svm_rbf = SVC(kernel='rbf' , probability=True)\n",
    "        model_svm_rbf.fit(X_train, Y_train)\n",
    "        return model_svm_rbf\n",
    "    elif name == 'random_forest':\n",
    "        model_rf = RandomForestClassifier(n_estimators=100, random_state=42)\n",
    "        model_rf.fit(X_train, Y_train)\n",
    "        return model_rf\n",
    "    elif name == 'knn':\n",
    "        model_knn = KNeighborsClassifier(n_neighbors=3)\n",
    "        model_knn.fit(X_train, Y_train)\n",
    "        return model_knn\n",
    "    elif name == 'naive_bayes':\n",
    "        model_nb = GaussianNB()\n",
    "        model_nb.fit(X_train, Y_train)\n",
    "        return model_nb\n",
    "    elif name == 'bagging':\n",
    "        # Créer le modèle de base\n",
    "        base_model = KNeighborsClassifier(n_neighbors=3)\n",
    "        model_bagging = BaggingClassifier(base_estimator=base_model, n_estimators=10, random_state=42)\n",
    "        # Entraîner le modèle Bagging\n",
    "        model_bagging.fit(X_train, Y_train)\n",
    "        return model_bagging\n",
    "    elif name == 'ann':\n",
    "        # MLP: création + entrainement\n",
    "        model_ANN = MLPClassifier(hidden_layer_sizes=(15, 10), random_state=1, max_iter=800)\n",
    "        model_ANN.fit(X_train , Y_train)\n",
    "        return model_ANN\n",
    "    else:\n",
    "        raise ValueError(\"Invalid model name. Please choose from 'svm', 'random_forest', 'knn', or 'naive_bayes'.\")\n"
   ]
  },
  {
   "cell_type": "code",
   "execution_count": 51,
   "id": "d97c45d3",
   "metadata": {},
   "outputs": [],
   "source": [
    "# construire le model \n",
    "model_svm_lin = getModel('svm_linear')\n",
    "# predire les donnees de Test\n",
    "Y_pred_svm_lin = model_svm_lin.predict_proba(X_test)"
   ]
  },
  {
   "cell_type": "code",
   "execution_count": 52,
   "id": "4a1301e8",
   "metadata": {},
   "outputs": [],
   "source": [
    "# construire le model \n",
    "model_svm_rbf = getModel('svm_rbf')\n",
    "# predire les donnees de Test\n",
    "Y_pred_svm_rbf = model_svm_rbf.predict_proba(X_test)"
   ]
  },
  {
   "cell_type": "code",
   "execution_count": 53,
   "id": "d5cc9432",
   "metadata": {},
   "outputs": [],
   "source": [
    "# construire le model \n",
    "model_rf = getModel('random_forest')\n",
    "# predire les donnees de Test\n",
    "Y_pred_rf = model_rf.predict_proba(X_test)"
   ]
  },
  {
   "cell_type": "code",
   "execution_count": 54,
   "id": "adade476",
   "metadata": {},
   "outputs": [],
   "source": [
    "# construire le model \n",
    "model_knn = getModel('knn')\n",
    "# predire les donnees de Test\n",
    "Y_pred_knn = model_knn.predict_proba(X_test)"
   ]
  },
  {
   "cell_type": "code",
   "execution_count": 55,
   "id": "5ac8af74",
   "metadata": {},
   "outputs": [],
   "source": [
    "# construire le model \n",
    "model_nb = getModel('naive_bayes')\n",
    "# predire les donnees de Test\n",
    "Y_pred_nb = model_nb.predict_proba(X_test)"
   ]
  },
  {
   "cell_type": "code",
   "execution_count": 56,
   "id": "27d00b84",
   "metadata": {},
   "outputs": [],
   "source": [
    "# construire le model \n",
    "model_ann = getModel(\"ann\")\n",
    "# predire les donnees de Test\n",
    "Y_pred_ann = model_ann.predict_proba(X_test)"
   ]
  },
  {
   "cell_type": "code",
   "execution_count": 57,
   "id": "09fb9c0f",
   "metadata": {},
   "outputs": [],
   "source": [
    "# construire le model \n",
    "model_bagging  = getModel('bagging')\n",
    "# predire les donnees de Test\n",
    "Y_pred_bagging = model_bagging.predict_proba(X_test)"
   ]
  },
  {
   "cell_type": "markdown",
   "id": "ca6aea06",
   "metadata": {},
   "source": [
    "# Models Evaluation"
   ]
  },
  {
   "cell_type": "code",
   "execution_count": 58,
   "id": "be63a662",
   "metadata": {},
   "outputs": [],
   "source": [
    "models = [\n",
    "  getModel('svm_linear'),\n",
    "  getModel('svm_rbf'),\n",
    "  getModel('random_forest'),\n",
    "  getModel('knn'),\n",
    "  getModel('naive_bayes'),\n",
    "  getModel(\"ann\"),\n",
    "  getModel('bagging')\n",
    "]\n",
    "models_names = [\n",
    "    'SVM Linear',\n",
    "    'SVM RBF',\n",
    "    'Random Forest',\n",
    "    'KNN',\n",
    "    'Naive Bayes',\n",
    "    'ANN',\n",
    "    'Ensemble Learning (Bagging)'\n",
    "]\n",
    "predicted_Xtest_proba = [\n",
    "    Y_pred_svm_lin,\n",
    "    Y_pred_svm_rbf,\n",
    "    Y_pred_rf,\n",
    "    Y_pred_knn,\n",
    "    Y_pred_nb,\n",
    "    Y_pred_ann,\n",
    "    Y_pred_bagging\n",
    "]"
   ]
  },
  {
   "cell_type": "code",
   "execution_count": 59,
   "id": "957cde67",
   "metadata": {},
   "outputs": [],
   "source": [
    "def getAccuracy(models):\n",
    "  accuracies = []\n",
    "  for model in models:\n",
    "    Y_Test_predi = model.predict(X_test)\n",
    "    accuracy = accuracy_score(Y_test, Y_Test_predi)\n",
    "    accuracies.append(accuracy)\n",
    "\n",
    "  return accuracies"
   ]
  },
  {
   "cell_type": "code",
   "execution_count": 60,
   "id": "1933e833",
   "metadata": {
    "scrolled": true
   },
   "outputs": [
    {
     "name": "stdout",
     "output_type": "stream",
     "text": [
      "accuracy SVM Linear :  0.6\n",
      "accuracy SVM RBF :  0.7\n",
      "accuracy Random Forest :  0.8\n",
      "accuracy KNN :  0.7\n",
      "accuracy Naive Bayes :  0.7\n",
      "accuracy ANN :  0.8\n",
      "accuracy Ensemble Learning (Bagging) :  0.8\n"
     ]
    }
   ],
   "source": [
    "accuracies = getAccuracy(models)\n",
    "i=0\n",
    "for model in models_names:\n",
    "    print(f\"accuracy {model} :  {accuracies[i]}\")\n",
    "    i += 1"
   ]
  },
  {
   "cell_type": "code",
   "execution_count": 61,
   "id": "05218892",
   "metadata": {},
   "outputs": [
    {
     "name": "stdout",
     "output_type": "stream",
     "text": [
      "SVM Linear  Aire sous la courbe ROC: 0.8125\n",
      "SVM RBF  Aire sous la courbe ROC: 0.951388888888889\n",
      "Random Forest  Aire sous la courbe ROC: 0.9097222222222223\n",
      "KNN  Aire sous la courbe ROC: 0.9409722222222223\n",
      "Naive Bayes  Aire sous la courbe ROC: 0.8611111111111112\n",
      "ANN  Aire sous la courbe ROC: 0.9652777777777778\n",
      "Ensemble Learning (Bagging)  Aire sous la courbe ROC: 1.0\n"
     ]
    }
   ],
   "source": [
    "i=0\n",
    "for  Y_test_pred_prob in predicted_Xtest_proba:\n",
    "#     Y_test_pred = Y_test_pred.reshape(-1, 1)\n",
    "    auc_roc = roc_auc_score(Y_test, Y_test_pred_prob , multi_class='ovr')\n",
    "    print(f\"{models_names[i]}  Aire sous la courbe ROC:\", auc_roc)\n",
    "    i += 1"
   ]
  },
  {
   "cell_type": "markdown",
   "id": "f7b3ff11",
   "metadata": {},
   "source": [
    "# the best Model"
   ]
  },
  {
   "cell_type": "code",
   "execution_count": 62,
   "id": "ca0db268",
   "metadata": {},
   "outputs": [],
   "source": [
    "max_index = np.argmax(accuracies)\n",
    "best_model = models[max_index]"
   ]
  },
  {
   "cell_type": "code",
   "execution_count": 63,
   "id": "7684801a",
   "metadata": {},
   "outputs": [
    {
     "data": {
      "text/html": [
       "<div>\n",
       "<style scoped>\n",
       "    .dataframe tbody tr th:only-of-type {\n",
       "        vertical-align: middle;\n",
       "    }\n",
       "\n",
       "    .dataframe tbody tr th {\n",
       "        vertical-align: top;\n",
       "    }\n",
       "\n",
       "    .dataframe thead th {\n",
       "        text-align: right;\n",
       "    }\n",
       "</style>\n",
       "<table border=\"1\" class=\"dataframe\">\n",
       "  <thead>\n",
       "    <tr style=\"text-align: right;\">\n",
       "      <th></th>\n",
       "      <th>Real</th>\n",
       "      <th>Predicted</th>\n",
       "    </tr>\n",
       "  </thead>\n",
       "  <tbody>\n",
       "    <tr>\n",
       "      <th>0</th>\n",
       "      <td>0</td>\n",
       "      <td>0</td>\n",
       "    </tr>\n",
       "    <tr>\n",
       "      <th>1</th>\n",
       "      <td>2</td>\n",
       "      <td>1</td>\n",
       "    </tr>\n",
       "    <tr>\n",
       "      <th>2</th>\n",
       "      <td>2</td>\n",
       "      <td>0</td>\n",
       "    </tr>\n",
       "    <tr>\n",
       "      <th>3</th>\n",
       "      <td>1</td>\n",
       "      <td>1</td>\n",
       "    </tr>\n",
       "    <tr>\n",
       "      <th>4</th>\n",
       "      <td>2</td>\n",
       "      <td>2</td>\n",
       "    </tr>\n",
       "    <tr>\n",
       "      <th>5</th>\n",
       "      <td>1</td>\n",
       "      <td>1</td>\n",
       "    </tr>\n",
       "    <tr>\n",
       "      <th>6</th>\n",
       "      <td>2</td>\n",
       "      <td>2</td>\n",
       "    </tr>\n",
       "    <tr>\n",
       "      <th>7</th>\n",
       "      <td>0</td>\n",
       "      <td>0</td>\n",
       "    </tr>\n",
       "    <tr>\n",
       "      <th>8</th>\n",
       "      <td>2</td>\n",
       "      <td>2</td>\n",
       "    </tr>\n",
       "    <tr>\n",
       "      <th>9</th>\n",
       "      <td>2</td>\n",
       "      <td>2</td>\n",
       "    </tr>\n",
       "  </tbody>\n",
       "</table>\n",
       "</div>"
      ],
      "text/plain": [
       "   Real   Predicted\n",
       "0      0          0\n",
       "1      2          1\n",
       "2      2          0\n",
       "3      1          1\n",
       "4      2          2\n",
       "5      1          1\n",
       "6      2          2\n",
       "7      0          0\n",
       "8      2          2\n",
       "9      2          2"
      ]
     },
     "execution_count": 63,
     "metadata": {},
     "output_type": "execute_result"
    }
   ],
   "source": [
    "pd.DataFrame({\"Real \": Y_test , \"Predicted\" : best_model.predict(X_test)})"
   ]
  },
  {
   "cell_type": "markdown",
   "id": "cc97ec21",
   "metadata": {},
   "source": [
    "# saving the best model"
   ]
  },
  {
   "cell_type": "code",
   "execution_count": 64,
   "id": "ff343d9f",
   "metadata": {},
   "outputs": [],
   "source": [
    "model_path = '../saved_models/model_question8.h5'\n",
    "with open(model_path, 'wb') as file:\n",
    "    pickle.dump((best_model, model_word2vec), file)"
   ]
  },
  {
   "cell_type": "markdown",
   "id": "89f382c5",
   "metadata": {},
   "source": [
    "# Test Model"
   ]
  },
  {
   "cell_type": "code",
   "execution_count": 65,
   "id": "ce5db3ae",
   "metadata": {},
   "outputs": [
    {
     "name": "stdout",
     "output_type": "stream",
     "text": [
      "--------------  Testing  ---------------\n"
     ]
    },
    {
     "ename": "KeyboardInterrupt",
     "evalue": "Interrupted by user",
     "output_type": "error",
     "traceback": [
      "\u001b[1;31m---------------------------------------------------------------------------\u001b[0m",
      "\u001b[1;31mKeyboardInterrupt\u001b[0m                         Traceback (most recent call last)",
      "Cell \u001b[1;32mIn[65], line 5\u001b[0m\n\u001b[0;32m      2\u001b[0m \u001b[38;5;28;01mwhile\u001b[39;00m \u001b[38;5;28;01mTrue\u001b[39;00m:\n\u001b[0;32m      3\u001b[0m     \u001b[38;5;28mprint\u001b[39m(\u001b[38;5;124m\"\u001b[39m\u001b[38;5;124m--------------  Testing  ---------------\u001b[39m\u001b[38;5;124m\"\u001b[39m)\n\u001b[1;32m----> 5\u001b[0m     answer \u001b[38;5;241m=\u001b[39m \u001b[38;5;28;43minput\u001b[39;49m\u001b[43m(\u001b[49m\u001b[38;5;124;43m'\u001b[39;49m\u001b[38;5;124;43mالاجابه: \u001b[39;49m\u001b[38;5;124;43m'\u001b[39;49m\u001b[43m)\u001b[49m\n\u001b[0;32m      6\u001b[0m     process \u001b[38;5;241m=\u001b[39m txt_preprocess(answer)\n\u001b[0;32m      7\u001b[0m     txt \u001b[38;5;241m=\u001b[39m get_word_vector(process, model_word2vec)\n",
      "File \u001b[1;32m~\\AppData\\Roaming\\Python\\Python310\\site-packages\\ipykernel\\kernelbase.py:1191\u001b[0m, in \u001b[0;36mKernel.raw_input\u001b[1;34m(self, prompt)\u001b[0m\n\u001b[0;32m   1189\u001b[0m     msg \u001b[38;5;241m=\u001b[39m \u001b[38;5;124m\"\u001b[39m\u001b[38;5;124mraw_input was called, but this frontend does not support input requests.\u001b[39m\u001b[38;5;124m\"\u001b[39m\n\u001b[0;32m   1190\u001b[0m     \u001b[38;5;28;01mraise\u001b[39;00m StdinNotImplementedError(msg)\n\u001b[1;32m-> 1191\u001b[0m \u001b[38;5;28;01mreturn\u001b[39;00m \u001b[38;5;28;43mself\u001b[39;49m\u001b[38;5;241;43m.\u001b[39;49m\u001b[43m_input_request\u001b[49m\u001b[43m(\u001b[49m\n\u001b[0;32m   1192\u001b[0m \u001b[43m    \u001b[49m\u001b[38;5;28;43mstr\u001b[39;49m\u001b[43m(\u001b[49m\u001b[43mprompt\u001b[49m\u001b[43m)\u001b[49m\u001b[43m,\u001b[49m\n\u001b[0;32m   1193\u001b[0m \u001b[43m    \u001b[49m\u001b[38;5;28;43mself\u001b[39;49m\u001b[38;5;241;43m.\u001b[39;49m\u001b[43m_parent_ident\u001b[49m\u001b[43m[\u001b[49m\u001b[38;5;124;43m\"\u001b[39;49m\u001b[38;5;124;43mshell\u001b[39;49m\u001b[38;5;124;43m\"\u001b[39;49m\u001b[43m]\u001b[49m\u001b[43m,\u001b[49m\n\u001b[0;32m   1194\u001b[0m \u001b[43m    \u001b[49m\u001b[38;5;28;43mself\u001b[39;49m\u001b[38;5;241;43m.\u001b[39;49m\u001b[43mget_parent\u001b[49m\u001b[43m(\u001b[49m\u001b[38;5;124;43m\"\u001b[39;49m\u001b[38;5;124;43mshell\u001b[39;49m\u001b[38;5;124;43m\"\u001b[39;49m\u001b[43m)\u001b[49m\u001b[43m,\u001b[49m\n\u001b[0;32m   1195\u001b[0m \u001b[43m    \u001b[49m\u001b[43mpassword\u001b[49m\u001b[38;5;241;43m=\u001b[39;49m\u001b[38;5;28;43;01mFalse\u001b[39;49;00m\u001b[43m,\u001b[49m\n\u001b[0;32m   1196\u001b[0m \u001b[43m\u001b[49m\u001b[43m)\u001b[49m\n",
      "File \u001b[1;32m~\\AppData\\Roaming\\Python\\Python310\\site-packages\\ipykernel\\kernelbase.py:1234\u001b[0m, in \u001b[0;36mKernel._input_request\u001b[1;34m(self, prompt, ident, parent, password)\u001b[0m\n\u001b[0;32m   1231\u001b[0m \u001b[38;5;28;01mexcept\u001b[39;00m \u001b[38;5;167;01mKeyboardInterrupt\u001b[39;00m:\n\u001b[0;32m   1232\u001b[0m     \u001b[38;5;66;03m# re-raise KeyboardInterrupt, to truncate traceback\u001b[39;00m\n\u001b[0;32m   1233\u001b[0m     msg \u001b[38;5;241m=\u001b[39m \u001b[38;5;124m\"\u001b[39m\u001b[38;5;124mInterrupted by user\u001b[39m\u001b[38;5;124m\"\u001b[39m\n\u001b[1;32m-> 1234\u001b[0m     \u001b[38;5;28;01mraise\u001b[39;00m \u001b[38;5;167;01mKeyboardInterrupt\u001b[39;00m(msg) \u001b[38;5;28;01mfrom\u001b[39;00m \u001b[38;5;28mNone\u001b[39m\n\u001b[0;32m   1235\u001b[0m \u001b[38;5;28;01mexcept\u001b[39;00m \u001b[38;5;167;01mException\u001b[39;00m:\n\u001b[0;32m   1236\u001b[0m     \u001b[38;5;28mself\u001b[39m\u001b[38;5;241m.\u001b[39mlog\u001b[38;5;241m.\u001b[39mwarning(\u001b[38;5;124m\"\u001b[39m\u001b[38;5;124mInvalid Message:\u001b[39m\u001b[38;5;124m\"\u001b[39m, exc_info\u001b[38;5;241m=\u001b[39m\u001b[38;5;28;01mTrue\u001b[39;00m)\n",
      "\u001b[1;31mKeyboardInterrupt\u001b[0m: Interrupted by user"
     ]
    }
   ],
   "source": [
    "i=1\n",
    "while True:\n",
    "    print(\"--------------  Testing  ---------------\")\n",
    "    \n",
    "    answer = input('الاجابه: ')\n",
    "    process = txt_preprocess(answer)\n",
    "    txt = get_word_vector(process, model_word2vec)\n",
    "    txt = txt.reshape(1, -1)\n",
    "    predicted_ques = best_model.predict(txt)[0]\n",
    "    print(f'Grade of Answer Is : {predicted_ques}')\n",
    "    \n",
    "    exit = int(input(\"Enter Zero To Exit From System  OR One To Run The Program : \\n\"))\n",
    "    if exit == 0:\n",
    "        print('Exit From System...','Thank You')\n",
    "        break\n",
    "    else:\n",
    "        continue   \n",
    "        print('\\n')"
   ]
  },
  {
   "cell_type": "code",
   "execution_count": null,
   "id": "4247c261",
   "metadata": {},
   "outputs": [],
   "source": []
  },
  {
   "cell_type": "code",
   "execution_count": null,
   "id": "96af8809",
   "metadata": {},
   "outputs": [],
   "source": []
  }
 ],
 "metadata": {
  "kernelspec": {
   "display_name": "Python 3 (ipykernel)",
   "language": "python",
   "name": "python3"
  },
  "language_info": {
   "codemirror_mode": {
    "name": "ipython",
    "version": 3
   },
   "file_extension": ".py",
   "mimetype": "text/x-python",
   "name": "python",
   "nbconvert_exporter": "python",
   "pygments_lexer": "ipython3",
   "version": "3.10.5"
  }
 },
 "nbformat": 4,
 "nbformat_minor": 5
}
