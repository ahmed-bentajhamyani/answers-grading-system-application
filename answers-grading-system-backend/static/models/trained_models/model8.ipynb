{
 "cells": [
  {
   "cell_type": "markdown",
   "id": "74395077",
   "metadata": {},
   "source": [
    "# Import Libraries"
   ]
  },
  {
   "cell_type": "code",
   "execution_count": 224,
   "id": "2db1ad22",
   "metadata": {},
   "outputs": [],
   "source": [
    "import pandas as pd\n",
    "import numpy as np\n",
    "import matplotlib.pyplot as plt\n",
    "import seaborn as sns\n",
    "import string \n",
    "from nltk.corpus import stopwords\n",
    "from nltk.stem.isri import ISRIStemmer\n",
    "from sklearn.model_selection import train_test_split\n",
    "import tensorflow as tf \n",
    "from keras.preprocessing.text import Tokenizer\n",
    "from tensorflow.keras.preprocessing.sequence import pad_sequences\n",
    "from keras.models import Sequential\n",
    "from keras.layers import Embedding, LSTM, Dense, Dropout\n",
    "from sklearn.model_selection import cross_val_score\n",
    "from sklearn.metrics import accuracy_score\n",
    "from sklearn.metrics import roc_auc_score\n",
    "\n",
    "# from keras.models import Sequential\n",
    "from sklearn.svm import SVC\n",
    "from sklearn.ensemble import RandomForestClassifier\n",
    "from sklearn.neighbors import KNeighborsClassifier\n",
    "from sklearn.naive_bayes import GaussianNB\n",
    "from sklearn.ensemble import BaggingClassifier\n",
    "from sklearn.neural_network import MLPClassifier\n",
    "\n",
    "\n",
    "import nltk\n",
    "from nltk.tokenize import word_tokenize\n",
    "from gensim.models import Word2Vec\n",
    "import pickle "
   ]
  },
  {
   "cell_type": "code",
   "execution_count": 225,
   "id": "64e006be",
   "metadata": {},
   "outputs": [],
   "source": [
    "import warnings\n",
    "warnings.filterwarnings('ignore')"
   ]
  },
  {
   "cell_type": "markdown",
   "id": "cea978ea",
   "metadata": {},
   "source": [
    "# Load Data"
   ]
  },
  {
   "cell_type": "code",
   "execution_count": 226,
   "id": "034bf77f",
   "metadata": {
    "scrolled": true
   },
   "outputs": [
    {
     "data": {
      "text/html": [
       "<div>\n",
       "<style scoped>\n",
       "    .dataframe tbody tr th:only-of-type {\n",
       "        vertical-align: middle;\n",
       "    }\n",
       "\n",
       "    .dataframe tbody tr th {\n",
       "        vertical-align: top;\n",
       "    }\n",
       "\n",
       "    .dataframe thead th {\n",
       "        text-align: right;\n",
       "    }\n",
       "</style>\n",
       "<table border=\"1\" class=\"dataframe\">\n",
       "  <thead>\n",
       "    <tr style=\"text-align: right;\">\n",
       "      <th></th>\n",
       "      <th>question_id</th>\n",
       "      <th>answer</th>\n",
       "      <th>grade</th>\n",
       "    </tr>\n",
       "  </thead>\n",
       "  <tbody>\n",
       "    <tr>\n",
       "      <th>0</th>\n",
       "      <td>8</td>\n",
       "      <td>643م - 709م</td>\n",
       "      <td>2</td>\n",
       "    </tr>\n",
       "    <tr>\n",
       "      <th>1</th>\n",
       "      <td>8</td>\n",
       "      <td>القرن السابع</td>\n",
       "      <td>2</td>\n",
       "    </tr>\n",
       "    <tr>\n",
       "      <th>2</th>\n",
       "      <td>8</td>\n",
       "      <td>القرن الثالث</td>\n",
       "      <td>0</td>\n",
       "    </tr>\n",
       "  </tbody>\n",
       "</table>\n",
       "</div>"
      ],
      "text/plain": [
       "   question_id        answer  grade\n",
       "0            8   643م - 709م      2\n",
       "1            8  القرن السابع      2\n",
       "2            8  القرن الثالث      0"
      ]
     },
     "execution_count": 226,
     "metadata": {},
     "output_type": "execute_result"
    }
   ],
   "source": [
    "# read csv file into pandas\n",
    "df = pd.read_csv(\"../datasets/question8.csv\")\n",
    "df.head(3)"
   ]
  },
  {
   "cell_type": "markdown",
   "id": "5984b4ed",
   "metadata": {},
   "source": [
    "# EDA"
   ]
  },
  {
   "cell_type": "code",
   "execution_count": 227,
   "id": "e4cc011c",
   "metadata": {},
   "outputs": [
    {
     "name": "stdout",
     "output_type": "stream",
     "text": [
      "<class 'pandas.core.frame.DataFrame'>\n",
      "RangeIndex: 86 entries, 0 to 85\n",
      "Data columns (total 3 columns):\n",
      " #   Column       Non-Null Count  Dtype \n",
      "---  ------       --------------  ----- \n",
      " 0   question_id  86 non-null     int64 \n",
      " 1   answer       86 non-null     object\n",
      " 2   grade        86 non-null     int64 \n",
      "dtypes: int64(2), object(1)\n",
      "memory usage: 2.1+ KB\n"
     ]
    }
   ],
   "source": [
    "df.info()"
   ]
  },
  {
   "cell_type": "code",
   "execution_count": 228,
   "id": "89ced33c",
   "metadata": {},
   "outputs": [
    {
     "data": {
      "text/plain": [
       "grade\n",
       "0    29\n",
       "1    23\n",
       "2    34\n",
       "dtype: int64"
      ]
     },
     "execution_count": 228,
     "metadata": {},
     "output_type": "execute_result"
    }
   ],
   "source": [
    "df.groupby('grade').size()"
   ]
  },
  {
   "cell_type": "code",
   "execution_count": 229,
   "id": "3a720ee4",
   "metadata": {},
   "outputs": [
    {
     "data": {
      "text/plain": [
       "14"
      ]
     },
     "execution_count": 229,
     "metadata": {},
     "output_type": "execute_result"
    }
   ],
   "source": [
    "df.duplicated().sum()"
   ]
  },
  {
   "cell_type": "code",
   "execution_count": 230,
   "id": "a52be670",
   "metadata": {},
   "outputs": [
    {
     "data": {
      "image/png": "[encoded data removed]",
      "text/plain": [
       "<Figure size 1000x600 with 1 Axes>"
      ]
     },
     "metadata": {},
     "output_type": "display_data"
    }
   ],
   "source": [
    "plt.figure(figsize=(10, 6))\n",
    "sns.countplot(data=df, x='grade')\n",
    "plt.show()"
   ]
  },
  {
   "cell_type": "markdown",
   "id": "f927deff",
   "metadata": {},
   "source": [
    "# Data Cleaning"
   ]
  },
  {
   "cell_type": "code",
   "execution_count": 231,
   "id": "4e2b5cd3",
   "metadata": {},
   "outputs": [],
   "source": [
    "df.drop('question_id', axis=1, inplace=True)"
   ]
  },
  {
   "cell_type": "code",
   "execution_count": 232,
   "id": "2bedaead",
   "metadata": {},
   "outputs": [],
   "source": [
    "df.dropna(inplace=True)"
   ]
  },
  {
   "cell_type": "code",
   "execution_count": 233,
   "id": "c7aecaff",
   "metadata": {},
   "outputs": [],
   "source": [
    "df.drop_duplicates(inplace=True)"
   ]
  },
  {
   "cell_type": "markdown",
   "id": "3ae6d336",
   "metadata": {},
   "source": [
    "# Data Pre-Preocessing"
   ]
  },
  {
   "cell_type": "code",
   "execution_count": 234,
   "id": "75658c83",
   "metadata": {},
   "outputs": [],
   "source": [
    "def txt_preprocess(text):\n",
    "    text = text.lower()\n",
    "    tokens = word_tokenize(text)\n",
    "    #tokens = [token for token in tokens if token.isalpha() and token not in stop_words]\n",
    "    return tokens"
   ]
  },
  {
   "cell_type": "code",
   "execution_count": 235,
   "id": "0cf45543",
   "metadata": {},
   "outputs": [],
   "source": [
    "df['tokens'] = df['answer'].apply(txt_preprocess)"
   ]
  },
  {
   "cell_type": "markdown",
   "id": "9bfbf36f",
   "metadata": {},
   "source": [
    "# Text Representation"
   ]
  },
  {
   "cell_type": "code",
   "execution_count": 236,
   "id": "cf192e33",
   "metadata": {},
   "outputs": [],
   "source": [
    "model_word2vec = Word2Vec(df['tokens'], vector_size=100, window=5, min_count=1, workers=4)"
   ]
  },
  {
   "cell_type": "code",
   "execution_count": 237,
   "id": "0f75f229",
   "metadata": {},
   "outputs": [],
   "source": [
    "def get_word_vector(tokens, model_word2vec):\n",
    "    textvector = np.zeros((100,), dtype='float32')\n",
    "    for token in tokens:\n",
    "        try:\n",
    "            textvector += model_word2vec.wv[token]\n",
    "        except KeyError:\n",
    "            continue\n",
    "    return textvector\n",
    "\n",
    "\n",
    "df['textvector'] = df['tokens'].apply(lambda x: get_word_vector(x, model_word2vec))"
   ]
  },
  {
   "cell_type": "code",
   "execution_count": 238,
   "id": "b59986fa",
   "metadata": {},
   "outputs": [
    {
     "data": {
      "text/html": [
       "<div>\n",
       "<style scoped>\n",
       "    .dataframe tbody tr th:only-of-type {\n",
       "        vertical-align: middle;\n",
       "    }\n",
       "\n",
       "    .dataframe tbody tr th {\n",
       "        vertical-align: top;\n",
       "    }\n",
       "\n",
       "    .dataframe thead th {\n",
       "        text-align: right;\n",
       "    }\n",
       "</style>\n",
       "<table border=\"1\" class=\"dataframe\">\n",
       "  <thead>\n",
       "    <tr style=\"text-align: right;\">\n",
       "      <th></th>\n",
       "      <th>answer</th>\n",
       "      <th>grade</th>\n",
       "      <th>tokens</th>\n",
       "      <th>textvector</th>\n",
       "    </tr>\n",
       "  </thead>\n",
       "  <tbody>\n",
       "    <tr>\n",
       "      <th>0</th>\n",
       "      <td>643م - 709م</td>\n",
       "      <td>2</td>\n",
       "      <td>[643م, -, 709م]</td>\n",
       "      <td>[0.0004684499, -0.02368987, -0.0091387015, 6.2...</td>\n",
       "    </tr>\n",
       "    <tr>\n",
       "      <th>1</th>\n",
       "      <td>القرن السابع</td>\n",
       "      <td>2</td>\n",
       "      <td>[القرن, السابع]</td>\n",
       "      <td>[0.0075715748, -0.0037308438, 0.0038619214, 0....</td>\n",
       "    </tr>\n",
       "    <tr>\n",
       "      <th>2</th>\n",
       "      <td>القرن الثالث</td>\n",
       "      <td>0</td>\n",
       "      <td>[القرن, الثالث]</td>\n",
       "      <td>[-0.0032837826, 0.0006444376, 0.007014363, -0....</td>\n",
       "    </tr>\n",
       "    <tr>\n",
       "      <th>4</th>\n",
       "      <td>القرن الخامس</td>\n",
       "      <td>0</td>\n",
       "      <td>[القرن, الخامس]</td>\n",
       "      <td>[-0.00875742, 0.0007209232, 0.011001064, 0.018...</td>\n",
       "    </tr>\n",
       "    <tr>\n",
       "      <th>5</th>\n",
       "      <td>من ٦٤٣م الى ٧١٥م</td>\n",
       "      <td>1</td>\n",
       "      <td>[من, ٦٤٣م, الى, ٧١٥م]</td>\n",
       "      <td>[0.004244124, -0.0048837676, -0.017929532, 0.0...</td>\n",
       "    </tr>\n",
       "  </tbody>\n",
       "</table>\n",
       "</div>"
      ],
      "text/plain": [
       "             answer  grade                 tokens  \\\n",
       "0       643م - 709م      2        [643م, -, 709م]   \n",
       "1      القرن السابع      2        [القرن, السابع]   \n",
       "2      القرن الثالث      0        [القرن, الثالث]   \n",
       "4      القرن الخامس      0        [القرن, الخامس]   \n",
       "5  من ٦٤٣م الى ٧١٥م      1  [من, ٦٤٣م, الى, ٧١٥م]   \n",
       "\n",
       "                                          textvector  \n",
       "0  [0.0004684499, -0.02368987, -0.0091387015, 6.2...  \n",
       "1  [0.0075715748, -0.0037308438, 0.0038619214, 0....  \n",
       "2  [-0.0032837826, 0.0006444376, 0.007014363, -0....  \n",
       "4  [-0.00875742, 0.0007209232, 0.011001064, 0.018...  \n",
       "5  [0.004244124, -0.0048837676, -0.017929532, 0.0...  "
      ]
     },
     "execution_count": 238,
     "metadata": {},
     "output_type": "execute_result"
    }
   ],
   "source": [
    "df.head()"
   ]
  },
  {
   "cell_type": "markdown",
   "id": "22a8ed60",
   "metadata": {},
   "source": [
    "# split the data"
   ]
  },
  {
   "cell_type": "code",
   "execution_count": 239,
   "id": "3df3116d",
   "metadata": {},
   "outputs": [],
   "source": [
    "train_data = df.sample(frac=0.85, random_state=42)\n",
    "test_data = df.drop(train_data.index)"
   ]
  },
  {
   "cell_type": "code",
   "execution_count": 240,
   "id": "ff7cd537",
   "metadata": {},
   "outputs": [
    {
     "name": "stdout",
     "output_type": "stream",
     "text": [
      "[[ 0.00757157 -0.00373084  0.00386192 ... -0.012996   -0.00061525\n",
      "   0.01203626]\n",
      " [-0.00328378  0.00064444  0.00701436 ... -0.00166782  0.00792422\n",
      "   0.00257009]\n",
      " [-0.00238806  0.0075391   0.00204174 ... -0.00431017  0.0059145\n",
      "  -0.00344569]\n",
      " ...\n",
      " [ 0.00964458  0.00733901  0.0012531  ...  0.00889532 -0.00569636\n",
      "   0.00505331]\n",
      " [-0.0103628   0.00476419  0.0081288  ... -0.01450461  0.02237435\n",
      "  -0.01011875]\n",
      " [-0.00670877  0.00522371 -0.00408828 ... -0.00141501  0.00628435\n",
      "  -0.00084242]]\n"
     ]
    }
   ],
   "source": [
    "X_train = np.array(train_data['textvector'].tolist())\n",
    "Y_train = np.array(train_data['grade'])\n",
    "\n",
    "X_test = np.array(test_data['textvector'].tolist())\n",
    "Y_test = np.array(test_data['grade'])\n",
    "print(X_test)"
   ]
  },
  {
   "cell_type": "markdown",
   "id": "73b1a014",
   "metadata": {},
   "source": [
    "# build Models "
   ]
  },
  {
   "cell_type": "code",
   "execution_count": 241,
   "id": "493a5eba",
   "metadata": {},
   "outputs": [],
   "source": [
    "def getModel(name):\n",
    "    if name == 'svm_linear':\n",
    "        model_svm_linear = SVC(kernel='linear' ,probability=True)\n",
    "        model_svm_linear.fit(X_train, Y_train)\n",
    "        return model_svm_linear\n",
    "    elif name == 'svm_rbf':\n",
    "        model_svm_rbf = SVC(kernel='rbf' , probability=True)\n",
    "        model_svm_rbf.fit(X_train, Y_train)\n",
    "        return model_svm_rbf\n",
    "    elif name == 'random_forest':\n",
    "        model_rf = RandomForestClassifier(n_estimators=100, random_state=42)\n",
    "        model_rf.fit(X_train, Y_train)\n",
    "        return model_rf\n",
    "    elif name == 'knn':\n",
    "        model_knn = KNeighborsClassifier(n_neighbors=3)\n",
    "        model_knn.fit(X_train, Y_train)\n",
    "        return model_knn\n",
    "    elif name == 'naive_bayes':\n",
    "        model_nb = GaussianNB()\n",
    "        model_nb.fit(X_train, Y_train)\n",
    "        return model_nb\n",
    "    elif name == 'bagging':\n",
    "        # Créer le modèle de base\n",
    "        base_model = KNeighborsClassifier(n_neighbors=3)\n",
    "        model_bagging = BaggingClassifier(base_estimator=base_model, n_estimators=10, random_state=42)\n",
    "        # Entraîner le modèle Bagging\n",
    "        model_bagging.fit(X_train, Y_train)\n",
    "        return model_bagging\n",
    "    elif name == 'ann':\n",
    "        # MLP: création + entrainement\n",
    "        model_ANN = MLPClassifier(hidden_layer_sizes=(15, 10), random_state=1, max_iter=800)\n",
    "        model_ANN.fit(X_train , Y_train)\n",
    "        return model_ANN\n",
    "    else:\n",
    "        raise ValueError(\"Invalid model name. Please choose from 'svm', 'random_forest', 'knn', or 'naive_bayes'.\")\n"
   ]
  },
  {
   "cell_type": "code",
   "execution_count": 242,
   "id": "d97c45d3",
   "metadata": {},
   "outputs": [],
   "source": [
    "# construire le model \n",
    "model_svm_lin = getModel('svm_linear')\n",
    "# predire les donnees de Test\n",
    "Y_pred_svm_lin = model_svm_lin.predict_proba(X_test)"
   ]
  },
  {
   "cell_type": "code",
   "execution_count": 243,
   "id": "4a1301e8",
   "metadata": {},
   "outputs": [],
   "source": [
    "# construire le model \n",
    "model_svm_rbf = getModel('svm_rbf')\n",
    "# predire les donnees de Test\n",
    "Y_pred_svm_rbf = model_svm_rbf.predict_proba(X_test)"
   ]
  },
  {
   "cell_type": "code",
   "execution_count": 244,
   "id": "d5cc9432",
   "metadata": {},
   "outputs": [],
   "source": [
    "# construire le model \n",
    "model_rf = getModel('random_forest')\n",
    "# predire les donnees de Test\n",
    "Y_pred_rf = model_rf.predict_proba(X_test)"
   ]
  },
  {
   "cell_type": "code",
   "execution_count": 245,
   "id": "adade476",
   "metadata": {},
   "outputs": [],
   "source": [
    "# construire le model \n",
    "model_knn = getModel('knn')\n",
    "# predire les donnees de Test\n",
    "Y_pred_knn = model_knn.predict_proba(X_test)"
   ]
  },
  {
   "cell_type": "code",
   "execution_count": 246,
   "id": "5ac8af74",
   "metadata": {},
   "outputs": [],
   "source": [
    "# construire le model \n",
    "model_nb = getModel('naive_bayes')\n",
    "# predire les donnees de Test\n",
    "Y_pred_nb = model_nb.predict_proba(X_test)"
   ]
  },
  {
   "cell_type": "code",
   "execution_count": 247,
   "id": "27d00b84",
   "metadata": {},
   "outputs": [],
   "source": [
    "# construire le model \n",
    "model_ann = getModel(\"ann\")\n",
    "# predire les donnees de Test\n",
    "Y_pred_ann = model_ann.predict_proba(X_test)"
   ]
  },
  {
   "cell_type": "code",
   "execution_count": 248,
   "id": "09fb9c0f",
   "metadata": {},
   "outputs": [],
   "source": [
    "# construire le model \n",
    "model_bagging  = getModel('bagging')\n",
    "# predire les donnees de Test\n",
    "Y_pred_bagging = model_bagging.predict_proba(X_test)"
   ]
  },
  {
   "cell_type": "markdown",
   "id": "ca6aea06",
   "metadata": {},
   "source": [
    "# Models Evaluation"
   ]
  },
  {
   "cell_type": "code",
   "execution_count": 249,
   "id": "be63a662",
   "metadata": {},
   "outputs": [],
   "source": [
    "models = [\n",
    "  getModel('svm_linear'),\n",
    "  getModel('svm_rbf'),\n",
    "  getModel('random_forest'),\n",
    "  getModel('knn'),\n",
    "  getModel('naive_bayes'),\n",
    "  getModel(\"ann\"),\n",
    "  getModel('bagging')\n",
    "]\n",
    "models_names = [\n",
    "    'SVM Linear',\n",
    "    'SVM RBF',\n",
    "    'Random Forest',\n",
    "    'KNN',\n",
    "    'Naive Bayes',\n",
    "    'ANN',\n",
    "    'Ensemble Learning (Bagging)'\n",
    "]\n",
    "predicted_Xtest_proba = [\n",
    "    Y_pred_svm_lin,\n",
    "    Y_pred_svm_rbf,\n",
    "    Y_pred_rf,\n",
    "    Y_pred_knn,\n",
    "    Y_pred_nb,\n",
    "    Y_pred_ann,\n",
    "    Y_pred_bagging\n",
    "]"
   ]
  },
  {
   "cell_type": "code",
   "execution_count": 250,
   "id": "957cde67",
   "metadata": {},
   "outputs": [],
   "source": [
    "def getAccuracy(models):\n",
    "  accuracies = []\n",
    "  for model in models:\n",
    "    Y_Test_predi = model.predict(X_test)\n",
    "    accuracy = accuracy_score(Y_test, Y_Test_predi)\n",
    "    accuracies.append(accuracy)\n",
    "\n",
    "  return accuracies"
   ]
  },
  {
   "cell_type": "code",
   "execution_count": 251,
   "id": "1933e833",
   "metadata": {
    "scrolled": true
   },
   "outputs": [
    {
     "name": "stdout",
     "output_type": "stream",
     "text": [
      "accuracy SVM Linear :  0.36363636363636365\n",
      "accuracy SVM RBF :  0.8181818181818182\n",
      "accuracy Random Forest :  0.7272727272727273\n",
      "accuracy KNN :  0.6363636363636364\n",
      "accuracy Naive Bayes :  0.6363636363636364\n",
      "accuracy ANN :  0.7272727272727273\n",
      "accuracy Ensemble Learning (Bagging) :  0.6363636363636364\n"
     ]
    }
   ],
   "source": [
    "accuracies = getAccuracy(models)\n",
    "i=0\n",
    "for model in models_names:\n",
    "    print(f\"accuracy {model} :  {accuracies[i]}\")\n",
    "    i += 1"
   ]
  },
  {
   "cell_type": "code",
   "execution_count": 252,
   "id": "05218892",
   "metadata": {},
   "outputs": [
    {
     "name": "stdout",
     "output_type": "stream",
     "text": [
      "SVM Linear  Aire sous la courbe ROC: 0.8809523809523809\n",
      "SVM RBF  Aire sous la courbe ROC: 0.8452380952380952\n",
      "Random Forest  Aire sous la courbe ROC: 0.8194444444444445\n",
      "KNN  Aire sous la courbe ROC: 0.6964285714285715\n",
      "Naive Bayes  Aire sous la courbe ROC: 0.8492063492063492\n",
      "ANN  Aire sous la courbe ROC: 0.8452380952380952\n",
      "Ensemble Learning (Bagging)  Aire sous la courbe ROC: 0.7946428571428571\n"
     ]
    }
   ],
   "source": [
    "i=0\n",
    "for  Y_test_pred_prob in predicted_Xtest_proba:\n",
    "#     Y_test_pred = Y_test_pred.reshape(-1, 1)\n",
    "    auc_roc = roc_auc_score(Y_test, Y_test_pred_prob , multi_class='ovr')\n",
    "    print(f\"{models_names[i]}  Aire sous la courbe ROC:\", auc_roc)\n",
    "    i += 1"
   ]
  },
  {
   "cell_type": "markdown",
   "id": "f7b3ff11",
   "metadata": {},
   "source": [
    "# the best Model"
   ]
  },
  {
   "cell_type": "code",
   "execution_count": 253,
   "id": "ca0db268",
   "metadata": {},
   "outputs": [],
   "source": [
    "max_index = np.argmax(accuracies)\n",
    "best_model = models[max_index]"
   ]
  },
  {
   "cell_type": "code",
   "execution_count": 254,
   "id": "7684801a",
   "metadata": {},
   "outputs": [
    {
     "data": {
      "text/html": [
       "<div>\n",
       "<style scoped>\n",
       "    .dataframe tbody tr th:only-of-type {\n",
       "        vertical-align: middle;\n",
       "    }\n",
       "\n",
       "    .dataframe tbody tr th {\n",
       "        vertical-align: top;\n",
       "    }\n",
       "\n",
       "    .dataframe thead th {\n",
       "        text-align: right;\n",
       "    }\n",
       "</style>\n",
       "<table border=\"1\" class=\"dataframe\">\n",
       "  <thead>\n",
       "    <tr style=\"text-align: right;\">\n",
       "      <th></th>\n",
       "      <th>Real</th>\n",
       "      <th>Predicted</th>\n",
       "    </tr>\n",
       "  </thead>\n",
       "  <tbody>\n",
       "    <tr>\n",
       "      <th>0</th>\n",
       "      <td>2</td>\n",
       "      <td>2</td>\n",
       "    </tr>\n",
       "    <tr>\n",
       "      <th>1</th>\n",
       "      <td>0</td>\n",
       "      <td>0</td>\n",
       "    </tr>\n",
       "    <tr>\n",
       "      <th>2</th>\n",
       "      <td>1</td>\n",
       "      <td>1</td>\n",
       "    </tr>\n",
       "    <tr>\n",
       "      <th>3</th>\n",
       "      <td>2</td>\n",
       "      <td>0</td>\n",
       "    </tr>\n",
       "    <tr>\n",
       "      <th>4</th>\n",
       "      <td>0</td>\n",
       "      <td>2</td>\n",
       "    </tr>\n",
       "    <tr>\n",
       "      <th>5</th>\n",
       "      <td>2</td>\n",
       "      <td>2</td>\n",
       "    </tr>\n",
       "    <tr>\n",
       "      <th>6</th>\n",
       "      <td>1</td>\n",
       "      <td>1</td>\n",
       "    </tr>\n",
       "    <tr>\n",
       "      <th>7</th>\n",
       "      <td>1</td>\n",
       "      <td>1</td>\n",
       "    </tr>\n",
       "    <tr>\n",
       "      <th>8</th>\n",
       "      <td>0</td>\n",
       "      <td>0</td>\n",
       "    </tr>\n",
       "    <tr>\n",
       "      <th>9</th>\n",
       "      <td>2</td>\n",
       "      <td>2</td>\n",
       "    </tr>\n",
       "    <tr>\n",
       "      <th>10</th>\n",
       "      <td>0</td>\n",
       "      <td>0</td>\n",
       "    </tr>\n",
       "  </tbody>\n",
       "</table>\n",
       "</div>"
      ],
      "text/plain": [
       "    Real   Predicted\n",
       "0       2          2\n",
       "1       0          0\n",
       "2       1          1\n",
       "3       2          0\n",
       "4       0          2\n",
       "5       2          2\n",
       "6       1          1\n",
       "7       1          1\n",
       "8       0          0\n",
       "9       2          2\n",
       "10      0          0"
      ]
     },
     "execution_count": 254,
     "metadata": {},
     "output_type": "execute_result"
    }
   ],
   "source": [
    "pd.DataFrame({\"Real \": Y_test , \"Predicted\" : best_model.predict(X_test)})"
   ]
  },
  {
   "cell_type": "markdown",
   "id": "cc97ec21",
   "metadata": {},
   "source": [
    "# saving the best model"
   ]
  },
  {
   "cell_type": "code",
   "execution_count": 280,
   "id": "ff343d9f",
   "metadata": {},
   "outputs": [],
   "source": [
    "model_path = '../saved_models/model_question8.h5'\n",
    "with open(model_path, 'wb') as file:\n",
    "    pickle.dump((model_svm_rbf, model_word2vec), file)"
   ]
  },
  {
   "cell_type": "markdown",
   "id": "89f382c5",
   "metadata": {},
   "source": [
    "# Test Model"
   ]
  },
  {
   "cell_type": "code",
   "execution_count": 279,
   "id": "ce5db3ae",
   "metadata": {},
   "outputs": [
    {
     "name": "stdout",
     "output_type": "stream",
     "text": [
      " SVM Linear :  2\n",
      " SVM RBF :  0\n",
      " Random Forest :  0\n",
      " KNN :  2\n",
      " Naive Bayes :  0\n",
      " ANN :  1\n",
      " Ensemble Learning (Bagging) :  2\n"
     ]
    }
   ],
   "source": [
    "answer = 'hg'\n",
    "process = txt_preprocess(answer)\n",
    "txt = get_word_vector(process, model_word2vec)\n",
    "txt = txt.reshape(1, -1)\n",
    "\n",
    "i=0\n",
    "for model in models_names:\n",
    "    predicted_ques = models[i].predict(txt)[0]\n",
    "    print(f\" {model} :  {predicted_ques}\")\n",
    "    i += 1"
   ]
  },
  {
   "cell_type": "code",
   "execution_count": null,
   "id": "4247c261",
   "metadata": {},
   "outputs": [],
   "source": []
  },
  {
   "cell_type": "code",
   "execution_count": null,
   "id": "96af8809",
   "metadata": {},
   "outputs": [],
   "source": []
  }
 ],
 "metadata": {
  "kernelspec": {
   "display_name": "Python 3 (ipykernel)",
   "language": "python",
   "name": "python3"
  },
  "language_info": {
   "codemirror_mode": {
    "name": "ipython",
    "version": 3
   },
   "file_extension": ".py",
   "mimetype": "text/x-python",
   "name": "python",
   "nbconvert_exporter": "python",
   "pygments_lexer": "ipython3",
   "version": "3.10.5"
  }
 },
 "nbformat": 4,
 "nbformat_minor": 5
}
