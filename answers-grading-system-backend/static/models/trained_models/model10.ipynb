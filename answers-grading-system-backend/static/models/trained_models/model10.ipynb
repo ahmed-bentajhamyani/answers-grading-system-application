{
 "cells": [
  {
   "cell_type": "markdown",
   "id": "74395077",
   "metadata": {},
   "source": [
    "# Import Libraries"
   ]
  },
  {
   "cell_type": "code",
   "execution_count": 11,
   "id": "2db1ad22",
   "metadata": {},
   "outputs": [],
   "source": [
    "import pandas as pd\n",
    "import numpy as np\n",
    "import matplotlib.pyplot as plt\n",
    "import seaborn as sns\n",
    "import string \n",
    "from nltk.corpus import stopwords\n",
    "from nltk.stem.isri import ISRIStemmer\n",
    "from sklearn.model_selection import train_test_split\n",
    "import tensorflow as tf \n",
    "from keras.preprocessing.text import Tokenizer\n",
    "from tensorflow.keras.preprocessing.sequence import pad_sequences\n",
    "from keras.models import Sequential\n",
    "from keras.layers import Embedding, LSTM, Dense, Dropout\n",
    "from sklearn.model_selection import cross_val_score\n",
    "from sklearn.metrics import accuracy_score\n",
    "from sklearn.metrics import roc_auc_score\n",
    "\n",
    "# from keras.models import Sequential\n",
    "from sklearn.svm import SVC\n",
    "from sklearn.ensemble import RandomForestClassifier\n",
    "from sklearn.neighbors import KNeighborsClassifier\n",
    "from sklearn.naive_bayes import GaussianNB\n",
    "from sklearn.ensemble import BaggingClassifier\n",
    "from sklearn.neural_network import MLPClassifier\n",
    "\n",
    "\n",
    "import nltk\n",
    "from nltk.tokenize import word_tokenize\n",
    "from gensim.models import Word2Vec\n",
    "import pickle "
   ]
  },
  {
   "cell_type": "code",
   "execution_count": 12,
   "id": "64e006be",
   "metadata": {},
   "outputs": [],
   "source": [
    "import warnings\n",
    "warnings.filterwarnings('ignore')"
   ]
  },
  {
   "cell_type": "markdown",
   "id": "cea978ea",
   "metadata": {},
   "source": [
    "# Load Data"
   ]
  },
  {
   "cell_type": "code",
   "execution_count": 13,
   "id": "034bf77f",
   "metadata": {
    "scrolled": true
   },
   "outputs": [
    {
     "data": {
      "text/html": [
       "<div>\n",
       "<style scoped>\n",
       "    .dataframe tbody tr th:only-of-type {\n",
       "        vertical-align: middle;\n",
       "    }\n",
       "\n",
       "    .dataframe tbody tr th {\n",
       "        vertical-align: top;\n",
       "    }\n",
       "\n",
       "    .dataframe thead th {\n",
       "        text-align: right;\n",
       "    }\n",
       "</style>\n",
       "<table border=\"1\" class=\"dataframe\">\n",
       "  <thead>\n",
       "    <tr style=\"text-align: right;\">\n",
       "      <th></th>\n",
       "      <th>question_id</th>\n",
       "      <th>answer</th>\n",
       "      <th>grade</th>\n",
       "    </tr>\n",
       "  </thead>\n",
       "  <tbody>\n",
       "    <tr>\n",
       "      <th>0</th>\n",
       "      <td>1</td>\n",
       "      <td>فترة الخلافة العباسية في الشرق</td>\n",
       "      <td>0</td>\n",
       "    </tr>\n",
       "    <tr>\n",
       "      <th>1</th>\n",
       "      <td>1</td>\n",
       "      <td>ما بين 645م و 725م</td>\n",
       "      <td>0</td>\n",
       "    </tr>\n",
       "    <tr>\n",
       "      <th>2</th>\n",
       "      <td>1</td>\n",
       "      <td>من 789م  إلى 974 م</td>\n",
       "      <td>2</td>\n",
       "    </tr>\n",
       "  </tbody>\n",
       "</table>\n",
       "</div>"
      ],
      "text/plain": [
       "   question_id                          answer  grade\n",
       "0            1  فترة الخلافة العباسية في الشرق      0\n",
       "1            1              ما بين 645م و 725م      0\n",
       "2            1              من 789م  إلى 974 م      2"
      ]
     },
     "execution_count": 13,
     "metadata": {},
     "output_type": "execute_result"
    }
   ],
   "source": [
    "# read csv file into pandas\n",
    "df = pd.read_csv(\"../datasets/question1.csv\")\n",
    "df.head(3)"
   ]
  },
  {
   "cell_type": "markdown",
   "id": "5984b4ed",
   "metadata": {},
   "source": [
    "# EDA"
   ]
  },
  {
   "cell_type": "code",
   "execution_count": 14,
   "id": "e4cc011c",
   "metadata": {},
   "outputs": [
    {
     "name": "stdout",
     "output_type": "stream",
     "text": [
      "<class 'pandas.core.frame.DataFrame'>\n",
      "RangeIndex: 89 entries, 0 to 88\n",
      "Data columns (total 3 columns):\n",
      " #   Column       Non-Null Count  Dtype \n",
      "---  ------       --------------  ----- \n",
      " 0   question_id  89 non-null     int64 \n",
      " 1   answer       89 non-null     object\n",
      " 2   grade        89 non-null     int64 \n",
      "dtypes: int64(2), object(1)\n",
      "memory usage: 2.2+ KB\n"
     ]
    }
   ],
   "source": [
    "df.info()"
   ]
  },
  {
   "cell_type": "code",
   "execution_count": 15,
   "id": "89ced33c",
   "metadata": {},
   "outputs": [
    {
     "data": {
      "text/plain": [
       "grade\n",
       "0    30\n",
       "1    28\n",
       "2    31\n",
       "dtype: int64"
      ]
     },
     "execution_count": 15,
     "metadata": {},
     "output_type": "execute_result"
    }
   ],
   "source": [
    "df.groupby('grade').size()"
   ]
  },
  {
   "cell_type": "code",
   "execution_count": 16,
   "id": "3a720ee4",
   "metadata": {},
   "outputs": [
    {
     "data": {
      "text/plain": [
       "5"
      ]
     },
     "execution_count": 16,
     "metadata": {},
     "output_type": "execute_result"
    }
   ],
   "source": [
    "df.duplicated().sum()"
   ]
  },
  {
   "cell_type": "code",
   "execution_count": 17,
   "id": "a52be670",
   "metadata": {},
   "outputs": [
    {
     "data": {
      "image/png": "[encoded data removed]",
      "text/plain": [
       "<Figure size 1000x600 with 1 Axes>"
      ]
     },
     "metadata": {},
     "output_type": "display_data"
    }
   ],
   "source": [
    "plt.figure(figsize=(10, 6))\n",
    "sns.countplot(data=df, x='grade')\n",
    "plt.show()"
   ]
  },
  {
   "cell_type": "markdown",
   "id": "f927deff",
   "metadata": {},
   "source": [
    "# Data Cleaning"
   ]
  },
  {
   "cell_type": "code",
   "execution_count": 18,
   "id": "4e2b5cd3",
   "metadata": {},
   "outputs": [],
   "source": [
    "df.drop('question_id', axis=1, inplace=True)"
   ]
  },
  {
   "cell_type": "code",
   "execution_count": 19,
   "id": "2bedaead",
   "metadata": {},
   "outputs": [],
   "source": [
    "df.dropna(inplace=True)"
   ]
  },
  {
   "cell_type": "code",
   "execution_count": 20,
   "id": "c7aecaff",
   "metadata": {},
   "outputs": [],
   "source": [
    "df.drop_duplicates(inplace=True)"
   ]
  },
  {
   "cell_type": "markdown",
   "id": "3ae6d336",
   "metadata": {},
   "source": [
    "# Data Pre-Preocessing"
   ]
  },
  {
   "cell_type": "code",
   "execution_count": 21,
   "id": "75658c83",
   "metadata": {},
   "outputs": [],
   "source": [
    "def txt_preprocess(text):\n",
    "    text = text.lower()\n",
    "    tokens = word_tokenize(text)\n",
    "    #tokens = [token for token in tokens if token.isalpha() and token not in stop_words]\n",
    "    return tokens"
   ]
  },
  {
   "cell_type": "code",
   "execution_count": 22,
   "id": "0cf45543",
   "metadata": {},
   "outputs": [],
   "source": [
    "df['tokens'] = df['answer'].apply(txt_preprocess)"
   ]
  },
  {
   "cell_type": "markdown",
   "id": "9bfbf36f",
   "metadata": {},
   "source": [
    "# Text Representation"
   ]
  },
  {
   "cell_type": "code",
   "execution_count": 23,
   "id": "cf192e33",
   "metadata": {},
   "outputs": [],
   "source": [
    "model_word2vec = Word2Vec(df['tokens'], vector_size=100, window=5, min_count=1, workers=4)"
   ]
  },
  {
   "cell_type": "code",
   "execution_count": 24,
   "id": "0f75f229",
   "metadata": {},
   "outputs": [],
   "source": [
    "def get_word_vector(tokens, model_word2vec):\n",
    "    textvector = np.zeros((100,), dtype='float32')\n",
    "    for token in tokens:\n",
    "        try:\n",
    "            textvector += model_word2vec.wv[token]\n",
    "        except KeyError:\n",
    "            continue\n",
    "    return textvector\n",
    "\n",
    "\n",
    "df['textvector'] = df['tokens'].apply(lambda x: get_word_vector(x, model_word2vec))"
   ]
  },
  {
   "cell_type": "code",
   "execution_count": 25,
   "id": "b59986fa",
   "metadata": {},
   "outputs": [
    {
     "data": {
      "text/html": [
       "<div>\n",
       "<style scoped>\n",
       "    .dataframe tbody tr th:only-of-type {\n",
       "        vertical-align: middle;\n",
       "    }\n",
       "\n",
       "    .dataframe tbody tr th {\n",
       "        vertical-align: top;\n",
       "    }\n",
       "\n",
       "    .dataframe thead th {\n",
       "        text-align: right;\n",
       "    }\n",
       "</style>\n",
       "<table border=\"1\" class=\"dataframe\">\n",
       "  <thead>\n",
       "    <tr style=\"text-align: right;\">\n",
       "      <th></th>\n",
       "      <th>answer</th>\n",
       "      <th>grade</th>\n",
       "      <th>tokens</th>\n",
       "      <th>textvector</th>\n",
       "    </tr>\n",
       "  </thead>\n",
       "  <tbody>\n",
       "    <tr>\n",
       "      <th>0</th>\n",
       "      <td>فترة الخلافة العباسية في الشرق</td>\n",
       "      <td>0</td>\n",
       "      <td>[فترة, الخلافة, العباسية, في, الشرق]</td>\n",
       "      <td>[0.00893803, -0.021918118, -0.023952078, -0.00...</td>\n",
       "    </tr>\n",
       "    <tr>\n",
       "      <th>1</th>\n",
       "      <td>ما بين 645م و 725م</td>\n",
       "      <td>0</td>\n",
       "      <td>[ما, بين, 645م, و, 725م]</td>\n",
       "      <td>[-0.0058209402, 0.016296413, -0.004266331, 0.0...</td>\n",
       "    </tr>\n",
       "    <tr>\n",
       "      <th>2</th>\n",
       "      <td>من 789م  إلى 974 م</td>\n",
       "      <td>2</td>\n",
       "      <td>[من, 789م, إلى, 974, م]</td>\n",
       "      <td>[-0.018670067, 0.009176378, 0.014319747, 0.021...</td>\n",
       "    </tr>\n",
       "    <tr>\n",
       "      <th>4</th>\n",
       "      <td>من 489م  إلى 578 م</td>\n",
       "      <td>0</td>\n",
       "      <td>[من, 489م, إلى, 578, م]</td>\n",
       "      <td>[-0.009674601, 0.01770707, 0.0083257565, 0.006...</td>\n",
       "    </tr>\n",
       "    <tr>\n",
       "      <th>5</th>\n",
       "      <td>من 789م  إلى 978 م</td>\n",
       "      <td>1</td>\n",
       "      <td>[من, 789م, إلى, 978, م]</td>\n",
       "      <td>[-0.0036812718, 0.007049459, 0.016224623, 0.00...</td>\n",
       "    </tr>\n",
       "  </tbody>\n",
       "</table>\n",
       "</div>"
      ],
      "text/plain": [
       "                           answer  grade  \\\n",
       "0  فترة الخلافة العباسية في الشرق      0   \n",
       "1              ما بين 645م و 725م      0   \n",
       "2              من 789م  إلى 974 م      2   \n",
       "4              من 489م  إلى 578 م      0   \n",
       "5              من 789م  إلى 978 م      1   \n",
       "\n",
       "                                 tokens  \\\n",
       "0  [فترة, الخلافة, العباسية, في, الشرق]   \n",
       "1              [ما, بين, 645م, و, 725م]   \n",
       "2               [من, 789م, إلى, 974, م]   \n",
       "4               [من, 489م, إلى, 578, م]   \n",
       "5               [من, 789م, إلى, 978, م]   \n",
       "\n",
       "                                          textvector  \n",
       "0  [0.00893803, -0.021918118, -0.023952078, -0.00...  \n",
       "1  [-0.0058209402, 0.016296413, -0.004266331, 0.0...  \n",
       "2  [-0.018670067, 0.009176378, 0.014319747, 0.021...  \n",
       "4  [-0.009674601, 0.01770707, 0.0083257565, 0.006...  \n",
       "5  [-0.0036812718, 0.007049459, 0.016224623, 0.00...  "
      ]
     },
     "execution_count": 25,
     "metadata": {},
     "output_type": "execute_result"
    }
   ],
   "source": [
    "df.head()"
   ]
  },
  {
   "cell_type": "markdown",
   "id": "22a8ed60",
   "metadata": {},
   "source": [
    "# split the data"
   ]
  },
  {
   "cell_type": "code",
   "execution_count": 26,
   "id": "3df3116d",
   "metadata": {},
   "outputs": [],
   "source": [
    "train_data = df.sample(frac=0.85, random_state=42)\n",
    "test_data = df.drop(train_data.index)"
   ]
  },
  {
   "cell_type": "code",
   "execution_count": 27,
   "id": "ff7cd537",
   "metadata": {},
   "outputs": [
    {
     "name": "stdout",
     "output_type": "stream",
     "text": [
      "[[-0.00582094  0.01629641 -0.00426633 ... -0.00086907  0.00146924\n",
      "  -0.00269896]\n",
      " [-0.01867007  0.00917638  0.01431975 ... -0.00563165  0.00650776\n",
      "  -0.00040942]\n",
      " [-0.00473732  0.01143156  0.01437455 ... -0.00107868 -0.00287574\n",
      "  -0.0104234 ]\n",
      " ...\n",
      " [ 0.01179695  0.01238913  0.02889543 ...  0.00375702 -0.01649084\n",
      "   0.03482075]\n",
      " [-0.00051755  0.00256355 -0.02215885 ...  0.00382512  0.02289377\n",
      "   0.00470799]\n",
      " [-0.02755135 -0.00148459 -0.00897662 ... -0.01886784  0.01289058\n",
      "  -0.03950118]]\n"
     ]
    }
   ],
   "source": [
    "X_train = np.array(train_data['textvector'].tolist())\n",
    "Y_train = np.array(train_data['grade'])\n",
    "\n",
    "X_test = np.array(test_data['textvector'].tolist())\n",
    "Y_test = np.array(test_data['grade'])\n",
    "print(X_test)"
   ]
  },
  {
   "cell_type": "markdown",
   "id": "73b1a014",
   "metadata": {},
   "source": [
    "# build Models "
   ]
  },
  {
   "cell_type": "code",
   "execution_count": 28,
   "id": "493a5eba",
   "metadata": {},
   "outputs": [],
   "source": [
    "def getModel(name):\n",
    "    if name == 'svm_linear':\n",
    "        model_svm_linear = SVC(kernel='linear' ,probability=True)\n",
    "        model_svm_linear.fit(X_train, Y_train)\n",
    "        return model_svm_linear\n",
    "    elif name == 'svm_rbf':\n",
    "        model_svm_rbf = SVC(kernel='rbf' , probability=True)\n",
    "        model_svm_rbf.fit(X_train, Y_train)\n",
    "        return model_svm_rbf\n",
    "    elif name == 'random_forest':\n",
    "        model_rf = RandomForestClassifier(n_estimators=100, random_state=42)\n",
    "        model_rf.fit(X_train, Y_train)\n",
    "        return model_rf\n",
    "    elif name == 'knn':\n",
    "        model_knn = KNeighborsClassifier(n_neighbors=3)\n",
    "        model_knn.fit(X_train, Y_train)\n",
    "        return model_knn\n",
    "    elif name == 'naive_bayes':\n",
    "        model_nb = GaussianNB()\n",
    "        model_nb.fit(X_train, Y_train)\n",
    "        return model_nb\n",
    "    elif name == 'bagging':\n",
    "        # Créer le modèle de base\n",
    "        base_model = KNeighborsClassifier(n_neighbors=3)\n",
    "        model_bagging = BaggingClassifier(base_estimator=base_model, n_estimators=10, random_state=42)\n",
    "        # Entraîner le modèle Bagging\n",
    "        model_bagging.fit(X_train, Y_train)\n",
    "        return model_bagging\n",
    "    elif name == 'ann':\n",
    "        # MLP: création + entrainement\n",
    "        model_ANN = MLPClassifier(hidden_layer_sizes=(15, 10), random_state=1, max_iter=800)\n",
    "        model_ANN.fit(X_train , Y_train)\n",
    "        return model_ANN\n",
    "    else:\n",
    "        raise ValueError(\"Invalid model name. Please choose from 'svm', 'random_forest', 'knn', or 'naive_bayes'.\")\n"
   ]
  },
  {
   "cell_type": "code",
   "execution_count": 44,
   "id": "d97c45d3",
   "metadata": {},
   "outputs": [],
   "source": [
    "# construire le model \n",
    "model_svm_lin = getModel('svm_linear')\n",
    "# predire les donnees de Test\n",
    "Y_pred_svm_lin = model_svm_lin.predict_proba(X_test)"
   ]
  },
  {
   "cell_type": "code",
   "execution_count": 45,
   "id": "4a1301e8",
   "metadata": {},
   "outputs": [],
   "source": [
    "# construire le model \n",
    "model_svm_rbf = getModel('svm_rbf')\n",
    "# predire les donnees de Test\n",
    "Y_pred_svm_rbf = model_svm_rbf.predict_proba(X_test)"
   ]
  },
  {
   "cell_type": "code",
   "execution_count": 46,
   "id": "d5cc9432",
   "metadata": {},
   "outputs": [],
   "source": [
    "# construire le model \n",
    "model_rf = getModel('random_forest')\n",
    "# predire les donnees de Test\n",
    "Y_pred_rf = model_rf.predict_proba(X_test)"
   ]
  },
  {
   "cell_type": "code",
   "execution_count": 47,
   "id": "adade476",
   "metadata": {},
   "outputs": [],
   "source": [
    "# construire le model \n",
    "model_knn = getModel('knn')\n",
    "# predire les donnees de Test\n",
    "Y_pred_knn = model_knn.predict_proba(X_test)"
   ]
  },
  {
   "cell_type": "code",
   "execution_count": 48,
   "id": "5ac8af74",
   "metadata": {},
   "outputs": [],
   "source": [
    "# construire le model \n",
    "model_nb = getModel('naive_bayes')\n",
    "# predire les donnees de Test\n",
    "Y_pred_nb = model_nb.predict_proba(X_test)"
   ]
  },
  {
   "cell_type": "code",
   "execution_count": 49,
   "id": "27d00b84",
   "metadata": {},
   "outputs": [],
   "source": [
    "# construire le model \n",
    "model_ann = getModel(\"ann\")\n",
    "# predire les donnees de Test\n",
    "Y_pred_ann = model_ann.predict_proba(X_test)"
   ]
  },
  {
   "cell_type": "code",
   "execution_count": 50,
   "id": "09fb9c0f",
   "metadata": {},
   "outputs": [],
   "source": [
    "# construire le model \n",
    "model_bagging  = getModel('bagging')\n",
    "# predire les donnees de Test\n",
    "Y_pred_bagging = model_bagging.predict_proba(X_test)"
   ]
  },
  {
   "cell_type": "markdown",
   "id": "ca6aea06",
   "metadata": {},
   "source": [
    "# Models Evaluation"
   ]
  },
  {
   "cell_type": "code",
   "execution_count": 51,
   "id": "be63a662",
   "metadata": {},
   "outputs": [],
   "source": [
    "models = [\n",
    "  getModel('svm_linear'),\n",
    "  getModel('svm_rbf'),\n",
    "  getModel('random_forest'),\n",
    "  getModel('knn'),\n",
    "  getModel('naive_bayes'),\n",
    "  getModel(\"ann\"),\n",
    "  getModel('bagging')\n",
    "]\n",
    "models_names = [\n",
    "    'SVM Linear',\n",
    "    'SVM RBF',\n",
    "    'Random Forest',\n",
    "    'KNN',\n",
    "    'Naive Bayes',\n",
    "    'ANN',\n",
    "    'Ensemble Learning (Bagging)'\n",
    "]\n",
    "predicted_Xtest_proba = [\n",
    "    Y_pred_svm_lin,\n",
    "    Y_pred_svm_rbf,\n",
    "    Y_pred_rf,\n",
    "    Y_pred_knn,\n",
    "    Y_pred_nb,\n",
    "    Y_pred_ann,\n",
    "    Y_pred_bagging\n",
    "]"
   ]
  },
  {
   "cell_type": "code",
   "execution_count": 52,
   "id": "957cde67",
   "metadata": {},
   "outputs": [],
   "source": [
    "def getAccuracy(models):\n",
    "  accuracies = []\n",
    "  for model in models:\n",
    "    Y_Test_predi = model.predict(X_test)\n",
    "    accuracy = accuracy_score(Y_test, Y_Test_predi)\n",
    "    accuracies.append(accuracy)\n",
    "\n",
    "  return accuracies"
   ]
  },
  {
   "cell_type": "code",
   "execution_count": 53,
   "id": "1933e833",
   "metadata": {
    "scrolled": true
   },
   "outputs": [
    {
     "name": "stdout",
     "output_type": "stream",
     "text": [
      "accuracy SVM Linear :  0.3076923076923077\n",
      "accuracy SVM RBF :  0.46153846153846156\n",
      "accuracy Random Forest :  0.5384615384615384\n",
      "accuracy KNN :  0.7692307692307693\n",
      "accuracy Naive Bayes :  0.46153846153846156\n",
      "accuracy ANN :  0.7692307692307693\n",
      "accuracy Ensemble Learning (Bagging) :  0.5384615384615384\n"
     ]
    }
   ],
   "source": [
    "accuracies = getAccuracy(models)\n",
    "i=0\n",
    "for model in models_names:\n",
    "    print(f\"accuracy {model} :  {accuracies[i]}\")\n",
    "    i += 1"
   ]
  },
  {
   "cell_type": "code",
   "execution_count": 56,
   "id": "05218892",
   "metadata": {},
   "outputs": [
    {
     "name": "stdout",
     "output_type": "stream",
     "text": [
      "SVM Linear  Aire sous la courbe ROC: 0.6444444444444445\n",
      "SVM RBF  Aire sous la courbe ROC: 0.7015873015873014\n",
      "Random Forest  Aire sous la courbe ROC: 0.7150793650793652\n",
      "KNN  Aire sous la courbe ROC: 0.7484126984126984\n",
      "Naive Bayes  Aire sous la courbe ROC: 0.6420634920634921\n",
      "ANN  Aire sous la courbe ROC: 0.765079365079365\n",
      "Ensemble Learning (Bagging)  Aire sous la courbe ROC: 0.6523809523809523\n"
     ]
    }
   ],
   "source": [
    "i=0\n",
    "for  Y_test_pred_prob in predicted_Xtest_proba:\n",
    "#     Y_test_pred = Y_test_pred.reshape(-1, 1)\n",
    "    auc_roc = roc_auc_score(Y_test, Y_test_pred_prob , multi_class='ovr')\n",
    "    print(f\"{models_names[i]}  Aire sous la courbe ROC:\", auc_roc)\n",
    "    i += 1"
   ]
  },
  {
   "cell_type": "markdown",
   "id": "f7b3ff11",
   "metadata": {},
   "source": [
    "# the best Model"
   ]
  },
  {
   "cell_type": "code",
   "execution_count": 58,
   "id": "ca0db268",
   "metadata": {},
   "outputs": [],
   "source": [
    "max_index = np.argmax(accuracies)\n",
    "best_model = models[max_index]"
   ]
  },
  {
   "cell_type": "code",
   "execution_count": 59,
   "id": "7684801a",
   "metadata": {},
   "outputs": [
    {
     "data": {
      "text/html": [
       "<div>\n",
       "<style scoped>\n",
       "    .dataframe tbody tr th:only-of-type {\n",
       "        vertical-align: middle;\n",
       "    }\n",
       "\n",
       "    .dataframe tbody tr th {\n",
       "        vertical-align: top;\n",
       "    }\n",
       "\n",
       "    .dataframe thead th {\n",
       "        text-align: right;\n",
       "    }\n",
       "</style>\n",
       "<table border=\"1\" class=\"dataframe\">\n",
       "  <thead>\n",
       "    <tr style=\"text-align: right;\">\n",
       "      <th></th>\n",
       "      <th>Real</th>\n",
       "      <th>Predicted</th>\n",
       "    </tr>\n",
       "  </thead>\n",
       "  <tbody>\n",
       "    <tr>\n",
       "      <th>0</th>\n",
       "      <td>0</td>\n",
       "      <td>0</td>\n",
       "    </tr>\n",
       "    <tr>\n",
       "      <th>1</th>\n",
       "      <td>2</td>\n",
       "      <td>2</td>\n",
       "    </tr>\n",
       "    <tr>\n",
       "      <th>2</th>\n",
       "      <td>0</td>\n",
       "      <td>0</td>\n",
       "    </tr>\n",
       "    <tr>\n",
       "      <th>3</th>\n",
       "      <td>2</td>\n",
       "      <td>2</td>\n",
       "    </tr>\n",
       "    <tr>\n",
       "      <th>4</th>\n",
       "      <td>0</td>\n",
       "      <td>2</td>\n",
       "    </tr>\n",
       "    <tr>\n",
       "      <th>5</th>\n",
       "      <td>2</td>\n",
       "      <td>1</td>\n",
       "    </tr>\n",
       "    <tr>\n",
       "      <th>6</th>\n",
       "      <td>2</td>\n",
       "      <td>2</td>\n",
       "    </tr>\n",
       "    <tr>\n",
       "      <th>7</th>\n",
       "      <td>1</td>\n",
       "      <td>2</td>\n",
       "    </tr>\n",
       "    <tr>\n",
       "      <th>8</th>\n",
       "      <td>1</td>\n",
       "      <td>1</td>\n",
       "    </tr>\n",
       "    <tr>\n",
       "      <th>9</th>\n",
       "      <td>1</td>\n",
       "      <td>1</td>\n",
       "    </tr>\n",
       "    <tr>\n",
       "      <th>10</th>\n",
       "      <td>2</td>\n",
       "      <td>2</td>\n",
       "    </tr>\n",
       "    <tr>\n",
       "      <th>11</th>\n",
       "      <td>2</td>\n",
       "      <td>2</td>\n",
       "    </tr>\n",
       "    <tr>\n",
       "      <th>12</th>\n",
       "      <td>2</td>\n",
       "      <td>2</td>\n",
       "    </tr>\n",
       "  </tbody>\n",
       "</table>\n",
       "</div>"
      ],
      "text/plain": [
       "    Real   Predicted\n",
       "0       0          0\n",
       "1       2          2\n",
       "2       0          0\n",
       "3       2          2\n",
       "4       0          2\n",
       "5       2          1\n",
       "6       2          2\n",
       "7       1          2\n",
       "8       1          1\n",
       "9       1          1\n",
       "10      2          2\n",
       "11      2          2\n",
       "12      2          2"
      ]
     },
     "execution_count": 59,
     "metadata": {},
     "output_type": "execute_result"
    }
   ],
   "source": [
    "pd.DataFrame({\"Real \": Y_test , \"Predicted\" : best_model.predict(X_test)})"
   ]
  },
  {
   "cell_type": "markdown",
   "id": "cc97ec21",
   "metadata": {},
   "source": [
    "# saving the best model"
   ]
  },
  {
   "cell_type": "code",
   "execution_count": 60,
   "id": "ff343d9f",
   "metadata": {},
   "outputs": [],
   "source": [
    "model_path = '../models/model_question1.h5'\n",
    "with open(model_path, 'wb') as file:\n",
    "    pickle.dump((best_model, model_word2vec), file)"
   ]
  },
  {
   "cell_type": "markdown",
   "id": "89f382c5",
   "metadata": {},
   "source": [
    "# Test Model"
   ]
  },
  {
   "cell_type": "code",
   "execution_count": null,
   "id": "ce5db3ae",
   "metadata": {},
   "outputs": [],
   "source": [
    "i=1\n",
    "while True:\n",
    "    print(\"--------------  Testing  ---------------\")\n",
    "    \n",
    "    answer = input('الاجابه: ')\n",
    "    process = txt_preprocess(answer)\n",
    "    txt = get_word_vector(process, model_word2vec)\n",
    "    txt = txt.reshape(1, -1)\n",
    "    predicted_ques = best_model.predict(txt)[0]\n",
    "    print(f'Grade of Answer Is : {predicted_ques}')\n",
    "    \n",
    "    exit = int(input(\"Enter Zero To Exit From System  OR One To Run The Program : \\n\"))\n",
    "    if exit == 0:\n",
    "        print('Exit From System...','Thank You')\n",
    "        break\n",
    "    else:\n",
    "        continue   \n",
    "        print('\\n')"
   ]
  },
  {
   "cell_type": "code",
   "execution_count": null,
   "id": "4247c261",
   "metadata": {},
   "outputs": [],
   "source": []
  },
  {
   "cell_type": "code",
   "execution_count": null,
   "id": "96af8809",
   "metadata": {},
   "outputs": [],
   "source": []
  }
 ],
 "metadata": {
  "kernelspec": {
   "display_name": "Python 3 (ipykernel)",
   "language": "python",
   "name": "python3"
  },
  "language_info": {
   "codemirror_mode": {
    "name": "ipython",
    "version": 3
   },
   "file_extension": ".py",
   "mimetype": "text/x-python",
   "name": "python",
   "nbconvert_exporter": "python",
   "pygments_lexer": "ipython3",
   "version": "3.10.5"
  }
 },
 "nbformat": 4,
 "nbformat_minor": 5
}
