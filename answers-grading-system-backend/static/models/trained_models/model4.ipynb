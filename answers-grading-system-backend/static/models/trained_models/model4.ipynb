{
 "cells": [
  {
   "cell_type": "markdown",
   "id": "64c9d6bc",
   "metadata": {},
   "source": [
    "# Import Libraries"
   ]
  },
  {
   "cell_type": "code",
   "execution_count": 1,
   "id": "97bccc4f",
   "metadata": {},
   "outputs": [],
   "source": [
    "import pandas as pd\n",
    "import numpy as np\n",
    "import matplotlib.pyplot as plt\n",
    "import seaborn as sns\n",
    "import string \n",
    "from nltk.corpus import stopwords\n",
    "from nltk.stem.isri import ISRIStemmer\n",
    "from sklearn.model_selection import train_test_split\n",
    "import tensorflow as tf \n",
    "from keras.preprocessing.text import Tokenizer\n",
    "from tensorflow.keras.preprocessing.sequence import pad_sequences\n",
    "from keras.models import Sequential\n",
    "from keras.layers import Embedding, LSTM, Dense, Dropout\n",
    "from sklearn.model_selection import cross_val_score\n",
    "from sklearn.metrics import accuracy_score\n",
    "from sklearn.metrics import roc_auc_score\n",
    "\n",
    "# from keras.models import Sequential\n",
    "from sklearn.svm import SVC\n",
    "from sklearn.ensemble import RandomForestClassifier\n",
    "from sklearn.neighbors import KNeighborsClassifier\n",
    "from sklearn.naive_bayes import GaussianNB\n",
    "from sklearn.ensemble import BaggingClassifier\n",
    "from sklearn.neural_network import MLPClassifier\n",
    "\n",
    "\n",
    "import nltk\n",
    "from nltk.tokenize import word_tokenize\n",
    "from gensim.models import Word2Vec\n",
    "import pickle "
   ]
  },
  {
   "cell_type": "code",
   "execution_count": 2,
   "id": "aecb379d",
   "metadata": {},
   "outputs": [],
   "source": [
    "import warnings\n",
    "warnings.filterwarnings('ignore')# Load Data"
   ]
  },
  {
   "cell_type": "markdown",
   "id": "628afadc",
   "metadata": {},
   "source": [
    "# Load Data"
   ]
  },
  {
   "cell_type": "code",
   "execution_count": 3,
   "id": "fda6a507",
   "metadata": {},
   "outputs": [
    {
     "data": {
      "text/html": [
       "<div>\n",
       "<style scoped>\n",
       "    .dataframe tbody tr th:only-of-type {\n",
       "        vertical-align: middle;\n",
       "    }\n",
       "\n",
       "    .dataframe tbody tr th {\n",
       "        vertical-align: top;\n",
       "    }\n",
       "\n",
       "    .dataframe thead th {\n",
       "        text-align: right;\n",
       "    }\n",
       "</style>\n",
       "<table border=\"1\" class=\"dataframe\">\n",
       "  <thead>\n",
       "    <tr style=\"text-align: right;\">\n",
       "      <th></th>\n",
       "      <th>question_id</th>\n",
       "      <th>answer</th>\n",
       "      <th>grade</th>\n",
       "    </tr>\n",
       "  </thead>\n",
       "  <tbody>\n",
       "    <tr>\n",
       "      <th>0</th>\n",
       "      <td>4</td>\n",
       "      <td>الدين ، محاربة الفتنة والفساد ، القضاء على الب...</td>\n",
       "      <td>2</td>\n",
       "    </tr>\n",
       "    <tr>\n",
       "      <th>1</th>\n",
       "      <td>4</td>\n",
       "      <td>الفتح الاسلامي</td>\n",
       "      <td>1</td>\n",
       "    </tr>\n",
       "    <tr>\n",
       "      <th>2</th>\n",
       "      <td>4</td>\n",
       "      <td>ساعدت العوامل الدينية والعسكرية في نمو المرابط...</td>\n",
       "      <td>2</td>\n",
       "    </tr>\n",
       "  </tbody>\n",
       "</table>\n",
       "</div>"
      ],
      "text/plain": [
       "   question_id                                             answer  grade\n",
       "0            4  الدين ، محاربة الفتنة والفساد ، القضاء على الب...      2\n",
       "1            4                                     الفتح الاسلامي      1\n",
       "2            4  ساعدت العوامل الدينية والعسكرية في نمو المرابط...      2"
      ]
     },
     "execution_count": 3,
     "metadata": {},
     "output_type": "execute_result"
    }
   ],
   "source": [
    "# read csv file into pandas\n",
    "df = pd.read_csv(\"../datasets/question4.csv\")\n",
    "df.head(3)"
   ]
  },
  {
   "cell_type": "markdown",
   "id": "4ef5a83d",
   "metadata": {},
   "source": [
    "# EDA"
   ]
  },
  {
   "cell_type": "code",
   "execution_count": 4,
   "id": "f1218d9e",
   "metadata": {},
   "outputs": [
    {
     "name": "stdout",
     "output_type": "stream",
     "text": [
      "<class 'pandas.core.frame.DataFrame'>\n",
      "RangeIndex: 71 entries, 0 to 70\n",
      "Data columns (total 3 columns):\n",
      " #   Column       Non-Null Count  Dtype \n",
      "---  ------       --------------  ----- \n",
      " 0   question_id  71 non-null     int64 \n",
      " 1   answer       71 non-null     object\n",
      " 2   grade        71 non-null     int64 \n",
      "dtypes: int64(2), object(1)\n",
      "memory usage: 1.8+ KB\n"
     ]
    }
   ],
   "source": [
    "df.info()"
   ]
  },
  {
   "cell_type": "code",
   "execution_count": 5,
   "id": "56f232f6",
   "metadata": {},
   "outputs": [
    {
     "data": {
      "text/plain": [
       "grade\n",
       "0    25\n",
       "1    21\n",
       "2    25\n",
       "dtype: int64"
      ]
     },
     "execution_count": 5,
     "metadata": {},
     "output_type": "execute_result"
    }
   ],
   "source": [
    "df.groupby('grade').size()"
   ]
  },
  {
   "cell_type": "code",
   "execution_count": 6,
   "id": "1cc13d23",
   "metadata": {},
   "outputs": [
    {
     "data": {
      "text/plain": [
       "10"
      ]
     },
     "execution_count": 6,
     "metadata": {},
     "output_type": "execute_result"
    }
   ],
   "source": [
    "df.duplicated().sum()"
   ]
  },
  {
   "cell_type": "code",
   "execution_count": 7,
   "id": "d72e7d91",
   "metadata": {},
   "outputs": [
    {
     "data": {
      "image/png": "[encoded data removed]",
      "text/plain": [
       "<Figure size 1000x600 with 1 Axes>"
      ]
     },
     "metadata": {},
     "output_type": "display_data"
    }
   ],
   "source": [
    "plt.figure(figsize=(10, 6))\n",
    "sns.countplot(data=df, x='grade')\n",
    "plt.show()# Data Cleaning"
   ]
  },
  {
   "cell_type": "markdown",
   "id": "0d1a5378",
   "metadata": {},
   "source": [
    "# Data Cleaning"
   ]
  },
  {
   "cell_type": "code",
   "execution_count": 8,
   "id": "1966e7f3",
   "metadata": {},
   "outputs": [],
   "source": [
    "df.drop('question_id', axis=1, inplace=True)"
   ]
  },
  {
   "cell_type": "code",
   "execution_count": 9,
   "id": "c5ff0a3f",
   "metadata": {},
   "outputs": [],
   "source": [
    "df.dropna(inplace=True)"
   ]
  },
  {
   "cell_type": "code",
   "execution_count": 10,
   "id": "5152c480",
   "metadata": {},
   "outputs": [],
   "source": [
    "df.drop_duplicates(inplace=True)"
   ]
  },
  {
   "cell_type": "markdown",
   "id": "e7f7d44b",
   "metadata": {},
   "source": [
    "# Data Pre-Preocessing"
   ]
  },
  {
   "cell_type": "code",
   "execution_count": 11,
   "id": "c16a96b3",
   "metadata": {},
   "outputs": [],
   "source": [
    "def txt_preprocess(text):\n",
    "    text = text.lower()\n",
    "    tokens = word_tokenize(text)\n",
    "    #tokens = [token for token in tokens if token.isalpha() and token not in stop_words]\n",
    "    return tokens"
   ]
  },
  {
   "cell_type": "code",
   "execution_count": 12,
   "id": "82264de2",
   "metadata": {},
   "outputs": [],
   "source": [
    "df['tokens'] = df['answer'].apply(txt_preprocess)"
   ]
  },
  {
   "cell_type": "markdown",
   "id": "fd7e1786",
   "metadata": {},
   "source": [
    "# Text Representation"
   ]
  },
  {
   "cell_type": "code",
   "execution_count": 13,
   "id": "5e01c773",
   "metadata": {},
   "outputs": [],
   "source": [
    "model_word2vec = Word2Vec(df['tokens'], vector_size=100, window=5, min_count=1, workers=4)"
   ]
  },
  {
   "cell_type": "code",
   "execution_count": 14,
   "id": "d8d07170",
   "metadata": {},
   "outputs": [],
   "source": [
    "def get_word_vector(tokens, model_word2vec):\n",
    "    textvector = np.zeros((100,), dtype='float32')\n",
    "    for token in tokens:\n",
    "        try:\n",
    "            textvector += model_word2vec.wv[token]\n",
    "        except KeyError:\n",
    "            continue\n",
    "    return textvector\n",
    "\n",
    "\n",
    "df['textvector'] = df['tokens'].apply(lambda x: get_word_vector(x, model_word2vec))"
   ]
  },
  {
   "cell_type": "code",
   "execution_count": 15,
   "id": "d6ab2036",
   "metadata": {},
   "outputs": [
    {
     "data": {
      "text/html": [
       "<div>\n",
       "<style scoped>\n",
       "    .dataframe tbody tr th:only-of-type {\n",
       "        vertical-align: middle;\n",
       "    }\n",
       "\n",
       "    .dataframe tbody tr th {\n",
       "        vertical-align: top;\n",
       "    }\n",
       "\n",
       "    .dataframe thead th {\n",
       "        text-align: right;\n",
       "    }\n",
       "</style>\n",
       "<table border=\"1\" class=\"dataframe\">\n",
       "  <thead>\n",
       "    <tr style=\"text-align: right;\">\n",
       "      <th></th>\n",
       "      <th>answer</th>\n",
       "      <th>grade</th>\n",
       "      <th>tokens</th>\n",
       "      <th>textvector</th>\n",
       "    </tr>\n",
       "  </thead>\n",
       "  <tbody>\n",
       "    <tr>\n",
       "      <th>0</th>\n",
       "      <td>الدين ، محاربة الفتنة والفساد ، القضاء على الب...</td>\n",
       "      <td>2</td>\n",
       "      <td>[الدين, ،, محاربة, الفتنة, والفساد, ،, القضاء,...</td>\n",
       "      <td>[0.015800795, -0.020237716, 0.025358256, 0.033...</td>\n",
       "    </tr>\n",
       "    <tr>\n",
       "      <th>1</th>\n",
       "      <td>الفتح الاسلامي</td>\n",
       "      <td>1</td>\n",
       "      <td>[الفتح, الاسلامي]</td>\n",
       "      <td>[-0.016666936, -0.0063757086, 0.016537782, -0....</td>\n",
       "    </tr>\n",
       "    <tr>\n",
       "      <th>2</th>\n",
       "      <td>ساعدت العوامل الدينية والعسكرية في نمو المرابط...</td>\n",
       "      <td>2</td>\n",
       "      <td>[ساعدت, العوامل, الدينية, والعسكرية, في, نمو, ...</td>\n",
       "      <td>[0.008272307, -0.0025257377, -0.014166871, -0....</td>\n",
       "    </tr>\n",
       "    <tr>\n",
       "      <th>3</th>\n",
       "      <td>كانوا يتمتعون بالقوة العسكرية الكبيرة والقدرة ...</td>\n",
       "      <td>2</td>\n",
       "      <td>[كانوا, يتمتعون, بالقوة, العسكرية, الكبيرة, وا...</td>\n",
       "      <td>[-0.013107003, 0.04101819, -0.00573256, -0.010...</td>\n",
       "    </tr>\n",
       "    <tr>\n",
       "      <th>4</th>\n",
       "      <td>التوغل في إفريقيا</td>\n",
       "      <td>1</td>\n",
       "      <td>[التوغل, في, إفريقيا]</td>\n",
       "      <td>[0.00040667225, 0.004048938, -0.002278315, 0.0...</td>\n",
       "    </tr>\n",
       "  </tbody>\n",
       "</table>\n",
       "</div>"
      ],
      "text/plain": [
       "                                              answer  grade  \\\n",
       "0  الدين ، محاربة الفتنة والفساد ، القضاء على الب...      2   \n",
       "1                                     الفتح الاسلامي      1   \n",
       "2  ساعدت العوامل الدينية والعسكرية في نمو المرابط...      2   \n",
       "3  كانوا يتمتعون بالقوة العسكرية الكبيرة والقدرة ...      2   \n",
       "4                                  التوغل في إفريقيا      1   \n",
       "\n",
       "                                              tokens  \\\n",
       "0  [الدين, ،, محاربة, الفتنة, والفساد, ،, القضاء,...   \n",
       "1                                  [الفتح, الاسلامي]   \n",
       "2  [ساعدت, العوامل, الدينية, والعسكرية, في, نمو, ...   \n",
       "3  [كانوا, يتمتعون, بالقوة, العسكرية, الكبيرة, وا...   \n",
       "4                              [التوغل, في, إفريقيا]   \n",
       "\n",
       "                                          textvector  \n",
       "0  [0.015800795, -0.020237716, 0.025358256, 0.033...  \n",
       "1  [-0.016666936, -0.0063757086, 0.016537782, -0....  \n",
       "2  [0.008272307, -0.0025257377, -0.014166871, -0....  \n",
       "3  [-0.013107003, 0.04101819, -0.00573256, -0.010...  \n",
       "4  [0.00040667225, 0.004048938, -0.002278315, 0.0...  "
      ]
     },
     "execution_count": 15,
     "metadata": {},
     "output_type": "execute_result"
    }
   ],
   "source": [
    "df.head()"
   ]
  },
  {
   "cell_type": "markdown",
   "id": "87068019",
   "metadata": {},
   "source": [
    "# split the data"
   ]
  },
  {
   "cell_type": "code",
   "execution_count": 16,
   "id": "8a2e81e4",
   "metadata": {},
   "outputs": [],
   "source": [
    "train_data = df.sample(frac=0.85, random_state=42)\n",
    "test_data = df.drop(train_data.index)"
   ]
  },
  {
   "cell_type": "code",
   "execution_count": 17,
   "id": "f5f7b9a0",
   "metadata": {},
   "outputs": [
    {
     "name": "stdout",
     "output_type": "stream",
     "text": [
      "[[-5.55047300e-03  8.87451507e-03  9.11796093e-03  2.46180035e-02\n",
      "  -5.26047312e-03 -8.89614224e-03 -1.88130117e-03  1.64755210e-02\n",
      "  -1.73910707e-02  1.24729341e-02 -9.03252512e-04 -8.17540102e-04\n",
      "  -1.91010870e-02  1.04221301e-02 -2.19713710e-03 -1.13512035e-02\n",
      "  -6.34522829e-03  1.18984971e-02  4.36695945e-03 -7.45634688e-03\n",
      "  -2.59897951e-03  2.11323537e-02 -8.64753500e-03 -1.35104754e-04\n",
      "   5.78385498e-03 -1.22084599e-02 -8.83352105e-03  4.94968984e-03\n",
      "  -7.83259142e-03 -7.27149099e-03 -2.09172070e-02 -1.08921221e-02\n",
      "   2.06746720e-02 -2.33416539e-03 -5.19477390e-03  1.01472568e-02\n",
      "   1.29830902e-02 -1.84646156e-02 -8.23494978e-04  1.48016610e-03\n",
      "   7.75461644e-03 -2.32582167e-03 -1.25468411e-02  8.82458314e-03\n",
      "   4.55242582e-03  1.21426722e-02 -2.12074127e-02  8.21700320e-03\n",
      "   5.18256798e-03 -4.98970365e-03 -7.74770603e-03  1.06484964e-02\n",
      "  -1.82792079e-04  1.03491656e-02  9.82422661e-03 -1.12984166e-03\n",
      "   1.33870346e-02 -2.88808718e-04  1.33767957e-02  1.02235992e-02\n",
      "  -2.70587811e-03  5.77347726e-03 -9.24344175e-03 -2.06234362e-02\n",
      "   5.16608823e-03 -1.02062766e-02 -2.67140730e-03  1.57566797e-02\n",
      "  -4.29259893e-03  4.03243350e-03  6.14279835e-03  1.23586114e-02\n",
      "   6.81310939e-03 -1.20888157e-02  2.02874951e-02  5.08585898e-03\n",
      "   1.31513802e-02 -3.90934292e-03 -1.12444572e-02 -2.41909400e-02\n",
      "  -1.09421937e-02  9.46458708e-03  4.64471150e-03  2.79097073e-03\n",
      "  -1.15039470e-02  3.66765028e-03 -4.64225374e-03 -4.14232910e-03\n",
      "   1.15914224e-02  1.60574075e-02  9.78269614e-04  4.69705649e-03\n",
      "  -1.22598317e-02 -5.61714545e-03  1.17045082e-02  1.59940999e-02\n",
      "   2.87420116e-04 -1.69866742e-03  1.05696097e-02  5.42076584e-03]\n",
      " [-1.62604116e-02  6.86894879e-02 -4.62520793e-02  3.54475877e-03\n",
      "  -3.91339436e-02 -1.13345888e-02  5.11645265e-02  5.36397956e-02\n",
      "  -1.62519440e-02  1.81120038e-02  2.43490357e-02  5.60128922e-03\n",
      "  -2.17834264e-02  3.88849378e-02 -1.27195651e-02  9.48538445e-03\n",
      "   6.77970499e-02  1.28132310e-02 -4.11523134e-02 -7.39728883e-02\n",
      "   3.61698531e-02 -2.70779803e-02  3.74224819e-02 -3.81324887e-02\n",
      "   2.87934579e-02  2.71515781e-03 -1.99160594e-02 -2.50713117e-02\n",
      "  -2.41149031e-02  4.03739400e-02  2.86532175e-02  3.89275476e-02\n",
      "   2.67112721e-02 -5.19677885e-02  1.28719946e-02  2.11542435e-02\n",
      "   2.59309076e-04  3.99686396e-05 -3.77365984e-02  2.89916135e-02\n",
      "  -2.23335698e-02 -6.64342865e-02 -5.95457330e-02 -2.76157912e-03\n",
      "   2.67872065e-02  4.13939655e-02  1.86544587e-03 -5.79705089e-02\n",
      "   2.94116456e-02 -1.14469454e-02  4.99546900e-02 -1.97964534e-02\n",
      "  -3.42890806e-03  1.94896497e-02  2.35225316e-02 -3.08098663e-02\n",
      "   6.79960288e-03 -4.11087535e-02 -6.13520034e-02  6.05637170e-02\n",
      "   2.84204613e-02  4.07501869e-03  2.78200302e-03 -4.07156497e-02\n",
      "   4.03115992e-03  3.32535547e-03  2.31576581e-02  5.87626314e-03\n",
      "  -2.42716856e-02  4.05750461e-02 -5.57844527e-03  2.32699681e-02\n",
      "  -1.51855703e-02  8.86900257e-03  3.10840309e-02  4.54893475e-03\n",
      "  -3.24742794e-02 -1.07468683e-02 -2.88085546e-02 -1.03633078e-02\n",
      "  -2.09296774e-02 -1.23140793e-02  7.49046681e-03  6.72002602e-03\n",
      "  -1.13446983e-02 -1.51952263e-02  2.33374797e-02 -3.58123146e-03\n",
      "   4.41176631e-03 -3.46259624e-02  5.57488725e-02  1.29314028e-02\n",
      "   3.94727141e-02  5.10236062e-03  1.27779199e-02 -5.38685359e-04\n",
      "   3.07219066e-02 -4.33167741e-02 -1.63526479e-02  3.04779820e-02]\n",
      " [-3.75673138e-02  2.20254865e-02 -2.21864861e-02 -2.71024313e-02\n",
      "   5.81672043e-02 -3.26201208e-02  4.12256792e-02  5.88771775e-02\n",
      "  -4.96733189e-02  2.11057793e-02 -8.28957185e-03 -1.12662055e-02\n",
      "   3.68868299e-02  4.56437655e-02  3.05578839e-02 -4.73804772e-02\n",
      "  -3.52819776e-03  4.14342284e-02 -1.66107044e-02 -7.85170794e-02\n",
      "   3.65868285e-02 -5.32079563e-02  2.05567926e-02 -5.50816953e-02\n",
      "   6.72131451e-03  7.92144425e-03 -2.43837144e-02 -4.77743335e-03\n",
      "  -3.16715948e-02 -2.25124396e-02  6.96807504e-02  2.33993493e-02\n",
      "  -2.06408873e-02  2.03422550e-03  1.07544456e-02 -1.45884324e-02\n",
      "  -5.07747829e-02 -7.01890746e-03  3.78670637e-03 -4.94728982e-02\n",
      "   1.89745389e-02 -2.82123350e-02 -1.66484248e-03  9.78942588e-03\n",
      "   3.07212025e-02  3.15786805e-04  4.64872830e-03 -3.71415056e-02\n",
      "   3.47548798e-02 -6.70059100e-02  2.98353042e-02 -5.31051941e-02\n",
      "   8.03441927e-03  4.40999866e-04 -2.00908594e-02 -3.68204489e-02\n",
      "  -1.36326998e-05 -1.93573833e-02 -2.62826905e-02  2.36037988e-02\n",
      "   1.58657581e-02 -1.37242768e-03  6.07870817e-02 -4.43880120e-03\n",
      "  -3.11851650e-02  4.43958454e-02  2.56459527e-02 -1.86070614e-03\n",
      "  -7.17720687e-02  6.06728233e-02 -1.78060662e-02  1.83355026e-02\n",
      "  -1.69016644e-02  4.36867177e-02  4.45009880e-02 -1.01385452e-02\n",
      "   5.01550129e-03  3.01337056e-02 -5.64242080e-02 -4.57258224e-02\n",
      "  -5.55577874e-02 -2.52001397e-02 -2.17786599e-02  2.58790539e-03\n",
      "  -2.56118253e-02 -3.40859033e-02  3.82738411e-02  2.49495939e-03\n",
      "   1.98807977e-02 -3.85906957e-02  6.09380715e-02  1.05234124e-02\n",
      "   3.22206654e-02 -1.70267373e-02  3.69521454e-02 -3.55765522e-02\n",
      "   6.96172118e-02 -4.96952757e-02 -1.09323170e-02  3.40168662e-02]\n",
      " [ 1.62117556e-02  3.32890935e-02  5.56114037e-03  1.01185162e-02\n",
      "  -1.65888742e-02  1.00278063e-04 -1.32751400e-02  3.55679877e-02\n",
      "   9.29217786e-03 -4.11271583e-03  6.24658121e-03  1.23243434e-02\n",
      "   1.18404301e-03  5.48385363e-03 -1.72879267e-02 -5.23135439e-03\n",
      "   1.99220832e-02 -8.08066130e-03 -2.94938851e-02 -1.78095289e-02\n",
      "  -1.16001815e-04 -3.74407275e-03 -2.32144957e-03 -2.42418535e-02\n",
      "   4.66504134e-05  1.31758945e-02 -2.04334818e-02 -5.61689585e-03\n",
      "   1.17031410e-02  1.04435245e-02 -1.95458680e-02 -4.41721454e-03\n",
      "  -1.30201050e-03 -4.08400595e-02 -1.94723308e-02 -1.30457878e-02\n",
      "   3.67906410e-03 -9.42838751e-03 -4.87330044e-03 -1.81788243e-02\n",
      "  -1.75156072e-02 -5.53076388e-03  1.58917019e-03 -7.23292213e-03\n",
      "   9.02431272e-03  1.03090182e-02 -2.03990471e-02 -8.27175938e-03\n",
      "  -4.24990314e-04  1.56788379e-02  1.90094467e-02  1.18525866e-02\n",
      "  -2.19815057e-02 -2.23725326e-02 -2.27234559e-04 -4.19602394e-02\n",
      "  -5.98904118e-03 -1.32753011e-02 -3.41404937e-02  6.86056912e-04\n",
      "   8.66886694e-04 -1.51911993e-02  6.42712694e-03  1.15001611e-02\n",
      "   7.28046335e-03  2.19842531e-02  2.84726582e-02  1.61859673e-04\n",
      "  -2.49686521e-02  7.85958022e-03  6.63853390e-03 -9.96661466e-03\n",
      "  -9.58270580e-03 -2.55127903e-02  3.12510552e-03 -8.07516556e-03\n",
      "   2.88831536e-02  1.41729619e-02  1.03296777e-02  2.15235190e-03\n",
      "  -5.17952815e-03 -4.25957516e-03 -8.40963796e-03 -2.88767181e-03\n",
      "  -9.68663488e-03 -9.41017084e-03  2.33181883e-02 -5.37570100e-04\n",
      "  -1.20348064e-02  1.61293764e-02  2.00546999e-02 -1.13133304e-02\n",
      "   2.19776221e-02 -1.14488350e-02  1.11717694e-02  5.46293333e-03\n",
      "  -2.35462729e-02  1.92756206e-02 -1.55314151e-02  1.95507053e-02]\n",
      " [-1.67098138e-02  1.79687385e-02  1.05796028e-02  5.16104000e-03\n",
      "   3.59619735e-03  4.21648892e-03  1.73571520e-04 -9.40635800e-06\n",
      "  -2.64424784e-03  9.96191986e-03 -5.23714302e-03 -5.79093257e-03\n",
      "   3.26314522e-03  2.28682044e-03  1.95564069e-02 -6.56397315e-05\n",
      "  -1.42871626e-02  2.79851840e-03 -7.71545386e-03 -5.30604506e-04\n",
      "  -5.28627634e-03  8.76369327e-03  6.87099388e-03  7.24902377e-04\n",
      "  -4.31349408e-03 -1.47206453e-03 -3.93201923e-03 -1.21368561e-02\n",
      "   6.81299902e-03 -8.41133203e-03  3.95072345e-03 -1.45561695e-02\n",
      "  -4.15611546e-03  1.16710151e-02 -1.07660133e-03 -4.80852462e-03\n",
      "   5.30781411e-03  1.44839128e-02  1.02143968e-02 -1.24628041e-02\n",
      "  -2.57875375e-03  1.12253912e-02 -6.76104194e-03 -8.31129029e-03\n",
      "  -9.02784802e-03  2.59926450e-03 -8.79798643e-03  5.73430723e-03\n",
      "   3.94098973e-03 -2.48917402e-03 -9.46332235e-03  8.25469196e-03\n",
      "   5.43034729e-03 -1.30789690e-02  9.94727947e-03  6.33519702e-03\n",
      "   8.19364469e-03 -3.77332745e-03  1.20276380e-02 -1.17364340e-02\n",
      "  -1.43286893e-02 -7.21421791e-04  4.35815752e-03 -3.53758549e-03\n",
      "  -1.49309067e-02 -7.66003737e-03 -6.06155302e-03  7.32239243e-03\n",
      "  -8.71166028e-03  1.05653489e-02 -5.74323628e-03 -8.43565818e-03\n",
      "  -2.68364279e-03  5.42716403e-03 -9.94503219e-03 -1.23511869e-02\n",
      "   2.00080778e-03 -3.74111440e-03 -1.72022190e-02  3.64665594e-03\n",
      "  -2.38552643e-03 -1.44414362e-02  6.57251477e-03  8.20011925e-03\n",
      "   7.11155124e-04 -2.28887238e-03 -1.42089487e-03 -2.16230704e-03\n",
      "   2.95718689e-03 -3.17126047e-03 -1.34815499e-02  6.13045471e-04\n",
      "   5.83809847e-03  1.40322442e-03  1.33606540e-02  8.33127555e-03\n",
      "   1.31094316e-03  1.06380507e-02  5.61301177e-03 -1.15861651e-04]\n",
      " [-2.45192200e-02 -5.69911581e-03  1.42628467e-03  2.85430104e-02\n",
      "  -1.43234152e-02  1.37249669e-02 -4.20767069e-03  2.15092581e-03\n",
      "   5.67118404e-03  1.32557331e-02  1.06367990e-02 -9.37315077e-03\n",
      "  -2.00229473e-02  2.35585123e-03 -1.84014961e-02 -1.02376305e-02\n",
      "  -9.35428496e-03  4.41404385e-03  8.44300725e-03  5.84631134e-03\n",
      "   1.43963136e-02 -1.11137442e-02  1.08170528e-02  3.28132417e-03\n",
      "  -8.89283791e-03 -7.43950065e-03  2.82835141e-02 -6.48470223e-03\n",
      "  -6.49173837e-03  9.71890893e-03  3.26982513e-03  1.64294895e-03\n",
      "   9.22857318e-03 -4.85793315e-03  1.38770323e-02 -1.15552070e-02\n",
      "   9.09197610e-03  7.42076989e-03  2.73445016e-03  5.16212406e-03\n",
      "  -4.24435828e-04 -6.64112577e-03  1.00447740e-02 -1.85625628e-02\n",
      "   1.23078572e-02  1.09760687e-02  4.61618882e-04 -4.51594498e-03\n",
      "   1.74014457e-02  4.26380662e-03  6.89644879e-03 -8.62590969e-04\n",
      "   1.02490196e-02 -4.13834164e-03 -1.54920816e-02 -6.83354866e-03\n",
      "   5.52562345e-03  2.24366002e-02  3.85589432e-03  6.38920022e-03\n",
      "  -1.50360800e-02 -1.68746598e-02  7.61248637e-04  1.17167756e-02\n",
      "  -3.05537740e-03  3.84626305e-03  1.52646005e-02 -1.12116919e-03\n",
      "   6.55368343e-03  1.42740179e-03 -9.57318116e-03 -2.95019941e-03\n",
      "  -1.13932239e-02  1.17615703e-03 -3.19742132e-04  1.56621747e-02\n",
      "   7.13367714e-03  2.46356353e-02  1.05542168e-02  4.77925176e-03\n",
      "   1.18281208e-02 -5.99830225e-03  2.31080526e-03 -2.57815830e-02\n",
      "   2.12503895e-02 -1.12138223e-02  1.47599000e-02  1.35362742e-03\n",
      "   1.03993472e-02  2.98553705e-02  7.32492516e-03 -3.07367090e-03\n",
      "  -9.30484850e-03 -1.65107474e-02 -2.62291357e-02  5.31702442e-03\n",
      "   4.82528470e-03 -1.61565728e-02 -1.70303490e-02  7.00346427e-03]\n",
      " [-8.03800672e-03 -1.71561502e-02  2.08305176e-02  1.22095435e-03\n",
      "  -1.73986666e-02 -6.21660892e-03 -6.76908484e-03  7.74819404e-04\n",
      "   1.50717041e-02 -5.17266523e-03 -7.92218838e-04 -1.09938607e-02\n",
      "   1.61666833e-02  1.94779299e-02  1.95847102e-03  3.69004486e-03\n",
      "   8.79322086e-03  6.37654681e-04  4.08121059e-03 -1.03550870e-02\n",
      "   6.21288316e-04 -5.13349194e-03  6.24483358e-03 -1.13537107e-02\n",
      "   1.10357525e-02  1.13946816e-03 -2.62677521e-02  1.90445967e-02\n",
      "  -1.01856161e-02  1.50686307e-02 -2.83877878e-03  2.03743000e-02\n",
      "   2.52838507e-02 -1.20918863e-02 -7.37780798e-03  3.32920253e-03\n",
      "   1.47273764e-02 -2.23640613e-02  9.95022058e-03 -7.55057577e-03\n",
      "  -1.86226480e-02 -1.40765924e-02 -9.30612162e-03  2.62966077e-03\n",
      "  -2.82861292e-03  1.11451093e-02 -9.23656300e-03  1.26306489e-02\n",
      "   4.33680555e-03 -2.34034145e-03 -4.69965860e-04  7.80197000e-03\n",
      "   1.76945627e-02 -2.69029546e-03  1.56412460e-03  4.34481679e-03\n",
      "   5.82165318e-03  4.61683935e-03 -1.40071986e-02  1.43766608e-02\n",
      "  -7.72339711e-03 -9.76419426e-04 -9.04654246e-03  9.66368988e-03\n",
      "   2.45710509e-03 -6.92375377e-03  1.51718315e-02 -2.31212727e-03\n",
      "  -1.53654208e-03  1.70272626e-02  3.01704463e-03  4.53424640e-03\n",
      "  -6.19464461e-03 -1.20705375e-02  5.78126777e-03  2.03856304e-02\n",
      "  -3.45775019e-03 -1.12442905e-03  2.18430962e-02 -2.01884843e-03\n",
      "   1.00612640e-04  3.52085941e-03  9.27729439e-03  1.56905456e-03\n",
      "  -1.65467933e-02 -4.28758794e-03 -5.46962768e-03 -1.93808470e-02\n",
      "   1.05312094e-03  6.27064565e-03  1.94869898e-02  5.85703226e-03\n",
      "   2.72661820e-03 -2.29416173e-02  2.54920870e-02 -5.55877853e-03\n",
      "  -1.09260203e-03 -1.45561667e-02  6.53399341e-03 -1.28259631e-02]\n",
      " [ 1.70116723e-02  1.17135299e-02  4.63299826e-03  2.95697991e-03\n",
      "   3.97354104e-02 -1.45517625e-02 -8.51616822e-03  5.79124428e-02\n",
      "   6.27092738e-03 -2.00394262e-02 -2.13735662e-02  3.40237515e-03\n",
      "   1.08782053e-02 -6.93906285e-03  1.28914975e-02 -3.38190943e-02\n",
      "   2.36948077e-02  1.20240333e-03  2.42004637e-04  2.26001441e-02\n",
      "  -2.71242801e-02 -9.05395672e-03  3.52049246e-02  1.72098028e-03\n",
      "  -1.55187901e-02 -1.19254049e-02 -4.87216376e-02  6.34239754e-03\n",
      "  -2.12802030e-02  4.02643792e-02 -5.46897668e-03  5.69081074e-03\n",
      "   9.00417566e-03  6.26505679e-03 -2.10245848e-02  3.18028927e-02\n",
      "   3.53962649e-03 -1.44119542e-02 -1.13459080e-02  6.54164702e-04\n",
      "  -8.14299285e-03  4.48369719e-02  5.93250692e-02 -1.64152030e-03\n",
      "  -1.73960123e-02 -1.79922115e-03  1.59790590e-02 -3.97859327e-02\n",
      "  -1.19595155e-02  1.04084052e-02  3.35524827e-02 -2.46830266e-02\n",
      "  -4.89652017e-03 -4.71266471e-02 -1.16369985e-02 -1.28272045e-02\n",
      "   5.88120753e-03  2.27232017e-02 -1.95734464e-02  2.17819214e-03\n",
      "   2.48288009e-02  2.74408162e-02  2.05784366e-02  9.79913957e-03\n",
      "   2.25331914e-02  5.83989359e-03  2.08092555e-02 -1.61990225e-02\n",
      "  -2.20044944e-02 -3.05926614e-02 -3.29654142e-02 -2.33651809e-02\n",
      "   2.81906538e-02 -1.31405126e-02  1.65920183e-02 -4.15535271e-03\n",
      "   1.35379601e-02  1.53829856e-03 -3.42607172e-03 -1.10174008e-02\n",
      "   6.34645764e-03  1.26277022e-02 -1.88417882e-02  2.29113586e-02\n",
      "  -3.36182825e-02  1.66781787e-02  1.40701476e-02  5.06067239e-02\n",
      "   4.46527731e-04 -1.96089093e-02  2.93605831e-02  2.12408695e-02\n",
      "   1.99857540e-02 -1.65273808e-02  1.68097019e-02  7.15560419e-03\n",
      "  -2.22104858e-03  3.45759243e-02 -1.85578875e-03 -1.49930092e-02]\n",
      " [-1.85796730e-02 -1.25568975e-02 -2.87791640e-02 -1.55254286e-02\n",
      "   1.01461904e-02 -4.05696444e-02  2.65405364e-02  6.98926374e-02\n",
      "   2.57149134e-02 -5.97321615e-03  2.05285363e-02 -3.24176550e-02\n",
      "  -9.52610467e-03 -3.03227082e-03  2.33449158e-03 -2.69247871e-03\n",
      "   2.83556581e-02  5.68331219e-03 -3.43910698e-03 -1.84078561e-03\n",
      "   3.68780294e-03 -1.80263352e-02  1.44339362e-02 -1.20081357e-03\n",
      "   8.72112531e-03 -1.36720808e-03 -1.08855031e-02 -6.62924722e-03\n",
      "  -1.75322555e-02 -6.72903284e-03  1.45450085e-02  1.28008220e-02\n",
      "   3.83157805e-02 -3.22802290e-02 -1.66476220e-02  3.23609747e-02\n",
      "  -8.77853390e-03  8.79042409e-03 -1.51619911e-02  6.33407012e-03\n",
      "   2.74500810e-02 -7.07653305e-03  2.23945715e-02 -1.83091182e-02\n",
      "   2.21769814e-03 -1.52193159e-02  3.26915504e-03 -6.66681631e-03\n",
      "   7.24020787e-03  2.42082588e-02  8.08131695e-03  3.41074727e-03\n",
      "   5.65267215e-03 -1.92054845e-02  1.67906247e-02 -1.07947756e-02\n",
      "   1.58452317e-02  5.07072285e-02  4.94580790e-02  3.75512708e-03\n",
      "  -3.95798311e-03 -1.23151829e-02  1.55028999e-02 -2.33084969e-02\n",
      "  -1.43202953e-02  2.26312112e-02 -1.11338552e-02  1.35956146e-02\n",
      "  -1.31365890e-02 -1.54602751e-02 -7.68036488e-03  1.52853318e-02\n",
      "   3.12017482e-02  2.01853700e-02  4.69110683e-02 -3.19181941e-03\n",
      "   7.85918254e-03 -1.31270280e-02  4.13452601e-03  1.75780952e-02\n",
      "  -4.13848162e-02  3.39926593e-02 -2.34134179e-02  1.12172486e-02\n",
      "   1.16939610e-02 -2.42821611e-02  2.75217704e-02 -1.98419914e-02\n",
      "   2.10835580e-02 -1.59708466e-02 -7.84810167e-03  2.04928219e-05\n",
      "   3.02485526e-02  1.77208101e-03  2.48862337e-02  6.70697726e-03\n",
      "   1.73957460e-03  2.82306746e-02 -6.97992276e-03 -2.66997609e-04]]\n"
     ]
    }
   ],
   "source": [
    "X_train = np.array(train_data['textvector'].tolist())\n",
    "Y_train = np.array(train_data['grade'])\n",
    "\n",
    "X_test = np.array(test_data['textvector'].tolist())\n",
    "Y_test = np.array(test_data['grade'])\n",
    "print(X_test)"
   ]
  },
  {
   "cell_type": "markdown",
   "id": "86755220",
   "metadata": {},
   "source": [
    "# build Models "
   ]
  },
  {
   "cell_type": "code",
   "execution_count": 18,
   "id": "2295f14f",
   "metadata": {},
   "outputs": [],
   "source": [
    "def getModel(name):\n",
    "    if name == 'svm_linear':\n",
    "        model_svm_linear = SVC(kernel='linear' ,probability=True)\n",
    "        model_svm_linear.fit(X_train, Y_train)\n",
    "        return model_svm_linear\n",
    "    elif name == 'svm_rbf':\n",
    "        model_svm_rbf = SVC(kernel='rbf' , probability=True)\n",
    "        model_svm_rbf.fit(X_train, Y_train)\n",
    "        return model_svm_rbf\n",
    "    elif name == 'random_forest':\n",
    "        model_rf = RandomForestClassifier(n_estimators=100, random_state=42)\n",
    "        model_rf.fit(X_train, Y_train)\n",
    "        return model_rf\n",
    "    elif name == 'knn':\n",
    "        model_knn = KNeighborsClassifier(n_neighbors=3)\n",
    "        model_knn.fit(X_train, Y_train)\n",
    "        return model_knn\n",
    "    elif name == 'naive_bayes':\n",
    "        model_nb = GaussianNB()\n",
    "        model_nb.fit(X_train, Y_train)\n",
    "        return model_nb\n",
    "    elif name == 'bagging':\n",
    "        # Créer le modèle de base\n",
    "        base_model = KNeighborsClassifier(n_neighbors=3)\n",
    "        model_bagging = BaggingClassifier(base_estimator=base_model, n_estimators=10, random_state=42)\n",
    "        # Entraîner le modèle Bagging\n",
    "        model_bagging.fit(X_train, Y_train)\n",
    "        return model_bagging\n",
    "    elif name == 'ann':\n",
    "        # MLP: création + entrainement\n",
    "        model_ANN = MLPClassifier(hidden_layer_sizes=(15, 10), random_state=1, max_iter=800)\n",
    "        model_ANN.fit(X_train , Y_train)\n",
    "        return model_ANN\n",
    "    else:\n",
    "        raise ValueError(\"Invalid model name. Please choose from 'svm', 'random_forest', 'knn', or 'naive_bayes'.\")\n"
   ]
  },
  {
   "cell_type": "code",
   "execution_count": 19,
   "id": "6e744ceb",
   "metadata": {},
   "outputs": [],
   "source": [
    "# construire le model \n",
    "model_svm_lin = getModel('svm_linear')\n",
    "# predire les donnees de Test\n",
    "Y_pred_svm_lin = model_svm_lin.predict_proba(X_test)"
   ]
  },
  {
   "cell_type": "code",
   "execution_count": 20,
   "id": "cd2e4d43",
   "metadata": {},
   "outputs": [],
   "source": [
    "# construire le model \n",
    "model_svm_rbf = getModel('svm_rbf')\n",
    "# predire les donnees de Test\n",
    "Y_pred_svm_rbf = model_svm_rbf.predict_proba(X_test)"
   ]
  },
  {
   "cell_type": "code",
   "execution_count": 21,
   "id": "7b730ae6",
   "metadata": {},
   "outputs": [],
   "source": [
    "# construire le model \n",
    "model_rf = getModel('random_forest')\n",
    "# predire les donnees de Test\n",
    "Y_pred_rf = model_rf.predict_proba(X_test)"
   ]
  },
  {
   "cell_type": "code",
   "execution_count": 22,
   "id": "53e1ac7f",
   "metadata": {},
   "outputs": [],
   "source": [
    "# construire le model \n",
    "model_knn = getModel('knn')\n",
    "# predire les donnees de Test\n",
    "Y_pred_knn = model_knn.predict_proba(X_test)"
   ]
  },
  {
   "cell_type": "code",
   "execution_count": 23,
   "id": "cb80ba6c",
   "metadata": {},
   "outputs": [],
   "source": [
    "# construire le model \n",
    "model_nb = getModel('naive_bayes')\n",
    "# predire les donnees de Test\n",
    "Y_pred_nb = model_nb.predict_proba(X_test)"
   ]
  },
  {
   "cell_type": "code",
   "execution_count": 24,
   "id": "220e236a",
   "metadata": {},
   "outputs": [],
   "source": [
    "# construire le model \n",
    "model_ann = getModel(\"ann\")\n",
    "# predire les donnees de Test\n",
    "Y_pred_ann = model_ann.predict_proba(X_test)"
   ]
  },
  {
   "cell_type": "code",
   "execution_count": 25,
   "id": "0915ebc5",
   "metadata": {},
   "outputs": [],
   "source": [
    "# construire le model \n",
    "model_bagging  = getModel('bagging')\n",
    "# predire les donnees de Test\n",
    "Y_pred_bagging = model_bagging.predict_proba(X_test)"
   ]
  },
  {
   "cell_type": "markdown",
   "id": "a152cdc2",
   "metadata": {},
   "source": [
    "# Models Evaluation"
   ]
  },
  {
   "cell_type": "code",
   "execution_count": 26,
   "id": "5007df49",
   "metadata": {},
   "outputs": [],
   "source": [
    "models = [\n",
    "  getModel('svm_linear'),\n",
    "  getModel('svm_rbf'),\n",
    "  getModel('random_forest'),\n",
    "  getModel('knn'),\n",
    "  getModel('naive_bayes'),\n",
    "  getModel(\"ann\"),\n",
    "  getModel('bagging')\n",
    "]\n",
    "models_names = [\n",
    "    'SVM Linear',\n",
    "    'SVM RBF',\n",
    "    'Random Forest',\n",
    "    'KNN',\n",
    "    'Naive Bayes',\n",
    "    'ANN',\n",
    "    'Ensemble Learning (Bagging)'\n",
    "]\n",
    "predicted_Xtest_proba = [\n",
    "    Y_pred_svm_lin,\n",
    "    Y_pred_svm_rbf,\n",
    "    Y_pred_rf,\n",
    "    Y_pred_knn,\n",
    "    Y_pred_nb,\n",
    "    Y_pred_ann,\n",
    "    Y_pred_bagging\n",
    "]"
   ]
  },
  {
   "cell_type": "code",
   "execution_count": 27,
   "id": "dc9672da",
   "metadata": {},
   "outputs": [],
   "source": [
    "def getAccuracy(models):\n",
    "  accuracies = []\n",
    "  for model in models:\n",
    "    Y_Test_predi = model.predict(X_test)\n",
    "    accuracy = accuracy_score(Y_test, Y_Test_predi)\n",
    "    accuracies.append(accuracy)\n",
    "\n",
    "  return accuracies"
   ]
  },
  {
   "cell_type": "code",
   "execution_count": 28,
   "id": "fadb072b",
   "metadata": {},
   "outputs": [
    {
     "name": "stdout",
     "output_type": "stream",
     "text": [
      "accuracy SVM Linear :  0.1111111111111111\n",
      "accuracy SVM RBF :  0.6666666666666666\n",
      "accuracy Random Forest :  0.7777777777777778\n",
      "accuracy KNN :  0.5555555555555556\n",
      "accuracy Naive Bayes :  0.2222222222222222\n",
      "accuracy ANN :  0.5555555555555556\n",
      "accuracy Ensemble Learning (Bagging) :  0.6666666666666666\n"
     ]
    }
   ],
   "source": [
    "accuracies = getAccuracy(models)\n",
    "i=0\n",
    "for model in models_names:\n",
    "    print(f\"accuracy {model} :  {accuracies[i]}\")\n",
    "    i += 1"
   ]
  },
  {
   "cell_type": "code",
   "execution_count": 29,
   "id": "6ec2b838",
   "metadata": {},
   "outputs": [
    {
     "name": "stdout",
     "output_type": "stream",
     "text": [
      "SVM Linear  Aire sous la courbe ROC: 0.37407407407407406\n",
      "SVM RBF  Aire sous la courbe ROC: 0.7212962962962962\n",
      "Random Forest  Aire sous la courbe ROC: 0.8296296296296296\n",
      "KNN  Aire sous la courbe ROC: 0.5736111111111111\n",
      "Naive Bayes  Aire sous la courbe ROC: 0.6050925925925926\n",
      "ANN  Aire sous la courbe ROC: 0.5287037037037037\n",
      "Ensemble Learning (Bagging)  Aire sous la courbe ROC: 0.6856481481481481\n"
     ]
    }
   ],
   "source": [
    "i=0\n",
    "for  Y_test_pred_prob in predicted_Xtest_proba:\n",
    "#     Y_test_pred = Y_test_pred.reshape(-1, 1)\n",
    "    auc_roc = roc_auc_score(Y_test, Y_test_pred_prob , multi_class='ovr')\n",
    "    print(f\"{models_names[i]}  Aire sous la courbe ROC:\", auc_roc)\n",
    "    i += 1"
   ]
  },
  {
   "cell_type": "markdown",
   "id": "708b4a12",
   "metadata": {},
   "source": [
    "# the best Model"
   ]
  },
  {
   "cell_type": "code",
   "execution_count": 30,
   "id": "ccaec5b6",
   "metadata": {},
   "outputs": [],
   "source": [
    "max_index = np.argmax(accuracies)\n",
    "best_model = models[max_index]"
   ]
  },
  {
   "cell_type": "code",
   "execution_count": 31,
   "id": "46582201",
   "metadata": {},
   "outputs": [
    {
     "data": {
      "text/html": [
       "<div>\n",
       "<style scoped>\n",
       "    .dataframe tbody tr th:only-of-type {\n",
       "        vertical-align: middle;\n",
       "    }\n",
       "\n",
       "    .dataframe tbody tr th {\n",
       "        vertical-align: top;\n",
       "    }\n",
       "\n",
       "    .dataframe thead th {\n",
       "        text-align: right;\n",
       "    }\n",
       "</style>\n",
       "<table border=\"1\" class=\"dataframe\">\n",
       "  <thead>\n",
       "    <tr style=\"text-align: right;\">\n",
       "      <th></th>\n",
       "      <th>Real</th>\n",
       "      <th>Predicted</th>\n",
       "    </tr>\n",
       "  </thead>\n",
       "  <tbody>\n",
       "    <tr>\n",
       "      <th>0</th>\n",
       "      <td>0</td>\n",
       "      <td>0</td>\n",
       "    </tr>\n",
       "    <tr>\n",
       "      <th>1</th>\n",
       "      <td>2</td>\n",
       "      <td>2</td>\n",
       "    </tr>\n",
       "    <tr>\n",
       "      <th>2</th>\n",
       "      <td>1</td>\n",
       "      <td>1</td>\n",
       "    </tr>\n",
       "    <tr>\n",
       "      <th>3</th>\n",
       "      <td>0</td>\n",
       "      <td>0</td>\n",
       "    </tr>\n",
       "    <tr>\n",
       "      <th>4</th>\n",
       "      <td>1</td>\n",
       "      <td>0</td>\n",
       "    </tr>\n",
       "    <tr>\n",
       "      <th>5</th>\n",
       "      <td>0</td>\n",
       "      <td>1</td>\n",
       "    </tr>\n",
       "    <tr>\n",
       "      <th>6</th>\n",
       "      <td>0</td>\n",
       "      <td>0</td>\n",
       "    </tr>\n",
       "    <tr>\n",
       "      <th>7</th>\n",
       "      <td>0</td>\n",
       "      <td>0</td>\n",
       "    </tr>\n",
       "    <tr>\n",
       "      <th>8</th>\n",
       "      <td>1</td>\n",
       "      <td>1</td>\n",
       "    </tr>\n",
       "  </tbody>\n",
       "</table>\n",
       "</div>"
      ],
      "text/plain": [
       "   Real   Predicted\n",
       "0      0          0\n",
       "1      2          2\n",
       "2      1          1\n",
       "3      0          0\n",
       "4      1          0\n",
       "5      0          1\n",
       "6      0          0\n",
       "7      0          0\n",
       "8      1          1"
      ]
     },
     "execution_count": 31,
     "metadata": {},
     "output_type": "execute_result"
    }
   ],
   "source": [
    "pd.DataFrame({\"Real \": Y_test , \"Predicted\" : best_model.predict(X_test)})"
   ]
  },
  {
   "cell_type": "markdown",
   "id": "92a28795",
   "metadata": {},
   "source": [
    "# saving the best model"
   ]
  },
  {
   "cell_type": "code",
   "execution_count": 32,
   "id": "7ba36545",
   "metadata": {},
   "outputs": [],
   "source": [
    "model_path = '../saved_models/model_question4.h5'\n",
    "with open(model_path, 'wb') as file:\n",
    "    pickle.dump((best_model, model_word2vec), file)"
   ]
  },
  {
   "cell_type": "markdown",
   "id": "29dfff85",
   "metadata": {},
   "source": [
    "# Test Model"
   ]
  },
  {
   "cell_type": "code",
   "execution_count": 33,
   "id": "cccc2ef6",
   "metadata": {},
   "outputs": [
    {
     "name": "stdout",
     "output_type": "stream",
     "text": [
      "--------------  Testing  ---------------\n"
     ]
    },
    {
     "ename": "KeyboardInterrupt",
     "evalue": "Interrupted by user",
     "output_type": "error",
     "traceback": [
      "\u001b[1;31m---------------------------------------------------------------------------\u001b[0m",
      "\u001b[1;31mKeyboardInterrupt\u001b[0m                         Traceback (most recent call last)",
      "Cell \u001b[1;32mIn[33], line 5\u001b[0m\n\u001b[0;32m      2\u001b[0m \u001b[38;5;28;01mwhile\u001b[39;00m \u001b[38;5;28;01mTrue\u001b[39;00m:\n\u001b[0;32m      3\u001b[0m     \u001b[38;5;28mprint\u001b[39m(\u001b[38;5;124m\"\u001b[39m\u001b[38;5;124m--------------  Testing  ---------------\u001b[39m\u001b[38;5;124m\"\u001b[39m)\n\u001b[1;32m----> 5\u001b[0m     answer \u001b[38;5;241m=\u001b[39m \u001b[38;5;28;43minput\u001b[39;49m\u001b[43m(\u001b[49m\u001b[38;5;124;43m'\u001b[39;49m\u001b[38;5;124;43mالاجابه: \u001b[39;49m\u001b[38;5;124;43m'\u001b[39;49m\u001b[43m)\u001b[49m\n\u001b[0;32m      6\u001b[0m     process \u001b[38;5;241m=\u001b[39m txt_preprocess(answer)\n\u001b[0;32m      7\u001b[0m     txt \u001b[38;5;241m=\u001b[39m get_word_vector(process, model_word2vec)\n",
      "File \u001b[1;32m~\\AppData\\Roaming\\Python\\Python310\\site-packages\\ipykernel\\kernelbase.py:1191\u001b[0m, in \u001b[0;36mKernel.raw_input\u001b[1;34m(self, prompt)\u001b[0m\n\u001b[0;32m   1189\u001b[0m     msg \u001b[38;5;241m=\u001b[39m \u001b[38;5;124m\"\u001b[39m\u001b[38;5;124mraw_input was called, but this frontend does not support input requests.\u001b[39m\u001b[38;5;124m\"\u001b[39m\n\u001b[0;32m   1190\u001b[0m     \u001b[38;5;28;01mraise\u001b[39;00m StdinNotImplementedError(msg)\n\u001b[1;32m-> 1191\u001b[0m \u001b[38;5;28;01mreturn\u001b[39;00m \u001b[38;5;28;43mself\u001b[39;49m\u001b[38;5;241;43m.\u001b[39;49m\u001b[43m_input_request\u001b[49m\u001b[43m(\u001b[49m\n\u001b[0;32m   1192\u001b[0m \u001b[43m    \u001b[49m\u001b[38;5;28;43mstr\u001b[39;49m\u001b[43m(\u001b[49m\u001b[43mprompt\u001b[49m\u001b[43m)\u001b[49m\u001b[43m,\u001b[49m\n\u001b[0;32m   1193\u001b[0m \u001b[43m    \u001b[49m\u001b[38;5;28;43mself\u001b[39;49m\u001b[38;5;241;43m.\u001b[39;49m\u001b[43m_parent_ident\u001b[49m\u001b[43m[\u001b[49m\u001b[38;5;124;43m\"\u001b[39;49m\u001b[38;5;124;43mshell\u001b[39;49m\u001b[38;5;124;43m\"\u001b[39;49m\u001b[43m]\u001b[49m\u001b[43m,\u001b[49m\n\u001b[0;32m   1194\u001b[0m \u001b[43m    \u001b[49m\u001b[38;5;28;43mself\u001b[39;49m\u001b[38;5;241;43m.\u001b[39;49m\u001b[43mget_parent\u001b[49m\u001b[43m(\u001b[49m\u001b[38;5;124;43m\"\u001b[39;49m\u001b[38;5;124;43mshell\u001b[39;49m\u001b[38;5;124;43m\"\u001b[39;49m\u001b[43m)\u001b[49m\u001b[43m,\u001b[49m\n\u001b[0;32m   1195\u001b[0m \u001b[43m    \u001b[49m\u001b[43mpassword\u001b[49m\u001b[38;5;241;43m=\u001b[39;49m\u001b[38;5;28;43;01mFalse\u001b[39;49;00m\u001b[43m,\u001b[49m\n\u001b[0;32m   1196\u001b[0m \u001b[43m\u001b[49m\u001b[43m)\u001b[49m\n",
      "File \u001b[1;32m~\\AppData\\Roaming\\Python\\Python310\\site-packages\\ipykernel\\kernelbase.py:1234\u001b[0m, in \u001b[0;36mKernel._input_request\u001b[1;34m(self, prompt, ident, parent, password)\u001b[0m\n\u001b[0;32m   1231\u001b[0m \u001b[38;5;28;01mexcept\u001b[39;00m \u001b[38;5;167;01mKeyboardInterrupt\u001b[39;00m:\n\u001b[0;32m   1232\u001b[0m     \u001b[38;5;66;03m# re-raise KeyboardInterrupt, to truncate traceback\u001b[39;00m\n\u001b[0;32m   1233\u001b[0m     msg \u001b[38;5;241m=\u001b[39m \u001b[38;5;124m\"\u001b[39m\u001b[38;5;124mInterrupted by user\u001b[39m\u001b[38;5;124m\"\u001b[39m\n\u001b[1;32m-> 1234\u001b[0m     \u001b[38;5;28;01mraise\u001b[39;00m \u001b[38;5;167;01mKeyboardInterrupt\u001b[39;00m(msg) \u001b[38;5;28;01mfrom\u001b[39;00m \u001b[38;5;28mNone\u001b[39m\n\u001b[0;32m   1235\u001b[0m \u001b[38;5;28;01mexcept\u001b[39;00m \u001b[38;5;167;01mException\u001b[39;00m:\n\u001b[0;32m   1236\u001b[0m     \u001b[38;5;28mself\u001b[39m\u001b[38;5;241m.\u001b[39mlog\u001b[38;5;241m.\u001b[39mwarning(\u001b[38;5;124m\"\u001b[39m\u001b[38;5;124mInvalid Message:\u001b[39m\u001b[38;5;124m\"\u001b[39m, exc_info\u001b[38;5;241m=\u001b[39m\u001b[38;5;28;01mTrue\u001b[39;00m)\n",
      "\u001b[1;31mKeyboardInterrupt\u001b[0m: Interrupted by user"
     ]
    }
   ],
   "source": [
    "i=1\n",
    "while True:\n",
    "    print(\"--------------  Testing  ---------------\")\n",
    "    \n",
    "    answer = input('الاجابه: ')\n",
    "    process = txt_preprocess(answer)\n",
    "    txt = get_word_vector(process, model_word2vec)\n",
    "    txt = txt.reshape(1, -1)\n",
    "    predicted_ques = best_model.predict(txt)[0]\n",
    "    print(f'Grade of Answer Is : {predicted_ques}')\n",
    "    \n",
    "    exit = int(input(\"Enter Zero To Exit From System  OR One To Run The Program : \\n\"))\n",
    "    if exit == 0:\n",
    "        print('Exit From System...','Thank You')\n",
    "        break\n",
    "    else:\n",
    "        continue   \n",
    "        print('\\n')"
   ]
  },
  {
   "cell_type": "code",
   "execution_count": null,
   "id": "259e1260",
   "metadata": {},
   "outputs": [],
   "source": []
  },
  {
   "cell_type": "code",
   "execution_count": null,
   "id": "c91531b4",
   "metadata": {},
   "outputs": [],
   "source": []
  }
 ],
 "metadata": {
  "kernelspec": {
   "display_name": "Python 3 (ipykernel)",
   "language": "python",
   "name": "python3"
  },
  "language_info": {
   "codemirror_mode": {
    "name": "ipython",
    "version": 3
   },
   "file_extension": ".py",
   "mimetype": "text/x-python",
   "name": "python",
   "nbconvert_exporter": "python",
   "pygments_lexer": "ipython3",
   "version": "3.10.5"
  }
 },
 "nbformat": 4,
 "nbformat_minor": 5
}
