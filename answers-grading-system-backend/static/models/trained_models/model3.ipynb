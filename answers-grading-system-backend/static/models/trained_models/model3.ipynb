{
 "cells": [
  {
   "cell_type": "markdown",
   "id": "8d5ff105",
   "metadata": {},
   "source": [
    "# Import Libraries"
   ]
  },
  {
   "cell_type": "code",
   "execution_count": 38,
   "id": "63431256",
   "metadata": {},
   "outputs": [],
   "source": [
    "import pandas as pd\n",
    "import numpy as np\n",
    "import matplotlib.pyplot as plt\n",
    "import seaborn as sns\n",
    "import string \n",
    "from nltk.corpus import stopwords\n",
    "from nltk.stem.isri import ISRIStemmer\n",
    "from sklearn.model_selection import train_test_split\n",
    "import tensorflow as tf \n",
    "from keras.preprocessing.text import Tokenizer\n",
    "from tensorflow.keras.preprocessing.sequence import pad_sequences\n",
    "from keras.models import Sequential\n",
    "from keras.layers import Embedding, LSTM, Dense, Dropout\n",
    "from sklearn.model_selection import cross_val_score\n",
    "from sklearn.metrics import accuracy_score\n",
    "from sklearn.metrics import roc_auc_score\n",
    "\n",
    "# from keras.models import Sequential\n",
    "from sklearn.svm import SVC\n",
    "from sklearn.ensemble import RandomForestClassifier\n",
    "from sklearn.neighbors import KNeighborsClassifier\n",
    "from sklearn.naive_bayes import GaussianNB\n",
    "from sklearn.ensemble import BaggingClassifier\n",
    "from sklearn.neural_network import MLPClassifier\n",
    "\n",
    "\n",
    "import nltk\n",
    "from nltk.tokenize import word_tokenize\n",
    "from gensim.models import Word2Vec\n",
    "import pickle "
   ]
  },
  {
   "cell_type": "code",
   "execution_count": 3,
   "id": "92deb2b5",
   "metadata": {},
   "outputs": [],
   "source": [
    "import warnings\n",
    "warnings.filterwarnings('ignore')# Load Data"
   ]
  },
  {
   "cell_type": "markdown",
   "id": "870dd4cd",
   "metadata": {},
   "source": [
    "# Load Data"
   ]
  },
  {
   "cell_type": "code",
   "execution_count": 4,
   "id": "a779dbc2",
   "metadata": {},
   "outputs": [
    {
     "data": {
      "text/html": [
       "<div>\n",
       "<style scoped>\n",
       "    .dataframe tbody tr th:only-of-type {\n",
       "        vertical-align: middle;\n",
       "    }\n",
       "\n",
       "    .dataframe tbody tr th {\n",
       "        vertical-align: top;\n",
       "    }\n",
       "\n",
       "    .dataframe thead th {\n",
       "        text-align: right;\n",
       "    }\n",
       "</style>\n",
       "<table border=\"1\" class=\"dataframe\">\n",
       "  <thead>\n",
       "    <tr style=\"text-align: right;\">\n",
       "      <th></th>\n",
       "      <th>question_id</th>\n",
       "      <th>answer</th>\n",
       "      <th>grade</th>\n",
       "    </tr>\n",
       "  </thead>\n",
       "  <tbody>\n",
       "    <tr>\n",
       "      <th>0</th>\n",
       "      <td>3</td>\n",
       "      <td>قبيلة موريطانية رابطة بصحراء المغرب اي اقامت ه...</td>\n",
       "      <td>1</td>\n",
       "    </tr>\n",
       "    <tr>\n",
       "      <th>1</th>\n",
       "      <td>3</td>\n",
       "      <td>تنسيبع</td>\n",
       "      <td>0</td>\n",
       "    </tr>\n",
       "    <tr>\n",
       "      <th>2</th>\n",
       "      <td>3</td>\n",
       "      <td>قبيلة</td>\n",
       "      <td>0</td>\n",
       "    </tr>\n",
       "  </tbody>\n",
       "</table>\n",
       "</div>"
      ],
      "text/plain": [
       "   question_id                                             answer  grade\n",
       "0            3  قبيلة موريطانية رابطة بصحراء المغرب اي اقامت ه...      1\n",
       "1            3                                             تنسيبع      0\n",
       "2            3                                              قبيلة      0"
      ]
     },
     "execution_count": 4,
     "metadata": {},
     "output_type": "execute_result"
    }
   ],
   "source": [
    "# read csv file into pandas\n",
    "df = pd.read_csv(\"../datasets/question3.csv\")\n",
    "df.head(3)"
   ]
  },
  {
   "cell_type": "markdown",
   "id": "ad96252b",
   "metadata": {},
   "source": [
    "# EDA"
   ]
  },
  {
   "cell_type": "code",
   "execution_count": 5,
   "id": "cc002d3b",
   "metadata": {},
   "outputs": [
    {
     "name": "stdout",
     "output_type": "stream",
     "text": [
      "<class 'pandas.core.frame.DataFrame'>\n",
      "RangeIndex: 90 entries, 0 to 89\n",
      "Data columns (total 3 columns):\n",
      " #   Column       Non-Null Count  Dtype \n",
      "---  ------       --------------  ----- \n",
      " 0   question_id  90 non-null     int64 \n",
      " 1   answer       90 non-null     object\n",
      " 2   grade        90 non-null     int64 \n",
      "dtypes: int64(2), object(1)\n",
      "memory usage: 2.2+ KB\n"
     ]
    }
   ],
   "source": [
    "df.info()"
   ]
  },
  {
   "cell_type": "code",
   "execution_count": 6,
   "id": "9501b64e",
   "metadata": {},
   "outputs": [
    {
     "data": {
      "text/plain": [
       "grade\n",
       "0    30\n",
       "1    30\n",
       "2    30\n",
       "dtype: int64"
      ]
     },
     "execution_count": 6,
     "metadata": {},
     "output_type": "execute_result"
    }
   ],
   "source": [
    "df.groupby('grade').size()"
   ]
  },
  {
   "cell_type": "code",
   "execution_count": 7,
   "id": "0137f600",
   "metadata": {},
   "outputs": [
    {
     "data": {
      "text/plain": [
       "13"
      ]
     },
     "execution_count": 7,
     "metadata": {},
     "output_type": "execute_result"
    }
   ],
   "source": [
    "df.duplicated().sum()"
   ]
  },
  {
   "cell_type": "code",
   "execution_count": 8,
   "id": "40f92ab1",
   "metadata": {},
   "outputs": [
    {
     "data": {
      "image/png": "[encoded data removed]",
      "text/plain": [
       "<Figure size 1000x600 with 1 Axes>"
      ]
     },
     "metadata": {},
     "output_type": "display_data"
    }
   ],
   "source": [
    "plt.figure(figsize=(10, 6))\n",
    "sns.countplot(data=df, x='grade')\n",
    "plt.show()# Data Cleaning"
   ]
  },
  {
   "cell_type": "markdown",
   "id": "122a2b90",
   "metadata": {},
   "source": [
    "# Data Cleaning"
   ]
  },
  {
   "cell_type": "code",
   "execution_count": 9,
   "id": "0e2216d9",
   "metadata": {},
   "outputs": [],
   "source": [
    "df.drop('question_id', axis=1, inplace=True)"
   ]
  },
  {
   "cell_type": "code",
   "execution_count": 10,
   "id": "fb739e98",
   "metadata": {},
   "outputs": [],
   "source": [
    "df.dropna(inplace=True)"
   ]
  },
  {
   "cell_type": "code",
   "execution_count": 11,
   "id": "f7adb2b3",
   "metadata": {},
   "outputs": [],
   "source": [
    "df.drop_duplicates(inplace=True)"
   ]
  },
  {
   "cell_type": "markdown",
   "id": "fb9e31c7",
   "metadata": {},
   "source": [
    "# Data Pre-Preocessing"
   ]
  },
  {
   "cell_type": "code",
   "execution_count": 12,
   "id": "71fa028c",
   "metadata": {},
   "outputs": [],
   "source": [
    "def txt_preprocess(text):\n",
    "    text = text.lower()\n",
    "    tokens = word_tokenize(text)\n",
    "    #tokens = [token for token in tokens if token.isalpha() and token not in stop_words]\n",
    "    return tokens"
   ]
  },
  {
   "cell_type": "code",
   "execution_count": 13,
   "id": "651244a8",
   "metadata": {},
   "outputs": [],
   "source": [
    "df['tokens'] = df['answer'].apply(txt_preprocess)"
   ]
  },
  {
   "cell_type": "markdown",
   "id": "432fe871",
   "metadata": {},
   "source": [
    "# Text Representation"
   ]
  },
  {
   "cell_type": "code",
   "execution_count": 14,
   "id": "f90f74a7",
   "metadata": {},
   "outputs": [],
   "source": [
    "model_word2vec = Word2Vec(df['tokens'], vector_size=100, window=5, min_count=1, workers=4)"
   ]
  },
  {
   "cell_type": "code",
   "execution_count": 15,
   "id": "6f54bd12",
   "metadata": {},
   "outputs": [],
   "source": [
    "def get_word_vector(tokens, model_word2vec):\n",
    "    textvector = np.zeros((100,), dtype='float32')\n",
    "    for token in tokens:\n",
    "        try:\n",
    "            textvector += model_word2vec.wv[token]\n",
    "        except KeyError:\n",
    "            continue\n",
    "    return textvector\n",
    "\n",
    "\n",
    "df['textvector'] = df['tokens'].apply(lambda x: get_word_vector(x, model_word2vec))"
   ]
  },
  {
   "cell_type": "code",
   "execution_count": 16,
   "id": "40e68f30",
   "metadata": {},
   "outputs": [
    {
     "data": {
      "text/html": [
       "<div>\n",
       "<style scoped>\n",
       "    .dataframe tbody tr th:only-of-type {\n",
       "        vertical-align: middle;\n",
       "    }\n",
       "\n",
       "    .dataframe tbody tr th {\n",
       "        vertical-align: top;\n",
       "    }\n",
       "\n",
       "    .dataframe thead th {\n",
       "        text-align: right;\n",
       "    }\n",
       "</style>\n",
       "<table border=\"1\" class=\"dataframe\">\n",
       "  <thead>\n",
       "    <tr style=\"text-align: right;\">\n",
       "      <th></th>\n",
       "      <th>answer</th>\n",
       "      <th>grade</th>\n",
       "      <th>tokens</th>\n",
       "      <th>textvector</th>\n",
       "    </tr>\n",
       "  </thead>\n",
       "  <tbody>\n",
       "    <tr>\n",
       "      <th>0</th>\n",
       "      <td>قبيلة موريطانية رابطة بصحراء المغرب اي اقامت ه...</td>\n",
       "      <td>1</td>\n",
       "      <td>[قبيلة, موريطانية, رابطة, بصحراء, المغرب, اي, ...</td>\n",
       "      <td>[-0.042463627, 0.023532955, 0.017349288, 0.016...</td>\n",
       "    </tr>\n",
       "    <tr>\n",
       "      <th>1</th>\n",
       "      <td>تنسيبع</td>\n",
       "      <td>0</td>\n",
       "      <td>[تنسيبع]</td>\n",
       "      <td>[-0.0053373277, -0.0021096778, 0.0040978827, 0...</td>\n",
       "    </tr>\n",
       "    <tr>\n",
       "      <th>2</th>\n",
       "      <td>قبيلة</td>\n",
       "      <td>0</td>\n",
       "      <td>[قبيلة]</td>\n",
       "      <td>[-0.0064762384, 0.0073846206, 0.0061039287, -0...</td>\n",
       "    </tr>\n",
       "    <tr>\n",
       "      <th>3</th>\n",
       "      <td>امبراطورية عتمانية</td>\n",
       "      <td>0</td>\n",
       "      <td>[امبراطورية, عتمانية]</td>\n",
       "      <td>[-0.0071316054, 0.004708145, 0.006816703, -0.0...</td>\n",
       "    </tr>\n",
       "    <tr>\n",
       "      <th>4</th>\n",
       "      <td>سكان الاندلس</td>\n",
       "      <td>0</td>\n",
       "      <td>[سكان, الاندلس]</td>\n",
       "      <td>[-0.016875714, -0.0027958024, -0.012782143, 0....</td>\n",
       "    </tr>\n",
       "  </tbody>\n",
       "</table>\n",
       "</div>"
      ],
      "text/plain": [
       "                                              answer  grade  \\\n",
       "0  قبيلة موريطانية رابطة بصحراء المغرب اي اقامت ه...      1   \n",
       "1                                             تنسيبع      0   \n",
       "2                                              قبيلة      0   \n",
       "3                                 امبراطورية عتمانية      0   \n",
       "4                                       سكان الاندلس      0   \n",
       "\n",
       "                                              tokens  \\\n",
       "0  [قبيلة, موريطانية, رابطة, بصحراء, المغرب, اي, ...   \n",
       "1                                           [تنسيبع]   \n",
       "2                                            [قبيلة]   \n",
       "3                              [امبراطورية, عتمانية]   \n",
       "4                                    [سكان, الاندلس]   \n",
       "\n",
       "                                          textvector  \n",
       "0  [-0.042463627, 0.023532955, 0.017349288, 0.016...  \n",
       "1  [-0.0053373277, -0.0021096778, 0.0040978827, 0...  \n",
       "2  [-0.0064762384, 0.0073846206, 0.0061039287, -0...  \n",
       "3  [-0.0071316054, 0.004708145, 0.006816703, -0.0...  \n",
       "4  [-0.016875714, -0.0027958024, -0.012782143, 0....  "
      ]
     },
     "execution_count": 16,
     "metadata": {},
     "output_type": "execute_result"
    }
   ],
   "source": [
    "df.head()"
   ]
  },
  {
   "cell_type": "markdown",
   "id": "552b9aae",
   "metadata": {},
   "source": [
    "# split the data"
   ]
  },
  {
   "cell_type": "code",
   "execution_count": 17,
   "id": "c39d8f80",
   "metadata": {},
   "outputs": [],
   "source": [
    "train_data = df.sample(frac=0.85, random_state=42)\n",
    "test_data = df.drop(train_data.index)"
   ]
  },
  {
   "cell_type": "code",
   "execution_count": 18,
   "id": "6eb6fb87",
   "metadata": {},
   "outputs": [
    {
     "name": "stdout",
     "output_type": "stream",
     "text": [
      "[[-0.00533733 -0.00210968  0.00409788 ... -0.00880497  0.00211765\n",
      "  -0.0057082 ]\n",
      " [-0.00647624  0.00738462  0.00610393 ... -0.00294628  0.00911995\n",
      "   0.0005684 ]\n",
      " [-0.02857718  0.02318458  0.03404466 ...  0.01661011 -0.00252377\n",
      "  -0.01913809]\n",
      " ...\n",
      " [-0.02904717 -0.02109256  0.00134233 ...  0.01360991  0.03623129\n",
      "  -0.00936497]\n",
      " [ 0.00121816 -0.01418333 -0.02232071 ...  0.00203855  0.00019847\n",
      "   0.00628239]\n",
      " [-0.00992648  0.01856842  0.00237198 ...  0.00718094 -0.00568899\n",
      "   0.02828118]]\n"
     ]
    }
   ],
   "source": [
    "X_train = np.array(train_data['textvector'].tolist())\n",
    "Y_train = np.array(train_data['grade'])\n",
    "\n",
    "X_test = np.array(test_data['textvector'].tolist())\n",
    "Y_test = np.array(test_data['grade'])\n",
    "print(X_test)"
   ]
  },
  {
   "cell_type": "markdown",
   "id": "07b93a61",
   "metadata": {},
   "source": [
    "# build Models "
   ]
  },
  {
   "cell_type": "code",
   "execution_count": 19,
   "id": "d74d2f90",
   "metadata": {},
   "outputs": [],
   "source": [
    "def getModel(name):\n",
    "    if name == 'svm_linear':\n",
    "        model_svm_linear = SVC(kernel='linear' ,probability=True)\n",
    "        model_svm_linear.fit(X_train, Y_train)\n",
    "        return model_svm_linear\n",
    "    elif name == 'svm_rbf':\n",
    "        model_svm_rbf = SVC(kernel='rbf' , probability=True)\n",
    "        model_svm_rbf.fit(X_train, Y_train)\n",
    "        return model_svm_rbf\n",
    "    elif name == 'random_forest':\n",
    "        model_rf = RandomForestClassifier(n_estimators=100, random_state=42)\n",
    "        model_rf.fit(X_train, Y_train)\n",
    "        return model_rf\n",
    "    elif name == 'knn':\n",
    "        model_knn = KNeighborsClassifier(n_neighbors=3)\n",
    "        model_knn.fit(X_train, Y_train)\n",
    "        return model_knn\n",
    "    elif name == 'naive_bayes':\n",
    "        model_nb = GaussianNB()\n",
    "        model_nb.fit(X_train, Y_train)\n",
    "        return model_nb\n",
    "    elif name == 'bagging':\n",
    "        # Créer le modèle de base\n",
    "        base_model = KNeighborsClassifier(n_neighbors=3)\n",
    "        model_bagging = BaggingClassifier(base_estimator=base_model, n_estimators=10, random_state=42)\n",
    "        # Entraîner le modèle Bagging\n",
    "        model_bagging.fit(X_train, Y_train)\n",
    "        return model_bagging\n",
    "    elif name == 'ann':\n",
    "        # MLP: création + entrainement\n",
    "        model_ANN = MLPClassifier(hidden_layer_sizes=(15, 10), random_state=1, max_iter=800)\n",
    "        model_ANN.fit(X_train , Y_train)\n",
    "        return model_ANN\n",
    "    else:\n",
    "        raise ValueError(\"Invalid model name. Please choose from 'svm', 'random_forest', 'knn', or 'naive_bayes'.\")\n"
   ]
  },
  {
   "cell_type": "code",
   "execution_count": 20,
   "id": "e3f0a966",
   "metadata": {},
   "outputs": [],
   "source": [
    "# construire le model \n",
    "model_svm_lin = getModel('svm_linear')\n",
    "# predire les donnees de Test\n",
    "Y_pred_svm_lin = model_svm_lin.predict_proba(X_test)"
   ]
  },
  {
   "cell_type": "code",
   "execution_count": 27,
   "id": "8867b52d",
   "metadata": {},
   "outputs": [],
   "source": [
    "# construire le model \n",
    "model_svm_rbf = getModel('svm_rbf')\n",
    "# predire les donnees de Test\n",
    "Y_pred_svm_rbf = model_svm_rbf.predict_proba(X_test)"
   ]
  },
  {
   "cell_type": "code",
   "execution_count": 21,
   "id": "90176497",
   "metadata": {},
   "outputs": [],
   "source": [
    "# construire le model \n",
    "model_rf = getModel('random_forest')\n",
    "# predire les donnees de Test\n",
    "Y_pred_rf = model_rf.predict_proba(X_test)"
   ]
  },
  {
   "cell_type": "code",
   "execution_count": 22,
   "id": "79a3d8e3",
   "metadata": {},
   "outputs": [],
   "source": [
    "# construire le model \n",
    "model_knn = getModel('knn')\n",
    "# predire les donnees de Test\n",
    "Y_pred_knn = model_knn.predict_proba(X_test)"
   ]
  },
  {
   "cell_type": "code",
   "execution_count": 23,
   "id": "fe02a2d4",
   "metadata": {},
   "outputs": [],
   "source": [
    "# construire le model \n",
    "model_nb = getModel('naive_bayes')\n",
    "# predire les donnees de Test\n",
    "Y_pred_nb = model_nb.predict_proba(X_test)"
   ]
  },
  {
   "cell_type": "code",
   "execution_count": 24,
   "id": "f6393b3e",
   "metadata": {},
   "outputs": [],
   "source": [
    "# construire le model \n",
    "model_ann = getModel(\"ann\")\n",
    "# predire les donnees de Test\n",
    "Y_pred_ann = model_ann.predict_proba(X_test)"
   ]
  },
  {
   "cell_type": "code",
   "execution_count": 25,
   "id": "597874c6",
   "metadata": {},
   "outputs": [],
   "source": [
    "# construire le model \n",
    "model_bagging  = getModel('bagging')\n",
    "# predire les donnees de Test\n",
    "Y_pred_bagging = model_bagging.predict_proba(X_test)"
   ]
  },
  {
   "cell_type": "markdown",
   "id": "d94b9ab9",
   "metadata": {},
   "source": [
    "# Models Evaluation"
   ]
  },
  {
   "cell_type": "code",
   "execution_count": 28,
   "id": "283e8204",
   "metadata": {},
   "outputs": [],
   "source": [
    "models = [\n",
    "  getModel('svm_linear'),\n",
    "  getModel('svm_rbf'),\n",
    "  getModel('random_forest'),\n",
    "  getModel('knn'),\n",
    "  getModel('naive_bayes'),\n",
    "  getModel(\"ann\"),\n",
    "  getModel('bagging')\n",
    "]\n",
    "models_names = [\n",
    "    'SVM Linear',\n",
    "    'SVM RBF',\n",
    "    'Random Forest',\n",
    "    'KNN',\n",
    "    'Naive Bayes',\n",
    "    'ANN',\n",
    "    'Ensemble Learning (Bagging)'\n",
    "]\n",
    "predicted_Xtest_proba = [\n",
    "    Y_pred_svm_lin,\n",
    "    Y_pred_svm_rbf,\n",
    "    Y_pred_rf,\n",
    "    Y_pred_knn,\n",
    "    Y_pred_nb,\n",
    "    Y_pred_ann,\n",
    "    Y_pred_bagging\n",
    "]"
   ]
  },
  {
   "cell_type": "code",
   "execution_count": 29,
   "id": "de167d39",
   "metadata": {},
   "outputs": [],
   "source": [
    "def getAccuracy(models):\n",
    "  accuracies = []\n",
    "  for model in models:\n",
    "    Y_Test_predi = model.predict(X_test)\n",
    "    accuracy = accuracy_score(Y_test, Y_Test_predi)\n",
    "    accuracies.append(accuracy)\n",
    "\n",
    "  return accuracies"
   ]
  },
  {
   "cell_type": "code",
   "execution_count": 30,
   "id": "ce337b4d",
   "metadata": {},
   "outputs": [
    {
     "name": "stdout",
     "output_type": "stream",
     "text": [
      "accuracy SVM Linear :  0.25\n",
      "accuracy SVM RBF :  0.6666666666666666\n",
      "accuracy Random Forest :  0.5833333333333334\n",
      "accuracy KNN :  0.4166666666666667\n",
      "accuracy Naive Bayes :  0.75\n",
      "accuracy ANN :  0.5833333333333334\n",
      "accuracy Ensemble Learning (Bagging) :  0.4166666666666667\n"
     ]
    }
   ],
   "source": [
    "accuracies = getAccuracy(models)\n",
    "i=0\n",
    "for model in models_names:\n",
    "    print(f\"accuracy {model} :  {accuracies[i]}\")\n",
    "    i += 1"
   ]
  },
  {
   "cell_type": "code",
   "execution_count": 31,
   "id": "f015eee2",
   "metadata": {},
   "outputs": [
    {
     "name": "stdout",
     "output_type": "stream",
     "text": [
      "SVM Linear  Aire sous la courbe ROC: 0.5796516754850088\n",
      "SVM RBF  Aire sous la courbe ROC: 0.8327601410934745\n",
      "Random Forest  Aire sous la courbe ROC: 0.737229938271605\n",
      "KNN  Aire sous la courbe ROC: 0.5279100529100529\n",
      "Naive Bayes  Aire sous la courbe ROC: 0.8840939153439153\n",
      "ANN  Aire sous la courbe ROC: 0.8269510582010581\n",
      "Ensemble Learning (Bagging)  Aire sous la courbe ROC: 0.5829695767195767\n"
     ]
    }
   ],
   "source": [
    "i=0\n",
    "for  Y_test_pred_prob in predicted_Xtest_proba:\n",
    "#     Y_test_pred = Y_test_pred.reshape(-1, 1)\n",
    "    auc_roc = roc_auc_score(Y_test, Y_test_pred_prob , multi_class='ovr')\n",
    "    print(f\"{models_names[i]}  Aire sous la courbe ROC:\", auc_roc)\n",
    "    i += 1"
   ]
  },
  {
   "cell_type": "markdown",
   "id": "5c96af7e",
   "metadata": {},
   "source": [
    "# the best Model"
   ]
  },
  {
   "cell_type": "code",
   "execution_count": 35,
   "id": "ca3e18d6",
   "metadata": {},
   "outputs": [],
   "source": [
    "max_index = np.argmax(accuracies)\n",
    "best_model = models[max_index]"
   ]
  },
  {
   "cell_type": "code",
   "execution_count": 36,
   "id": "6b3509d1",
   "metadata": {},
   "outputs": [
    {
     "data": {
      "text/html": [
       "<div>\n",
       "<style scoped>\n",
       "    .dataframe tbody tr th:only-of-type {\n",
       "        vertical-align: middle;\n",
       "    }\n",
       "\n",
       "    .dataframe tbody tr th {\n",
       "        vertical-align: top;\n",
       "    }\n",
       "\n",
       "    .dataframe thead th {\n",
       "        text-align: right;\n",
       "    }\n",
       "</style>\n",
       "<table border=\"1\" class=\"dataframe\">\n",
       "  <thead>\n",
       "    <tr style=\"text-align: right;\">\n",
       "      <th></th>\n",
       "      <th>Real</th>\n",
       "      <th>Predicted</th>\n",
       "    </tr>\n",
       "  </thead>\n",
       "  <tbody>\n",
       "    <tr>\n",
       "      <th>0</th>\n",
       "      <td>0</td>\n",
       "      <td>0</td>\n",
       "    </tr>\n",
       "    <tr>\n",
       "      <th>1</th>\n",
       "      <td>0</td>\n",
       "      <td>0</td>\n",
       "    </tr>\n",
       "    <tr>\n",
       "      <th>2</th>\n",
       "      <td>1</td>\n",
       "      <td>1</td>\n",
       "    </tr>\n",
       "    <tr>\n",
       "      <th>3</th>\n",
       "      <td>1</td>\n",
       "      <td>1</td>\n",
       "    </tr>\n",
       "    <tr>\n",
       "      <th>4</th>\n",
       "      <td>1</td>\n",
       "      <td>1</td>\n",
       "    </tr>\n",
       "    <tr>\n",
       "      <th>5</th>\n",
       "      <td>1</td>\n",
       "      <td>1</td>\n",
       "    </tr>\n",
       "    <tr>\n",
       "      <th>6</th>\n",
       "      <td>2</td>\n",
       "      <td>1</td>\n",
       "    </tr>\n",
       "    <tr>\n",
       "      <th>7</th>\n",
       "      <td>2</td>\n",
       "      <td>1</td>\n",
       "    </tr>\n",
       "    <tr>\n",
       "      <th>8</th>\n",
       "      <td>0</td>\n",
       "      <td>2</td>\n",
       "    </tr>\n",
       "    <tr>\n",
       "      <th>9</th>\n",
       "      <td>2</td>\n",
       "      <td>2</td>\n",
       "    </tr>\n",
       "    <tr>\n",
       "      <th>10</th>\n",
       "      <td>0</td>\n",
       "      <td>0</td>\n",
       "    </tr>\n",
       "    <tr>\n",
       "      <th>11</th>\n",
       "      <td>0</td>\n",
       "      <td>0</td>\n",
       "    </tr>\n",
       "  </tbody>\n",
       "</table>\n",
       "</div>"
      ],
      "text/plain": [
       "    Real   Predicted\n",
       "0       0          0\n",
       "1       0          0\n",
       "2       1          1\n",
       "3       1          1\n",
       "4       1          1\n",
       "5       1          1\n",
       "6       2          1\n",
       "7       2          1\n",
       "8       0          2\n",
       "9       2          2\n",
       "10      0          0\n",
       "11      0          0"
      ]
     },
     "execution_count": 36,
     "metadata": {},
     "output_type": "execute_result"
    }
   ],
   "source": [
    "pd.DataFrame({\"Real \": Y_test , \"Predicted\" : best_model.predict(X_test)})"
   ]
  },
  {
   "cell_type": "markdown",
   "id": "7e87c265",
   "metadata": {},
   "source": [
    "# saving the best model"
   ]
  },
  {
   "cell_type": "code",
   "execution_count": 37,
   "id": "ba9e08ac",
   "metadata": {},
   "outputs": [],
   "source": [
    "model_path = '../models/model_question3.h5'\n",
    "with open(model_path, 'wb') as file:\n",
    "    pickle.dump((best_model, model_word2vec), file)"
   ]
  },
  {
   "cell_type": "markdown",
   "id": "2571c2b6",
   "metadata": {},
   "source": [
    "# Test Model"
   ]
  },
  {
   "cell_type": "code",
   "execution_count": null,
   "id": "defca553",
   "metadata": {},
   "outputs": [],
   "source": [
    "i=1\n",
    "while True:\n",
    "    print(\"--------------  Testing  ---------------\")\n",
    "    \n",
    "    answer = input('الاجابه: ')\n",
    "    process = txt_preprocess(answer)\n",
    "    txt = get_word_vector(process, model_word2vec)\n",
    "    txt = txt.reshape(1, -1)\n",
    "    predicted_ques = best_model.predict(txt)[0]\n",
    "    print(f'Grade of Answer Is : {predicted_ques}')\n",
    "    \n",
    "    exit = int(input(\"Enter Zero To Exit From System  OR One To Run The Program : \\n\"))\n",
    "    if exit == 0:\n",
    "        print('Exit From System...','Thank You')\n",
    "        break\n",
    "    else:\n",
    "        continue   \n",
    "        print('\\n')"
   ]
  },
  {
   "cell_type": "code",
   "execution_count": null,
   "id": "ea4367f6",
   "metadata": {},
   "outputs": [],
   "source": []
  },
  {
   "cell_type": "code",
   "execution_count": null,
   "id": "45832131",
   "metadata": {},
   "outputs": [],
   "source": []
  }
 ],
 "metadata": {
  "kernelspec": {
   "display_name": "Python 3 (ipykernel)",
   "language": "python",
   "name": "python3"
  },
  "language_info": {
   "codemirror_mode": {
    "name": "ipython",
    "version": 3
   },
   "file_extension": ".py",
   "mimetype": "text/x-python",
   "name": "python",
   "nbconvert_exporter": "python",
   "pygments_lexer": "ipython3",
   "version": "3.10.5"
  }
 },
 "nbformat": 4,
 "nbformat_minor": 5
}
