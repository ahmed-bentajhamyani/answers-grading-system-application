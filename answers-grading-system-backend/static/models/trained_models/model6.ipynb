{
 "cells": [
  {
   "cell_type": "markdown",
   "id": "74395077",
   "metadata": {},
   "source": [
    "# Import Libraries"
   ]
  },
  {
   "cell_type": "code",
   "execution_count": 1,
   "id": "2db1ad22",
   "metadata": {},
   "outputs": [],
   "source": [
    "import pandas as pd\n",
    "import numpy as np\n",
    "import matplotlib.pyplot as plt\n",
    "import seaborn as sns\n",
    "import string \n",
    "from nltk.corpus import stopwords\n",
    "from nltk.stem.isri import ISRIStemmer\n",
    "from sklearn.model_selection import train_test_split\n",
    "import tensorflow as tf \n",
    "from keras.preprocessing.text import Tokenizer\n",
    "from tensorflow.keras.preprocessing.sequence import pad_sequences\n",
    "from keras.models import Sequential\n",
    "from keras.layers import Embedding, LSTM, Dense, Dropout\n",
    "from sklearn.model_selection import cross_val_score\n",
    "from sklearn.metrics import accuracy_score\n",
    "from sklearn.metrics import roc_auc_score\n",
    "\n",
    "# from keras.models import Sequential\n",
    "from sklearn.svm import SVC\n",
    "from sklearn.ensemble import RandomForestClassifier\n",
    "from sklearn.neighbors import KNeighborsClassifier\n",
    "from sklearn.naive_bayes import GaussianNB\n",
    "from sklearn.ensemble import BaggingClassifier\n",
    "from sklearn.neural_network import MLPClassifier\n",
    "\n",
    "\n",
    "import nltk\n",
    "from nltk.tokenize import word_tokenize\n",
    "from gensim.models import Word2Vec\n",
    "import pickle "
   ]
  },
  {
   "cell_type": "code",
   "execution_count": 2,
   "id": "64e006be",
   "metadata": {},
   "outputs": [],
   "source": [
    "import warnings\n",
    "warnings.filterwarnings('ignore')"
   ]
  },
  {
   "cell_type": "markdown",
   "id": "cea978ea",
   "metadata": {},
   "source": [
    "# Load Data"
   ]
  },
  {
   "cell_type": "code",
   "execution_count": 3,
   "id": "034bf77f",
   "metadata": {
    "scrolled": true
   },
   "outputs": [
    {
     "data": {
      "text/html": [
       "<div>\n",
       "<style scoped>\n",
       "    .dataframe tbody tr th:only-of-type {\n",
       "        vertical-align: middle;\n",
       "    }\n",
       "\n",
       "    .dataframe tbody tr th {\n",
       "        vertical-align: top;\n",
       "    }\n",
       "\n",
       "    .dataframe thead th {\n",
       "        text-align: right;\n",
       "    }\n",
       "</style>\n",
       "<table border=\"1\" class=\"dataframe\">\n",
       "  <thead>\n",
       "    <tr style=\"text-align: right;\">\n",
       "      <th></th>\n",
       "      <th>question_id</th>\n",
       "      <th>answer</th>\n",
       "      <th>grade</th>\n",
       "    </tr>\n",
       "  </thead>\n",
       "  <tbody>\n",
       "    <tr>\n",
       "      <th>0</th>\n",
       "      <td>6</td>\n",
       "      <td>نصف قرن</td>\n",
       "      <td>0</td>\n",
       "    </tr>\n",
       "    <tr>\n",
       "      <th>1</th>\n",
       "      <td>6</td>\n",
       "      <td>ربع قرن</td>\n",
       "      <td>2</td>\n",
       "    </tr>\n",
       "    <tr>\n",
       "      <th>2</th>\n",
       "      <td>6</td>\n",
       "      <td>21 عام</td>\n",
       "      <td>1</td>\n",
       "    </tr>\n",
       "  </tbody>\n",
       "</table>\n",
       "</div>"
      ],
      "text/plain": [
       "   question_id   answer  grade\n",
       "0            6  نصف قرن      0\n",
       "1            6  ربع قرن      2\n",
       "2            6  21 عام       1"
      ]
     },
     "execution_count": 3,
     "metadata": {},
     "output_type": "execute_result"
    }
   ],
   "source": [
    "# read csv file into pandas\n",
    "df = pd.read_csv(\"../datasets/question6.csv\")\n",
    "df.head(3)"
   ]
  },
  {
   "cell_type": "markdown",
   "id": "5984b4ed",
   "metadata": {},
   "source": [
    "# EDA"
   ]
  },
  {
   "cell_type": "code",
   "execution_count": 4,
   "id": "e4cc011c",
   "metadata": {},
   "outputs": [
    {
     "name": "stdout",
     "output_type": "stream",
     "text": [
      "<class 'pandas.core.frame.DataFrame'>\n",
      "RangeIndex: 81 entries, 0 to 80\n",
      "Data columns (total 3 columns):\n",
      " #   Column       Non-Null Count  Dtype \n",
      "---  ------       --------------  ----- \n",
      " 0   question_id  81 non-null     int64 \n",
      " 1   answer       81 non-null     object\n",
      " 2   grade        81 non-null     int64 \n",
      "dtypes: int64(2), object(1)\n",
      "memory usage: 2.0+ KB\n"
     ]
    }
   ],
   "source": [
    "df.info()"
   ]
  },
  {
   "cell_type": "code",
   "execution_count": 5,
   "id": "89ced33c",
   "metadata": {},
   "outputs": [
    {
     "data": {
      "text/plain": [
       "grade\n",
       "0    31\n",
       "1    18\n",
       "2    32\n",
       "dtype: int64"
      ]
     },
     "execution_count": 5,
     "metadata": {},
     "output_type": "execute_result"
    }
   ],
   "source": [
    "df.groupby('grade').size()"
   ]
  },
  {
   "cell_type": "code",
   "execution_count": 6,
   "id": "3a720ee4",
   "metadata": {},
   "outputs": [
    {
     "data": {
      "text/plain": [
       "17"
      ]
     },
     "execution_count": 6,
     "metadata": {},
     "output_type": "execute_result"
    }
   ],
   "source": [
    "df.duplicated().sum()"
   ]
  },
  {
   "cell_type": "code",
   "execution_count": 7,
   "id": "a52be670",
   "metadata": {},
   "outputs": [
    {
     "data": {
      "image/png": "[encoded data removed]",
      "text/plain": [
       "<Figure size 1000x600 with 1 Axes>"
      ]
     },
     "metadata": {},
     "output_type": "display_data"
    }
   ],
   "source": [
    "plt.figure(figsize=(10, 6))\n",
    "sns.countplot(data=df, x='grade')\n",
    "plt.show()"
   ]
  },
  {
   "cell_type": "markdown",
   "id": "f927deff",
   "metadata": {},
   "source": [
    "# Data Cleaning"
   ]
  },
  {
   "cell_type": "code",
   "execution_count": 8,
   "id": "4e2b5cd3",
   "metadata": {},
   "outputs": [],
   "source": [
    "df.drop('question_id', axis=1, inplace=True)"
   ]
  },
  {
   "cell_type": "code",
   "execution_count": 9,
   "id": "2bedaead",
   "metadata": {},
   "outputs": [],
   "source": [
    "df.dropna(inplace=True)"
   ]
  },
  {
   "cell_type": "code",
   "execution_count": 10,
   "id": "c7aecaff",
   "metadata": {},
   "outputs": [],
   "source": [
    "df.drop_duplicates(inplace=True)"
   ]
  },
  {
   "cell_type": "markdown",
   "id": "3ae6d336",
   "metadata": {},
   "source": [
    "# Data Pre-Preocessing"
   ]
  },
  {
   "cell_type": "code",
   "execution_count": 11,
   "id": "75658c83",
   "metadata": {},
   "outputs": [],
   "source": [
    "def txt_preprocess(text):\n",
    "    text = text.lower()\n",
    "    tokens = word_tokenize(text)\n",
    "    #tokens = [token for token in tokens if token.isalpha() and token not in stop_words]\n",
    "    return tokens"
   ]
  },
  {
   "cell_type": "code",
   "execution_count": 12,
   "id": "0cf45543",
   "metadata": {},
   "outputs": [],
   "source": [
    "df['tokens'] = df['answer'].apply(txt_preprocess)"
   ]
  },
  {
   "cell_type": "markdown",
   "id": "9bfbf36f",
   "metadata": {},
   "source": [
    "# Text Representation"
   ]
  },
  {
   "cell_type": "code",
   "execution_count": 14,
   "id": "cf192e33",
   "metadata": {},
   "outputs": [],
   "source": [
    "model_word2vec = Word2Vec(df['tokens'], vector_size=100, window=4, min_count=1, workers=4)"
   ]
  },
  {
   "cell_type": "code",
   "execution_count": 15,
   "id": "0f75f229",
   "metadata": {},
   "outputs": [],
   "source": [
    "def get_word_vector(tokens, model_word2vec):\n",
    "    textvector = np.zeros((100,), dtype='float32')\n",
    "    for token in tokens:\n",
    "        try:\n",
    "            textvector += model_word2vec.wv[token]\n",
    "        except KeyError:\n",
    "            continue\n",
    "    return textvector\n",
    "\n",
    "\n",
    "df['textvector'] = df['tokens'].apply(lambda x: get_word_vector(x, model_word2vec))"
   ]
  },
  {
   "cell_type": "code",
   "execution_count": 16,
   "id": "b59986fa",
   "metadata": {},
   "outputs": [
    {
     "data": {
      "text/html": [
       "<div>\n",
       "<style scoped>\n",
       "    .dataframe tbody tr th:only-of-type {\n",
       "        vertical-align: middle;\n",
       "    }\n",
       "\n",
       "    .dataframe tbody tr th {\n",
       "        vertical-align: top;\n",
       "    }\n",
       "\n",
       "    .dataframe thead th {\n",
       "        text-align: right;\n",
       "    }\n",
       "</style>\n",
       "<table border=\"1\" class=\"dataframe\">\n",
       "  <thead>\n",
       "    <tr style=\"text-align: right;\">\n",
       "      <th></th>\n",
       "      <th>answer</th>\n",
       "      <th>grade</th>\n",
       "      <th>tokens</th>\n",
       "      <th>textvector</th>\n",
       "    </tr>\n",
       "  </thead>\n",
       "  <tbody>\n",
       "    <tr>\n",
       "      <th>0</th>\n",
       "      <td>نصف قرن</td>\n",
       "      <td>0</td>\n",
       "      <td>[نصف, قرن]</td>\n",
       "      <td>[-0.008065444, 0.007293103, 0.0013024479, 0.01...</td>\n",
       "    </tr>\n",
       "    <tr>\n",
       "      <th>1</th>\n",
       "      <td>ربع قرن</td>\n",
       "      <td>2</td>\n",
       "      <td>[ربع, قرن]</td>\n",
       "      <td>[-0.0018630289, 0.01811761, 0.0052976296, 0.00...</td>\n",
       "    </tr>\n",
       "    <tr>\n",
       "      <th>2</th>\n",
       "      <td>21 عام</td>\n",
       "      <td>1</td>\n",
       "      <td>[21, عام]</td>\n",
       "      <td>[0.009289302, 0.0017587086, -0.0077069486, 0.0...</td>\n",
       "    </tr>\n",
       "    <tr>\n",
       "      <th>3</th>\n",
       "      <td>خمسة وعشرون سنة</td>\n",
       "      <td>2</td>\n",
       "      <td>[خمسة, وعشرون, سنة]</td>\n",
       "      <td>[-0.010672094, 9.699538e-05, 0.004522733, -0.0...</td>\n",
       "    </tr>\n",
       "    <tr>\n",
       "      <th>4</th>\n",
       "      <td>ثلث قرن</td>\n",
       "      <td>0</td>\n",
       "      <td>[ثلث, قرن]</td>\n",
       "      <td>[-0.0069706356, 0.0012739897, 0.009856183, 0.0...</td>\n",
       "    </tr>\n",
       "  </tbody>\n",
       "</table>\n",
       "</div>"
      ],
      "text/plain": [
       "            answer  grade               tokens  \\\n",
       "0          نصف قرن      0           [نصف, قرن]   \n",
       "1          ربع قرن      2           [ربع, قرن]   \n",
       "2          21 عام       1            [21, عام]   \n",
       "3  خمسة وعشرون سنة      2  [خمسة, وعشرون, سنة]   \n",
       "4          ثلث قرن      0           [ثلث, قرن]   \n",
       "\n",
       "                                          textvector  \n",
       "0  [-0.008065444, 0.007293103, 0.0013024479, 0.01...  \n",
       "1  [-0.0018630289, 0.01811761, 0.0052976296, 0.00...  \n",
       "2  [0.009289302, 0.0017587086, -0.0077069486, 0.0...  \n",
       "3  [-0.010672094, 9.699538e-05, 0.004522733, -0.0...  \n",
       "4  [-0.0069706356, 0.0012739897, 0.009856183, 0.0...  "
      ]
     },
     "execution_count": 16,
     "metadata": {},
     "output_type": "execute_result"
    }
   ],
   "source": [
    "df.head()"
   ]
  },
  {
   "cell_type": "markdown",
   "id": "22a8ed60",
   "metadata": {},
   "source": [
    "# split the data"
   ]
  },
  {
   "cell_type": "code",
   "execution_count": 17,
   "id": "3df3116d",
   "metadata": {},
   "outputs": [],
   "source": [
    "train_data = df.sample(frac=0.85, random_state=42)\n",
    "test_data = df.drop(train_data.index)"
   ]
  },
  {
   "cell_type": "code",
   "execution_count": 18,
   "id": "ff7cd537",
   "metadata": {},
   "outputs": [
    {
     "name": "stdout",
     "output_type": "stream",
     "text": [
      "[[ 4.08372059e-02  5.59985824e-03 -1.57441217e-02  1.68388765e-02\n",
      "  -1.04391463e-02  1.44320568e-02  3.16809490e-02  6.16591424e-04\n",
      "  -1.36698680e-02  5.09361317e-03  1.03655402e-02 -1.55935995e-05\n",
      "   5.44007495e-03  2.39013955e-02 -2.03982536e-02  3.40636447e-03\n",
      "   2.54709758e-02  1.96896922e-02 -6.72978349e-05 -4.40695211e-02\n",
      "   5.77388145e-03 -2.38691382e-02  2.51619089e-02  8.28393176e-03\n",
      "  -2.02370100e-02 -1.63447112e-04 -1.26371812e-02  2.02502776e-03\n",
      "  -1.21877464e-02  2.41892063e-03  1.20226610e-02  2.05189101e-02\n",
      "   1.90989412e-02 -2.57162731e-02 -1.69442799e-02  7.71845505e-03\n",
      "  -8.20511486e-03 -6.47517201e-03 -4.51671854e-02 -1.84405819e-02\n",
      "   2.10130028e-03 -6.01034146e-03  1.73464343e-02 -5.63538959e-03\n",
      "   3.01634893e-02  5.21371141e-04 -1.09451553e-02 -2.40447018e-02\n",
      "   9.89797059e-03  1.17510706e-02 -1.47926528e-02 -1.67455710e-02\n",
      "  -4.17632004e-03 -9.29084420e-03 -2.46823542e-02 -3.07336319e-02\n",
      "  -2.60314979e-02 -1.50521267e-02 -1.49366707e-02 -1.90154500e-02\n",
      "   1.66517105e-02 -2.97650285e-02  6.16520178e-03  1.31185614e-02\n",
      "  -1.82288140e-02  1.34575563e-02 -1.33780958e-02  2.09486317e-02\n",
      "  -2.20202561e-02  1.39288860e-03  1.47164101e-04  2.11958103e-02\n",
      "   4.47011366e-03  2.95794457e-02  2.40209047e-02 -4.36757505e-03\n",
      "   1.11505687e-02  2.22980604e-02  1.97859504e-03 -1.22882449e-03\n",
      "  -9.90543142e-03 -2.42074430e-02 -3.55870388e-02  1.11794192e-03\n",
      "  -7.22324476e-03 -3.77418585e-02  3.10528614e-02 -1.53508130e-03\n",
      "  -4.71857283e-03 -2.57272040e-03 -5.14007779e-03 -2.17842194e-03\n",
      "  -1.97441671e-02  3.63192172e-03  9.56162997e-03 -1.57912746e-02\n",
      "   1.19879134e-02 -1.55165773e-02  3.20327561e-03  1.50343608e-02]\n",
      " [-3.90487909e-03 -2.03002337e-03  3.17639019e-03 -8.45639780e-03\n",
      "   5.24685392e-03 -6.06175652e-03 -1.72923319e-06  1.65021699e-02\n",
      "   4.19461168e-03 -5.66930184e-03 -9.93167050e-04  6.00123731e-03\n",
      "  -4.61358856e-03 -4.31636907e-03 -2.28513218e-03  1.47552621e-02\n",
      "  -1.56048778e-03 -1.08453361e-02 -1.81416236e-02 -8.14262778e-03\n",
      "   7.29347207e-03  1.22843301e-02  5.30870305e-03  1.58340670e-02\n",
      "  -9.75001603e-03  1.58172883e-02  5.26793581e-03  1.86521537e-03\n",
      "  -5.24665974e-03  4.40752180e-03 -5.62781980e-03 -3.08091356e-03\n",
      "  -1.38872974e-02 -1.33591052e-02  5.53662423e-03  1.00431582e-02\n",
      "   1.36482380e-02 -9.19128396e-03 -1.33930445e-02 -1.77937187e-03\n",
      "  -1.29259937e-03 -8.40331800e-03  7.76661281e-03  7.92384800e-03\n",
      "   2.37094741e-02  1.04920464e-02 -9.68535058e-03  1.48071675e-04\n",
      "  -1.98054267e-03  4.64139041e-03 -4.29251837e-03 -7.19197281e-03\n",
      "  -5.06405719e-03 -9.00839455e-03 -8.56255088e-03  1.11308799e-03\n",
      "  -3.13558360e-03  5.99484984e-03 -7.36304512e-03  6.35766890e-04\n",
      "   1.27694476e-03  1.60823716e-03  4.00480349e-03  5.90943824e-03\n",
      "   1.28961187e-02  6.32092683e-03 -6.68623543e-04  2.27555856e-02\n",
      "   7.31964363e-04 -6.71527162e-03  2.17440948e-02  1.10719055e-02\n",
      "   5.59715740e-03  1.51736923e-02  2.70111486e-05 -1.16431015e-02\n",
      "  -5.09915594e-03  8.20440333e-03  1.21121695e-02 -9.13711824e-03\n",
      "  -3.54753388e-03  5.76945208e-03 -1.67124113e-03  1.74964312e-03\n",
      "  -1.70472334e-03 -4.30945028e-03  1.07757784e-02  6.32901397e-03\n",
      "  -9.20441560e-03 -1.36827119e-02  9.43404436e-03  9.61293466e-03\n",
      "   1.16773671e-03  1.04822428e-03  5.60047105e-04  9.96342488e-03\n",
      "  -2.21804529e-03 -1.87332463e-02 -8.13337043e-03  8.28698091e-03]\n",
      " [-2.38602143e-03  2.97409203e-03 -7.41082523e-03 -1.84704317e-03\n",
      "  -2.29260456e-02 -2.58499160e-02  1.39994314e-02  9.34970677e-02\n",
      "  -2.06683204e-02 -3.39849889e-02 -3.75312306e-02 -1.74711272e-02\n",
      "  -1.83643699e-02  1.82015020e-02  1.54748615e-02 -3.88971269e-02\n",
      "  -7.73638301e-03 -5.95288351e-03 -4.78277393e-02 -2.73469817e-02\n",
      "   2.36147493e-02  2.01637708e-02 -1.63524784e-02  2.16340218e-02\n",
      "   1.07058510e-02 -1.55151412e-02  2.50425823e-02 -6.30560704e-03\n",
      "  -3.36874393e-03  1.43858334e-02 -1.51102282e-02 -4.63230871e-02\n",
      "  -1.78666580e-02 -6.94607943e-02 -3.53204422e-02  4.75696027e-02\n",
      "   2.64867116e-02 -1.56661998e-02 -4.57581095e-02 -2.16161124e-02\n",
      "   1.29291508e-03  7.57384393e-03 -3.22088860e-02  1.60778109e-02\n",
      "   2.88777594e-02 -1.87566020e-02 -4.22348008e-02 -2.57545114e-02\n",
      "   2.47241706e-02  2.16436200e-03  2.05137040e-02 -6.76207766e-02\n",
      "  -1.85062960e-02 -1.00972205e-02 -1.23270322e-02  6.76720589e-03\n",
      "   2.43401285e-02 -6.21502250e-02 -8.69052298e-03 -4.97733569e-03\n",
      "   2.25573406e-03 -2.52049938e-02  2.35295799e-02 -4.65143099e-02\n",
      "  -2.53357776e-02  5.69874570e-02  1.62912942e-02  2.24699266e-02\n",
      "  -5.24859466e-02  2.74084397e-02 -2.14653257e-02  5.48542216e-02\n",
      "   4.36959323e-04 -1.50062162e-02  2.88121812e-02  5.44171594e-02\n",
      "   5.18677756e-02 -2.00281478e-03 -5.41468598e-02 -2.62953006e-02\n",
      "   1.55545305e-04  8.14436376e-03 -4.64092605e-02 -1.52292578e-02\n",
      "  -4.40648533e-02 -5.21891145e-03 -3.79879922e-02 -4.26083915e-02\n",
      "  -1.39576476e-03  7.03304633e-02  5.30906133e-02  2.03337590e-03\n",
      "  -7.70677114e-03 -1.16152288e-02  5.45675792e-02  2.12911144e-02\n",
      "   9.78534110e-04 -1.02332598e-02  2.17071064e-02  2.42315978e-03]\n",
      " [ 9.22653452e-03  4.21836087e-03  5.79449255e-03 -6.43333467e-03\n",
      "   4.65182588e-04 -6.38021389e-03  2.36741221e-03 -1.48698688e-03\n",
      "   2.63268338e-03 -3.72253964e-03  1.34448614e-02 -1.37818567e-02\n",
      "   8.24735221e-03 -1.45780388e-03 -1.87365338e-03 -1.88540015e-03\n",
      "   8.74028727e-03 -9.65056010e-03 -2.37082946e-03 -3.46212648e-04\n",
      "  -9.60239023e-03  5.89919090e-03  7.85423815e-03  9.59761441e-04\n",
      "  -9.62401833e-03 -1.12298457e-03 -9.38619021e-03 -4.29500639e-03\n",
      "   1.72372023e-03  7.19241332e-04  4.30652732e-03 -6.86172396e-03\n",
      "   2.86716782e-03  2.35746428e-03 -2.59471126e-04 -4.09766054e-03\n",
      "   1.35583349e-03  7.53707904e-03  1.60117820e-03 -5.64195821e-03\n",
      "  -9.67137329e-03 -2.90560629e-03 -1.55450338e-02  2.37507559e-03\n",
      "  -1.24687701e-02 -4.19872114e-03 -1.03775971e-02 -2.99763051e-04\n",
      "  -5.33512793e-03  6.00728439e-03 -7.33969174e-03 -1.11148795e-02\n",
      "  -2.13759765e-03 -3.95379588e-03  8.15048814e-03  2.00321828e-03\n",
      "   3.24135274e-03 -1.78707065e-04  5.17830113e-03  1.02109723e-02\n",
      "  -1.58758480e-02 -1.17844986e-02  6.21134043e-03 -3.68887326e-04\n",
      "  -1.37550002e-02  2.79581035e-03 -1.84181090e-02 -7.11552147e-03\n",
      "   2.26309686e-03 -6.23407774e-03  6.02862518e-03  1.37014892e-02\n",
      "   2.82352697e-03  1.40669569e-03 -3.16473190e-03  1.12467632e-03\n",
      "  -3.15923197e-03 -1.28041143e-02 -4.63720690e-03 -1.63162313e-03\n",
      "   1.95810571e-04  6.58437843e-03  1.31171970e-02  9.63509735e-03\n",
      "  -1.64656248e-03 -4.08523483e-03 -9.42721404e-03  2.74637574e-03\n",
      "   1.49507998e-02  5.51798521e-03  9.16988309e-03  2.86261272e-03\n",
      "   1.66418543e-03 -3.63183534e-03 -2.31969357e-03  5.54897869e-03\n",
      "   1.48862861e-02 -1.13463728e-03 -4.27889917e-03 -1.21457428e-02]\n",
      " [ 1.05365887e-02 -5.56843495e-03  1.03536490e-02 -7.03370059e-03\n",
      "   6.84923306e-03 -4.66203038e-03 -7.15252245e-04  6.40025456e-03\n",
      "   4.15360834e-03 -3.72608798e-03  8.79430398e-03 -2.23076660e-02\n",
      "   4.71726060e-04  7.25565944e-03 -1.07900370e-02  7.12655485e-03\n",
      "  -5.38027845e-04 -9.93081834e-03 -4.31719609e-03 -9.35890898e-03\n",
      "  -9.10460483e-04  1.26820412e-02  1.08714132e-02  5.81081025e-03\n",
      "  -9.52059031e-03  8.28134455e-03 -2.34645372e-03 -1.41854975e-02\n",
      "  -2.72502610e-03 -5.76048158e-04  7.40811834e-03 -1.12002650e-02\n",
      "   4.34422912e-03 -5.55641856e-03  2.51388317e-03  6.92532398e-04\n",
      "   6.35147886e-03  4.32082359e-03 -6.85451739e-03 -1.48927784e-02\n",
      "  -1.03759300e-02 -1.02501316e-02 -2.23698933e-02  8.49895459e-03\n",
      "  -5.23232808e-03 -2.05038441e-03 -1.82868745e-02 -6.03142101e-03\n",
      "   2.75462307e-03  9.93688684e-03 -1.25796553e-02 -1.85853839e-02\n",
      "  -1.36119360e-03 -4.93112020e-04  1.01906005e-02  5.15685230e-03\n",
      "  -2.39583245e-03 -1.00629013e-02 -1.86524680e-03  1.04578063e-02\n",
      "  -1.12149976e-02 -7.23666511e-03  8.11526552e-03  4.81550861e-03\n",
      "  -1.38994101e-02  6.98216259e-03 -2.75376420e-02  6.11598603e-04\n",
      "   8.37466028e-03 -1.04610971e-03  1.32008251e-02  2.21747961e-02\n",
      "   3.59673798e-03 -2.92658806e-04 -2.59230891e-03 -8.19250755e-03\n",
      "   5.26390458e-03 -1.91638321e-02  3.76986526e-03 -5.84297534e-03\n",
      "   8.13243445e-04 -2.54296884e-03  3.49645410e-03  1.81503221e-03\n",
      "  -9.40397941e-03 -3.71605856e-03 -1.65864658e-02 -2.15861364e-03\n",
      "   9.71452706e-03  1.20748533e-03  1.62353795e-02  7.70963961e-03\n",
      "   1.03488956e-02  3.45516298e-03 -7.97108561e-03  1.28111718e-02\n",
      "   5.62259136e-03 -3.75849707e-03 -1.20353904e-02 -7.95162097e-03]\n",
      " [ 1.16600236e-03  4.60194377e-03  5.31286001e-03 -3.19397030e-03\n",
      "  -3.23495013e-03  2.58817757e-03 -3.58519563e-03  4.23701433e-03\n",
      "   9.13488911e-04  4.31313924e-03 -3.04968096e-03  1.34100043e-03\n",
      "  -7.05682300e-03  1.53048187e-02  4.98657022e-03 -1.65251084e-03\n",
      "   1.21842418e-03  1.16077308e-02  1.21364160e-03 -6.34077983e-03\n",
      "  -5.09390607e-03 -3.00301984e-03  6.73334394e-03  8.61305743e-03\n",
      "  -6.28654007e-03 -1.31425657e-03 -3.14288121e-03 -7.86221214e-03\n",
      "   6.16712589e-03 -2.39514979e-03  4.20752540e-03  1.84904784e-04\n",
      "  -1.03745200e-02  4.71864035e-03 -6.91295601e-03 -7.76135828e-03\n",
      "   2.83831265e-04 -1.39577128e-03  4.91781160e-04 -1.20710190e-02\n",
      "   7.11900927e-03  1.97068974e-03  1.64673291e-03 -1.42404120e-02\n",
      "  -4.62287571e-03  1.39837656e-02 -1.72158293e-02 -8.26912001e-03\n",
      "   3.72787844e-03 -1.36368594e-03 -9.80416033e-03 -7.60186464e-04\n",
      "  -2.99725868e-03 -5.45106782e-03 -2.52577290e-03 -6.97554089e-04\n",
      "   3.69087118e-03 -1.30491024e-02 -8.65923241e-04 -1.33264670e-02\n",
      "  -7.79256970e-03 -8.56832135e-04  1.48215983e-03 -1.32298330e-04\n",
      "  -8.63816310e-03 -1.10565173e-03 -7.68953701e-03 -3.48926592e-03\n",
      "  -6.14029821e-03  3.29362182e-03  1.69754424e-03 -3.24863940e-03\n",
      "  -1.15487985e-02  2.93470593e-03  4.55210591e-03 -1.38398353e-02\n",
      "   1.34361424e-02  1.03718713e-02 -1.05011221e-02  1.23583581e-02\n",
      "   4.51147184e-03 -1.36107150e-02 -6.84416154e-03  9.43811703e-03\n",
      "  -6.75274013e-03 -9.87549406e-03  7.40007963e-03 -7.83512369e-05\n",
      "  -1.60593120e-03 -7.53754703e-03 -1.12455999e-02 -3.34522920e-05\n",
      "  -5.19532943e-04  2.59565935e-03  2.56236643e-03  7.15458533e-04\n",
      "   7.01624993e-03 -1.99144799e-03 -2.06690584e-03  1.11399014e-02]\n",
      " [-1.04742516e-02 -3.64111736e-04  9.09235887e-03  3.13015189e-05\n",
      "   3.49363801e-03 -9.70229227e-03 -5.73944207e-03 -2.75164237e-03\n",
      "   1.49054341e-02 -1.01109967e-02  1.39154699e-02  1.67530961e-05\n",
      "   1.39404871e-02 -2.44340464e-03  9.51873697e-03 -6.21589180e-03\n",
      "   1.00247758e-02 -8.05535167e-03 -8.02265480e-04  1.12388432e-02\n",
      "   2.77631124e-03  1.29188993e-03  1.32222679e-02  2.74103601e-03\n",
      "  -8.49118456e-04  4.21499740e-03  3.75782605e-04  1.24545898e-02\n",
      "   6.92550559e-04  8.59226380e-03 -7.26245926e-04  3.15380027e-03\n",
      "  -4.39076871e-03 -6.54504541e-03  2.14365078e-04  1.81150734e-02\n",
      "   1.09818010e-02 -1.19941290e-02 -9.09104291e-03  7.74106104e-03\n",
      "   5.02298865e-03 -2.60346523e-03  1.36584500e-02 -1.49434153e-03\n",
      "   1.52545338e-02  7.31749926e-03 -1.55854691e-03  1.35340216e-03\n",
      "  -3.76765989e-03 -1.21946009e-02  1.25491023e-02  9.64416564e-03\n",
      "   3.77167016e-05 -1.34476153e-02 -1.46348439e-02  4.74076858e-03\n",
      "  -5.66093065e-03  1.79698206e-02  8.29672627e-03  1.32227875e-03\n",
      "   6.43879408e-03  5.47860330e-03  5.62157342e-03 -3.46374523e-04\n",
      "   1.40944552e-02 -1.28694074e-02 -2.29396764e-03  5.77144651e-03\n",
      "   2.46094214e-03 -3.05315433e-03  1.61835877e-03 -2.55974010e-04\n",
      "  -5.66266524e-03  1.32546658e-02  6.01153960e-03 -1.10752718e-03\n",
      "  -9.89477336e-03  4.01011528e-03  2.12029088e-03  1.17684733e-02\n",
      "   4.90361825e-04  2.89214007e-03  2.46590353e-03 -3.64012783e-03\n",
      "  -5.86925447e-03  6.26778463e-04  2.57726014e-03 -1.34889130e-03\n",
      "   6.03298564e-03  6.75860792e-05  7.92772043e-04  4.51400410e-04\n",
      "  -9.60871018e-03 -1.01352185e-02  1.12747923e-02 -9.95396264e-03\n",
      "  -1.48967654e-03 -5.47415856e-03 -5.45778777e-03 -1.46972146e-02]\n",
      " [-6.88584661e-03  1.18999463e-02  2.26662159e-02  4.27600835e-03\n",
      "   9.29066911e-03 -1.64804757e-02  1.75405461e-02  1.22338682e-02\n",
      "  -1.44837238e-02 -2.76976619e-02  2.73445882e-02 -2.58306414e-02\n",
      "  -1.95634644e-03 -1.08197127e-02  1.29392371e-02  2.34501325e-02\n",
      "   1.13484515e-02  1.99954957e-06 -1.93606932e-02 -1.67653523e-02\n",
      "   9.68470238e-03  1.64334327e-02  2.49447245e-02 -2.21202485e-02\n",
      "  -5.61213354e-03  1.87740866e-02 -1.33919502e-02 -4.62232390e-03\n",
      "   2.82045687e-03 -9.94062237e-03  1.05971284e-03 -1.06447954e-02\n",
      "   2.80863531e-02 -8.40916485e-03 -2.43841112e-03  7.32213259e-04\n",
      "   3.33592296e-02  1.09748179e-02  4.60758805e-03  1.20086633e-02\n",
      "   9.22352076e-03  6.82464277e-04 -2.26496048e-02  1.14859594e-03\n",
      "  -2.04576179e-04  3.87028325e-04  7.29234656e-04  1.45792346e-02\n",
      "   3.11517250e-03  1.48455771e-02  2.43995152e-03 -1.09921657e-02\n",
      "  -8.94862786e-03 -8.20168201e-03  7.53899012e-03 -1.37045821e-02\n",
      "   2.02406794e-02  8.89525842e-03  6.79534394e-03  2.71055251e-02\n",
      "  -3.15449238e-02 -3.85876629e-03  1.40289320e-02 -1.08928336e-02\n",
      "  -1.43226217e-02  1.23233795e-02 -1.68659985e-02  1.42953638e-03\n",
      "   4.84828185e-03  1.56578124e-02 -1.63684562e-02 -6.65845349e-03\n",
      "   8.53179954e-03  3.46898986e-03 -2.43803114e-03 -4.12268378e-03\n",
      "   6.56294916e-03 -1.64846107e-02 -1.45973945e-02  4.60466091e-03\n",
      "  -1.84122417e-02  1.18683130e-02  3.20611969e-02  1.46938395e-03\n",
      "  -2.29537720e-03  9.43131838e-03  4.88924980e-03 -7.34315068e-03\n",
      "  -5.99414203e-03  1.14528127e-02  1.69785675e-02  1.10929031e-02\n",
      "   2.14381963e-02  5.98444324e-03  1.03154611e-02  5.61931962e-03\n",
      "   9.17631481e-03 -7.41537800e-03 -2.20846920e-03  9.77431983e-03]\n",
      " [ 1.47815123e-02 -1.70449540e-02 -1.86949968e-02  2.03143265e-02\n",
      "   5.61519898e-03 -5.74861607e-03  1.69248097e-02  2.20714882e-02\n",
      "  -1.97840221e-02 -6.82498887e-03 -1.02534974e-02 -1.23824608e-02\n",
      "   9.34507465e-04  1.14367707e-02 -9.65861976e-03  1.27124898e-02\n",
      "   6.27537072e-03  9.32303630e-03 -9.90922563e-05 -4.41761948e-02\n",
      "  -1.84213114e-03  1.40413549e-03  2.15998348e-02 -2.28936467e-02\n",
      "   2.15436034e-02  1.47567259e-03 -2.37977225e-03  3.09135485e-02\n",
      "  -2.95634810e-02 -3.57985729e-04  7.89433625e-03  9.41269472e-03\n",
      "   1.00133400e-02 -1.25854621e-02 -3.22470553e-02 -4.83998796e-03\n",
      "  -6.13510236e-03 -1.19530940e-02 -1.02357008e-03  4.24629776e-03\n",
      "   8.32740217e-03 -1.37654636e-02 -1.18102366e-02  1.78494044e-02\n",
      "   1.48098804e-02 -3.83897289e-03 -1.11196712e-02 -1.75460451e-03\n",
      "   3.14641781e-02  5.82706882e-03 -6.79812767e-03 -6.56345068e-03\n",
      "   5.03027625e-03 -6.39049616e-03 -8.72370973e-03 -8.72219354e-03\n",
      "  -1.78664625e-02 -5.24556777e-03 -8.59162770e-04 -1.17084635e-02\n",
      "   3.39793041e-02  1.28804650e-02  2.16257032e-02  1.78387314e-02\n",
      "  -1.68525390e-02  1.97139271e-02 -2.77683581e-03  1.92710906e-02\n",
      "  -3.56049202e-02 -1.06169749e-03  1.31539181e-02  3.22580561e-02\n",
      "   1.08427322e-02 -2.47543007e-02  2.32367180e-02  1.33101605e-02\n",
      "   1.28999623e-02  1.29733002e-02  1.34719154e-02 -2.84762755e-02\n",
      "  -2.27134656e-02 -2.78491266e-02 -1.86904036e-02  3.23066711e-02\n",
      "   3.48923262e-04 -2.51075197e-02  2.28588022e-02 -8.11692607e-03\n",
      "  -6.70155138e-03 -2.32403409e-02  4.29681502e-04  5.35042351e-03\n",
      "   2.34276988e-02  1.54804448e-02  4.11930196e-02 -3.29890079e-03\n",
      "   7.29338592e-03  2.44301418e-03  2.20822319e-02  8.39668047e-03]\n",
      " [-1.08895916e-02  1.42451562e-03 -8.43349099e-03 -9.60009731e-03\n",
      "   8.16439930e-03 -1.17890825e-02 -9.35021788e-04  1.37719978e-02\n",
      "   1.33694187e-02 -1.40004382e-02  1.61256082e-02 -3.21008405e-03\n",
      "   4.10600146e-03  5.15724998e-04  5.64778782e-03  7.05310702e-03\n",
      "   8.49985424e-03 -7.39808660e-04 -1.20547973e-03 -1.79831916e-03\n",
      "  -4.28821845e-03 -9.49048344e-03  8.35041702e-03  2.43646465e-03\n",
      "  -9.68926214e-03 -5.55957668e-03  6.67489320e-03  3.40148201e-03\n",
      "   8.47329386e-03 -8.47017765e-03 -2.38540443e-03  2.06080056e-03\n",
      "   2.10186420e-03 -3.97627335e-03  4.73744702e-03  2.81252200e-03\n",
      "   1.02137001e-02 -1.41385160e-02 -1.71005558e-02  1.10876309e-02\n",
      "   3.34151648e-03  1.06914006e-02 -3.48093081e-03 -1.14837533e-03\n",
      "   8.94999970e-03 -2.39377446e-03  2.90853670e-03  3.66743910e-03\n",
      "  -9.73333605e-03 -2.05449481e-03  8.19872040e-03  1.71892182e-03\n",
      "  -6.74492819e-03 -1.49163790e-03  4.98996582e-04  3.42526287e-03\n",
      "   9.97181889e-03  1.76004460e-03  1.30748581e-02 -4.10725363e-04\n",
      "  -5.59052965e-03  8.21458176e-04  1.40974075e-02  4.67478763e-03\n",
      "  -5.59081370e-03 -4.48730402e-03 -1.13909680e-03  8.95267166e-03\n",
      "   4.66858596e-03 -1.66879240e-02  1.53729990e-02 -1.33292619e-02\n",
      "   5.01846243e-03  1.94838867e-02 -6.00989442e-03 -1.41253211e-02\n",
      "   8.70843884e-04 -1.92964170e-03 -1.40388664e-02  1.33464835e-03\n",
      "  -1.19698402e-02  1.49033293e-02  1.21396556e-02  3.45856254e-03\n",
      "   6.42500073e-03  7.08412891e-03  1.42441336e-02  9.57609899e-03\n",
      "   3.29447375e-03 -3.02451057e-03 -2.62775691e-03  5.32930112e-03\n",
      "  -8.27648118e-03  6.31151721e-03  1.80026703e-02  8.93781148e-03\n",
      "  -3.08392569e-03 -1.09348595e-02 -2.88082380e-03 -1.35789812e-03]]\n"
     ]
    }
   ],
   "source": [
    "X_train = np.array(train_data['textvector'].tolist())\n",
    "Y_train = np.array(train_data['grade'])\n",
    "\n",
    "X_test = np.array(test_data['textvector'].tolist())\n",
    "Y_test = np.array(test_data['grade'])\n",
    "print(X_test)"
   ]
  },
  {
   "cell_type": "markdown",
   "id": "73b1a014",
   "metadata": {},
   "source": [
    "# build Models "
   ]
  },
  {
   "cell_type": "code",
   "execution_count": 19,
   "id": "493a5eba",
   "metadata": {},
   "outputs": [],
   "source": [
    "def getModel(name):\n",
    "    if name == 'svm_linear':\n",
    "        model_svm_linear = SVC(kernel='linear' ,probability=True)\n",
    "        model_svm_linear.fit(X_train, Y_train)\n",
    "        return model_svm_linear\n",
    "    elif name == 'svm_rbf':\n",
    "        model_svm_rbf = SVC(kernel='rbf' , probability=True)\n",
    "        model_svm_rbf.fit(X_train, Y_train)\n",
    "        return model_svm_rbf\n",
    "    elif name == 'random_forest':\n",
    "        model_rf = RandomForestClassifier(n_estimators=100, random_state=42)\n",
    "        model_rf.fit(X_train, Y_train)\n",
    "        return model_rf\n",
    "    elif name == 'knn':\n",
    "        model_knn = KNeighborsClassifier(n_neighbors=3)\n",
    "        model_knn.fit(X_train, Y_train)\n",
    "        return model_knn\n",
    "    elif name == 'naive_bayes':\n",
    "        model_nb = GaussianNB()\n",
    "        model_nb.fit(X_train, Y_train)\n",
    "        return model_nb\n",
    "    elif name == 'bagging':\n",
    "        # Créer le modèle de base\n",
    "        base_model = KNeighborsClassifier(n_neighbors=3)\n",
    "        model_bagging = BaggingClassifier(base_estimator=base_model, n_estimators=10, random_state=42)\n",
    "        # Entraîner le modèle Bagging\n",
    "        model_bagging.fit(X_train, Y_train)\n",
    "        return model_bagging\n",
    "    elif name == 'ann':\n",
    "        # MLP: création + entrainement\n",
    "        model_ANN = MLPClassifier(hidden_layer_sizes=(15, 10), random_state=1, max_iter=800)\n",
    "        model_ANN.fit(X_train , Y_train)\n",
    "        return model_ANN\n",
    "    else:\n",
    "        raise ValueError(\"Invalid model name. Please choose from 'svm', 'random_forest', 'knn', or 'naive_bayes'.\")\n"
   ]
  },
  {
   "cell_type": "code",
   "execution_count": 20,
   "id": "d97c45d3",
   "metadata": {},
   "outputs": [],
   "source": [
    "# construire le model \n",
    "model_svm_lin = getModel('svm_linear')\n",
    "# predire les donnees de Test\n",
    "Y_pred_svm_lin = model_svm_lin.predict_proba(X_test)"
   ]
  },
  {
   "cell_type": "code",
   "execution_count": 21,
   "id": "4a1301e8",
   "metadata": {},
   "outputs": [],
   "source": [
    "# construire le model \n",
    "model_svm_rbf = getModel('svm_rbf')\n",
    "# predire les donnees de Test\n",
    "Y_pred_svm_rbf = model_svm_rbf.predict_proba(X_test)"
   ]
  },
  {
   "cell_type": "code",
   "execution_count": 22,
   "id": "d5cc9432",
   "metadata": {},
   "outputs": [],
   "source": [
    "# construire le model \n",
    "model_rf = getModel('random_forest')\n",
    "# predire les donnees de Test\n",
    "Y_pred_rf = model_rf.predict_proba(X_test)"
   ]
  },
  {
   "cell_type": "code",
   "execution_count": 23,
   "id": "adade476",
   "metadata": {},
   "outputs": [],
   "source": [
    "# construire le model \n",
    "model_knn = getModel('knn')\n",
    "# predire les donnees de Test\n",
    "Y_pred_knn = model_knn.predict_proba(X_test)"
   ]
  },
  {
   "cell_type": "code",
   "execution_count": 24,
   "id": "5ac8af74",
   "metadata": {},
   "outputs": [],
   "source": [
    "# construire le model \n",
    "model_nb = getModel('naive_bayes')\n",
    "# predire les donnees de Test\n",
    "Y_pred_nb = model_nb.predict_proba(X_test)"
   ]
  },
  {
   "cell_type": "code",
   "execution_count": 25,
   "id": "27d00b84",
   "metadata": {},
   "outputs": [],
   "source": [
    "# construire le model \n",
    "model_ann = getModel(\"ann\")\n",
    "# predire les donnees de Test\n",
    "Y_pred_ann = model_ann.predict_proba(X_test)"
   ]
  },
  {
   "cell_type": "code",
   "execution_count": 26,
   "id": "09fb9c0f",
   "metadata": {},
   "outputs": [],
   "source": [
    "# construire le model \n",
    "model_bagging  = getModel('bagging')\n",
    "# predire les donnees de Test\n",
    "Y_pred_bagging = model_bagging.predict_proba(X_test)"
   ]
  },
  {
   "cell_type": "markdown",
   "id": "ca6aea06",
   "metadata": {},
   "source": [
    "# Models Evaluation"
   ]
  },
  {
   "cell_type": "code",
   "execution_count": 27,
   "id": "be63a662",
   "metadata": {},
   "outputs": [],
   "source": [
    "models = [\n",
    "  getModel('svm_linear'),\n",
    "  getModel('svm_rbf'),\n",
    "  getModel('random_forest'),\n",
    "  getModel('knn'),\n",
    "  getModel('naive_bayes'),\n",
    "  getModel(\"ann\"),\n",
    "  getModel('bagging')\n",
    "]\n",
    "models_names = [\n",
    "    'SVM Linear',\n",
    "    'SVM RBF',\n",
    "    'Random Forest',\n",
    "    'KNN',\n",
    "    'Naive Bayes',\n",
    "    'ANN',\n",
    "    'Ensemble Learning (Bagging)'\n",
    "]\n",
    "predicted_Xtest_proba = [\n",
    "    Y_pred_svm_lin,\n",
    "    Y_pred_svm_rbf,\n",
    "    Y_pred_rf,\n",
    "    Y_pred_knn,\n",
    "    Y_pred_nb,\n",
    "    Y_pred_ann,\n",
    "    Y_pred_bagging\n",
    "]"
   ]
  },
  {
   "cell_type": "code",
   "execution_count": 28,
   "id": "957cde67",
   "metadata": {},
   "outputs": [],
   "source": [
    "def getAccuracy(models):\n",
    "  accuracies = []\n",
    "  for model in models:\n",
    "    Y_Test_predi = model.predict(X_test)\n",
    "    accuracy = accuracy_score(Y_test, Y_Test_predi)\n",
    "    accuracies.append(accuracy)\n",
    "\n",
    "  return accuracies"
   ]
  },
  {
   "cell_type": "code",
   "execution_count": 29,
   "id": "1933e833",
   "metadata": {
    "scrolled": true
   },
   "outputs": [
    {
     "name": "stdout",
     "output_type": "stream",
     "text": [
      "accuracy SVM Linear :  0.3\n",
      "accuracy SVM RBF :  0.7\n",
      "accuracy Random Forest :  0.6\n",
      "accuracy KNN :  0.7\n",
      "accuracy Naive Bayes :  0.5\n",
      "accuracy ANN :  0.9\n",
      "accuracy Ensemble Learning (Bagging) :  0.6\n"
     ]
    }
   ],
   "source": [
    "accuracies = getAccuracy(models)\n",
    "i=0\n",
    "for model in models_names:\n",
    "    print(f\"accuracy {model} :  {accuracies[i]}\")\n",
    "    i += 1"
   ]
  },
  {
   "cell_type": "code",
   "execution_count": 30,
   "id": "05218892",
   "metadata": {},
   "outputs": [
    {
     "name": "stdout",
     "output_type": "stream",
     "text": [
      "SVM Linear  Aire sous la courbe ROC: 0.7857142857142857\n",
      "SVM RBF  Aire sous la courbe ROC: 0.8591269841269842\n",
      "Random Forest  Aire sous la courbe ROC: 0.876984126984127\n",
      "KNN  Aire sous la courbe ROC: 0.9295634920634921\n",
      "Naive Bayes  Aire sous la courbe ROC: 0.8432539682539684\n",
      "ANN  Aire sous la courbe ROC: 1.0\n",
      "Ensemble Learning (Bagging)  Aire sous la courbe ROC: 0.8968253968253969\n"
     ]
    }
   ],
   "source": [
    "i=0\n",
    "for  Y_test_pred_prob in predicted_Xtest_proba:\n",
    "#     Y_test_pred = Y_test_pred.reshape(-1, 1)\n",
    "    auc_roc = roc_auc_score(Y_test, Y_test_pred_prob , multi_class='ovr')\n",
    "    print(f\"{models_names[i]}  Aire sous la courbe ROC:\", auc_roc)\n",
    "    i += 1"
   ]
  },
  {
   "cell_type": "markdown",
   "id": "f7b3ff11",
   "metadata": {},
   "source": [
    "# the best Model"
   ]
  },
  {
   "cell_type": "code",
   "execution_count": 31,
   "id": "ca0db268",
   "metadata": {},
   "outputs": [],
   "source": [
    "max_index = np.argmax(accuracies)\n",
    "best_model = models[max_index]"
   ]
  },
  {
   "cell_type": "code",
   "execution_count": 32,
   "id": "7684801a",
   "metadata": {},
   "outputs": [
    {
     "data": {
      "text/html": [
       "<div>\n",
       "<style scoped>\n",
       "    .dataframe tbody tr th:only-of-type {\n",
       "        vertical-align: middle;\n",
       "    }\n",
       "\n",
       "    .dataframe tbody tr th {\n",
       "        vertical-align: top;\n",
       "    }\n",
       "\n",
       "    .dataframe thead th {\n",
       "        text-align: right;\n",
       "    }\n",
       "</style>\n",
       "<table border=\"1\" class=\"dataframe\">\n",
       "  <thead>\n",
       "    <tr style=\"text-align: right;\">\n",
       "      <th></th>\n",
       "      <th>Real</th>\n",
       "      <th>Predicted</th>\n",
       "    </tr>\n",
       "  </thead>\n",
       "  <tbody>\n",
       "    <tr>\n",
       "      <th>0</th>\n",
       "      <td>2</td>\n",
       "      <td>2</td>\n",
       "    </tr>\n",
       "    <tr>\n",
       "      <th>1</th>\n",
       "      <td>0</td>\n",
       "      <td>0</td>\n",
       "    </tr>\n",
       "    <tr>\n",
       "      <th>2</th>\n",
       "      <td>2</td>\n",
       "      <td>2</td>\n",
       "    </tr>\n",
       "    <tr>\n",
       "      <th>3</th>\n",
       "      <td>0</td>\n",
       "      <td>0</td>\n",
       "    </tr>\n",
       "    <tr>\n",
       "      <th>4</th>\n",
       "      <td>0</td>\n",
       "      <td>0</td>\n",
       "    </tr>\n",
       "    <tr>\n",
       "      <th>5</th>\n",
       "      <td>1</td>\n",
       "      <td>0</td>\n",
       "    </tr>\n",
       "    <tr>\n",
       "      <th>6</th>\n",
       "      <td>0</td>\n",
       "      <td>0</td>\n",
       "    </tr>\n",
       "    <tr>\n",
       "      <th>7</th>\n",
       "      <td>2</td>\n",
       "      <td>2</td>\n",
       "    </tr>\n",
       "    <tr>\n",
       "      <th>8</th>\n",
       "      <td>1</td>\n",
       "      <td>1</td>\n",
       "    </tr>\n",
       "    <tr>\n",
       "      <th>9</th>\n",
       "      <td>1</td>\n",
       "      <td>1</td>\n",
       "    </tr>\n",
       "  </tbody>\n",
       "</table>\n",
       "</div>"
      ],
      "text/plain": [
       "   Real   Predicted\n",
       "0      2          2\n",
       "1      0          0\n",
       "2      2          2\n",
       "3      0          0\n",
       "4      0          0\n",
       "5      1          0\n",
       "6      0          0\n",
       "7      2          2\n",
       "8      1          1\n",
       "9      1          1"
      ]
     },
     "execution_count": 32,
     "metadata": {},
     "output_type": "execute_result"
    }
   ],
   "source": [
    "pd.DataFrame({\"Real \": Y_test , \"Predicted\" : best_model.predict(X_test)})"
   ]
  },
  {
   "cell_type": "markdown",
   "id": "cc97ec21",
   "metadata": {},
   "source": [
    "# saving the best model"
   ]
  },
  {
   "cell_type": "code",
   "execution_count": 64,
   "id": "ff343d9f",
   "metadata": {},
   "outputs": [],
   "source": [
    "model_path = '../saved_models/model_question6.h5'\n",
    "with open(model_path, 'wb') as file:\n",
    "    pickle.dump((best_model, model_word2vec), file)"
   ]
  },
  {
   "cell_type": "markdown",
   "id": "89f382c5",
   "metadata": {},
   "source": [
    "# Test Model"
   ]
  },
  {
   "cell_type": "code",
   "execution_count": null,
   "id": "ce5db3ae",
   "metadata": {},
   "outputs": [],
   "source": [
    "i=1\n",
    "while True:\n",
    "    print(\"--------------  Testing  ---------------\")\n",
    "    \n",
    "    answer = input('الاجابه: ')\n",
    "    process = txt_preprocess(answer)\n",
    "    txt = get_word_vector(process, model_word2vec)\n",
    "    txt = txt.reshape(1, -1)\n",
    "    predicted_ques = best_model.predict(txt)[0]\n",
    "    print(f'Grade of Answer Is : {predicted_ques}')\n",
    "    \n",
    "    exit = int(input(\"Enter Zero To Exit From System  OR One To Run The Program : \\n\"))\n",
    "    if exit == 0:\n",
    "        print('Exit From System...','Thank You')\n",
    "        break\n",
    "    else:\n",
    "        continue   \n",
    "        print('\\n')"
   ]
  },
  {
   "cell_type": "code",
   "execution_count": null,
   "id": "4247c261",
   "metadata": {},
   "outputs": [],
   "source": []
  },
  {
   "cell_type": "code",
   "execution_count": null,
   "id": "96af8809",
   "metadata": {},
   "outputs": [],
   "source": []
  }
 ],
 "metadata": {
  "kernelspec": {
   "display_name": "Python 3 (ipykernel)",
   "language": "python",
   "name": "python3"
  },
  "language_info": {
   "codemirror_mode": {
    "name": "ipython",
    "version": 3
   },
   "file_extension": ".py",
   "mimetype": "text/x-python",
   "name": "python",
   "nbconvert_exporter": "python",
   "pygments_lexer": "ipython3",
   "version": "3.10.5"
  }
 },
 "nbformat": 4,
 "nbformat_minor": 5
}
