{
 "cells": [
  {
   "cell_type": "markdown",
   "id": "64c9d6bc",
   "metadata": {},
   "source": [
    "# Import Libraries"
   ]
  },
  {
   "cell_type": "code",
   "execution_count": 252,
   "id": "97bccc4f",
   "metadata": {},
   "outputs": [],
   "source": [
    "import pandas as pd\n",
    "import numpy as np\n",
    "import matplotlib.pyplot as plt\n",
    "import seaborn as sns\n",
    "import string \n",
    "from nltk.corpus import stopwords\n",
    "from nltk.stem.isri import ISRIStemmer\n",
    "from sklearn.model_selection import train_test_split\n",
    "import tensorflow as tf \n",
    "from keras.preprocessing.text import Tokenizer\n",
    "from tensorflow.keras.preprocessing.sequence import pad_sequences\n",
    "from keras.models import Sequential\n",
    "from keras.layers import Embedding, LSTM, Dense, Dropout\n",
    "from sklearn.model_selection import cross_val_score\n",
    "from sklearn.metrics import accuracy_score\n",
    "from sklearn.metrics import roc_auc_score\n",
    "\n",
    "# from keras.models import Sequential\n",
    "from sklearn.svm import SVC\n",
    "from sklearn.ensemble import RandomForestClassifier\n",
    "from sklearn.neighbors import KNeighborsClassifier\n",
    "from sklearn.naive_bayes import GaussianNB\n",
    "from sklearn.ensemble import BaggingClassifier\n",
    "from sklearn.neural_network import MLPClassifier\n",
    "\n",
    "\n",
    "import nltk\n",
    "from nltk.tokenize import word_tokenize\n",
    "from gensim.models import Word2Vec\n",
    "import pickle "
   ]
  },
  {
   "cell_type": "code",
   "execution_count": 253,
   "id": "aecb379d",
   "metadata": {},
   "outputs": [],
   "source": [
    "import warnings\n",
    "warnings.filterwarnings('ignore')# Load Data"
   ]
  },
  {
   "cell_type": "markdown",
   "id": "628afadc",
   "metadata": {},
   "source": [
    "# Load Data"
   ]
  },
  {
   "cell_type": "code",
   "execution_count": 254,
   "id": "fda6a507",
   "metadata": {},
   "outputs": [
    {
     "data": {
      "text/html": [
       "<div>\n",
       "<style scoped>\n",
       "    .dataframe tbody tr th:only-of-type {\n",
       "        vertical-align: middle;\n",
       "    }\n",
       "\n",
       "    .dataframe tbody tr th {\n",
       "        vertical-align: top;\n",
       "    }\n",
       "\n",
       "    .dataframe thead th {\n",
       "        text-align: right;\n",
       "    }\n",
       "</style>\n",
       "<table border=\"1\" class=\"dataframe\">\n",
       "  <thead>\n",
       "    <tr style=\"text-align: right;\">\n",
       "      <th></th>\n",
       "      <th>question_id</th>\n",
       "      <th>answer</th>\n",
       "      <th>grade</th>\n",
       "    </tr>\n",
       "  </thead>\n",
       "  <tbody>\n",
       "    <tr>\n",
       "      <th>0</th>\n",
       "      <td>5</td>\n",
       "      <td>الموحدون سلالة حكمت المغرب بعد المرابطين ويعتق...</td>\n",
       "      <td>2</td>\n",
       "    </tr>\n",
       "    <tr>\n",
       "      <th>1</th>\n",
       "      <td>5</td>\n",
       "      <td>اصلهم من تافيلالت</td>\n",
       "      <td>0</td>\n",
       "    </tr>\n",
       "    <tr>\n",
       "      <th>2</th>\n",
       "      <td>5</td>\n",
       "      <td>حركة تحت على الجهاد ضد الحكام الضالمين و التحر...</td>\n",
       "      <td>2</td>\n",
       "    </tr>\n",
       "  </tbody>\n",
       "</table>\n",
       "</div>"
      ],
      "text/plain": [
       "   question_id                                             answer  grade\n",
       "0            5  الموحدون سلالة حكمت المغرب بعد المرابطين ويعتق...      2\n",
       "1            5                                  اصلهم من تافيلالت      0\n",
       "2            5  حركة تحت على الجهاد ضد الحكام الضالمين و التحر...      2"
      ]
     },
     "execution_count": 254,
     "metadata": {},
     "output_type": "execute_result"
    }
   ],
   "source": [
    "# read csv file into pandas\n",
    "df = pd.read_csv(\"../datasets/question5.csv\")\n",
    "df.head(3)"
   ]
  },
  {
   "cell_type": "markdown",
   "id": "4ef5a83d",
   "metadata": {},
   "source": [
    "# EDA"
   ]
  },
  {
   "cell_type": "code",
   "execution_count": 255,
   "id": "f1218d9e",
   "metadata": {},
   "outputs": [
    {
     "name": "stdout",
     "output_type": "stream",
     "text": [
      "<class 'pandas.core.frame.DataFrame'>\n",
      "RangeIndex: 134 entries, 0 to 133\n",
      "Data columns (total 3 columns):\n",
      " #   Column       Non-Null Count  Dtype \n",
      "---  ------       --------------  ----- \n",
      " 0   question_id  134 non-null    int64 \n",
      " 1   answer       134 non-null    object\n",
      " 2   grade        134 non-null    int64 \n",
      "dtypes: int64(2), object(1)\n",
      "memory usage: 3.3+ KB\n"
     ]
    }
   ],
   "source": [
    "df.info()"
   ]
  },
  {
   "cell_type": "code",
   "execution_count": 256,
   "id": "56f232f6",
   "metadata": {},
   "outputs": [
    {
     "data": {
      "text/plain": [
       "grade\n",
       "0    43\n",
       "1    39\n",
       "2    52\n",
       "dtype: int64"
      ]
     },
     "execution_count": 256,
     "metadata": {},
     "output_type": "execute_result"
    }
   ],
   "source": [
    "df.groupby('grade').size()"
   ]
  },
  {
   "cell_type": "code",
   "execution_count": 257,
   "id": "1cc13d23",
   "metadata": {},
   "outputs": [
    {
     "data": {
      "text/plain": [
       "5"
      ]
     },
     "execution_count": 257,
     "metadata": {},
     "output_type": "execute_result"
    }
   ],
   "source": [
    "df.duplicated().sum()"
   ]
  },
  {
   "cell_type": "code",
   "execution_count": 258,
   "id": "d72e7d91",
   "metadata": {},
   "outputs": [
    {
     "data": {
      "image/png": "[encoded data removed]",
      "text/plain": [
       "<Figure size 1000x600 with 1 Axes>"
      ]
     },
     "metadata": {},
     "output_type": "display_data"
    }
   ],
   "source": [
    "plt.figure(figsize=(10, 6))\n",
    "sns.countplot(data=df, x='grade')\n",
    "plt.show()# Data Cleaning"
   ]
  },
  {
   "cell_type": "markdown",
   "id": "0d1a5378",
   "metadata": {},
   "source": [
    "# Data Cleaning"
   ]
  },
  {
   "cell_type": "code",
   "execution_count": 259,
   "id": "1966e7f3",
   "metadata": {},
   "outputs": [],
   "source": [
    "df.drop('question_id', axis=1, inplace=True)"
   ]
  },
  {
   "cell_type": "code",
   "execution_count": 260,
   "id": "c5ff0a3f",
   "metadata": {},
   "outputs": [],
   "source": [
    "df.dropna(inplace=True)"
   ]
  },
  {
   "cell_type": "code",
   "execution_count": 261,
   "id": "5152c480",
   "metadata": {},
   "outputs": [],
   "source": [
    "df.drop_duplicates(inplace=True)"
   ]
  },
  {
   "cell_type": "markdown",
   "id": "e7f7d44b",
   "metadata": {},
   "source": [
    "# Data Pre-Preocessing"
   ]
  },
  {
   "cell_type": "code",
   "execution_count": 262,
   "id": "c16a96b3",
   "metadata": {},
   "outputs": [],
   "source": [
    "def txt_preprocess(text):\n",
    "    text = text.lower()\n",
    "    tokens = word_tokenize(text)\n",
    "    #tokens = [token for token in tokens if token.isalpha() and token not in stop_words]\n",
    "    return tokens"
   ]
  },
  {
   "cell_type": "code",
   "execution_count": 263,
   "id": "82264de2",
   "metadata": {},
   "outputs": [],
   "source": [
    "df['tokens'] = df['answer'].apply(txt_preprocess)"
   ]
  },
  {
   "cell_type": "markdown",
   "id": "fd7e1786",
   "metadata": {},
   "source": [
    "# Text Representation"
   ]
  },
  {
   "cell_type": "code",
   "execution_count": 264,
   "id": "5e01c773",
   "metadata": {},
   "outputs": [],
   "source": [
    "model_word2vec = Word2Vec(df['tokens'], vector_size=100, window=15, min_count=1, workers=4)"
   ]
  },
  {
   "cell_type": "code",
   "execution_count": 265,
   "id": "d8d07170",
   "metadata": {},
   "outputs": [],
   "source": [
    "def get_word_vector(tokens, model_word2vec):\n",
    "    textvector = np.zeros((100,), dtype='float32')\n",
    "    for token in tokens:\n",
    "        try:\n",
    "            textvector += model_word2vec.wv[token]\n",
    "        except KeyError:\n",
    "            continue\n",
    "    return textvector\n",
    "\n",
    "\n",
    "df['textvector'] = df['tokens'].apply(lambda x: get_word_vector(x, model_word2vec))"
   ]
  },
  {
   "cell_type": "code",
   "execution_count": 266,
   "id": "d6ab2036",
   "metadata": {},
   "outputs": [
    {
     "data": {
      "text/html": [
       "<div>\n",
       "<style scoped>\n",
       "    .dataframe tbody tr th:only-of-type {\n",
       "        vertical-align: middle;\n",
       "    }\n",
       "\n",
       "    .dataframe tbody tr th {\n",
       "        vertical-align: top;\n",
       "    }\n",
       "\n",
       "    .dataframe thead th {\n",
       "        text-align: right;\n",
       "    }\n",
       "</style>\n",
       "<table border=\"1\" class=\"dataframe\">\n",
       "  <thead>\n",
       "    <tr style=\"text-align: right;\">\n",
       "      <th></th>\n",
       "      <th>answer</th>\n",
       "      <th>grade</th>\n",
       "      <th>tokens</th>\n",
       "      <th>textvector</th>\n",
       "    </tr>\n",
       "  </thead>\n",
       "  <tbody>\n",
       "    <tr>\n",
       "      <th>0</th>\n",
       "      <td>الموحدون سلالة حكمت المغرب بعد المرابطين ويعتق...</td>\n",
       "      <td>2</td>\n",
       "      <td>[الموحدون, سلالة, حكمت, المغرب, بعد, المرابطين...</td>\n",
       "      <td>[-0.06976891, 0.002785156, -0.051945962, -0.01...</td>\n",
       "    </tr>\n",
       "    <tr>\n",
       "      <th>1</th>\n",
       "      <td>اصلهم من تافيلالت</td>\n",
       "      <td>0</td>\n",
       "      <td>[اصلهم, من, تافيلالت]</td>\n",
       "      <td>[-0.023190495, 0.029899312, -0.008531466, -0.0...</td>\n",
       "    </tr>\n",
       "    <tr>\n",
       "      <th>2</th>\n",
       "      <td>حركة تحت على الجهاد ضد الحكام الضالمين و التحر...</td>\n",
       "      <td>2</td>\n",
       "      <td>[حركة, تحت, على, الجهاد, ضد, الحكام, الضالمين,...</td>\n",
       "      <td>[-0.047242764, 0.022481509, -0.020809293, 0.00...</td>\n",
       "    </tr>\n",
       "    <tr>\n",
       "      <th>3</th>\n",
       "      <td>الموحدون المغاربة هم حركة سياسية نشأت في المغر...</td>\n",
       "      <td>0</td>\n",
       "      <td>[الموحدون, المغاربة, هم, حركة, سياسية, نشأت, ف...</td>\n",
       "      <td>[-0.016763823, 0.034114722, -0.018048776, 0.02...</td>\n",
       "    </tr>\n",
       "    <tr>\n",
       "      <th>4</th>\n",
       "      <td>حكمت سلالة الموحدون الأمازيغية البربرية في شما...</td>\n",
       "      <td>2</td>\n",
       "      <td>[حكمت, سلالة, الموحدون, الأمازيغية, البربرية, ...</td>\n",
       "      <td>[-0.0035503684, 0.03011814, 0.0046652686, 0.03...</td>\n",
       "    </tr>\n",
       "  </tbody>\n",
       "</table>\n",
       "</div>"
      ],
      "text/plain": [
       "                                              answer  grade  \\\n",
       "0  الموحدون سلالة حكمت المغرب بعد المرابطين ويعتق...      2   \n",
       "1                                  اصلهم من تافيلالت      0   \n",
       "2  حركة تحت على الجهاد ضد الحكام الضالمين و التحر...      2   \n",
       "3  الموحدون المغاربة هم حركة سياسية نشأت في المغر...      0   \n",
       "4  حكمت سلالة الموحدون الأمازيغية البربرية في شما...      2   \n",
       "\n",
       "                                              tokens  \\\n",
       "0  [الموحدون, سلالة, حكمت, المغرب, بعد, المرابطين...   \n",
       "1                              [اصلهم, من, تافيلالت]   \n",
       "2  [حركة, تحت, على, الجهاد, ضد, الحكام, الضالمين,...   \n",
       "3  [الموحدون, المغاربة, هم, حركة, سياسية, نشأت, ف...   \n",
       "4  [حكمت, سلالة, الموحدون, الأمازيغية, البربرية, ...   \n",
       "\n",
       "                                          textvector  \n",
       "0  [-0.06976891, 0.002785156, -0.051945962, -0.01...  \n",
       "1  [-0.023190495, 0.029899312, -0.008531466, -0.0...  \n",
       "2  [-0.047242764, 0.022481509, -0.020809293, 0.00...  \n",
       "3  [-0.016763823, 0.034114722, -0.018048776, 0.02...  \n",
       "4  [-0.0035503684, 0.03011814, 0.0046652686, 0.03...  "
      ]
     },
     "execution_count": 266,
     "metadata": {},
     "output_type": "execute_result"
    }
   ],
   "source": [
    "df.head()"
   ]
  },
  {
   "cell_type": "markdown",
   "id": "87068019",
   "metadata": {},
   "source": [
    "# split the data"
   ]
  },
  {
   "cell_type": "code",
   "execution_count": 267,
   "id": "8a2e81e4",
   "metadata": {},
   "outputs": [],
   "source": [
    "train_data = df.sample(frac=0.85, random_state=42)\n",
    "test_data = df.drop(train_data.index)"
   ]
  },
  {
   "cell_type": "code",
   "execution_count": 268,
   "id": "f5f7b9a0",
   "metadata": {},
   "outputs": [
    {
     "name": "stdout",
     "output_type": "stream",
     "text": [
      "[[-4.72427644e-02  2.24815086e-02 -2.08092928e-02 ... -3.47593278e-02\n",
      "  -3.02105537e-03 -3.08350194e-04]\n",
      " [-2.50880122e-02  6.31795004e-02  1.98616609e-02 ... -5.35540618e-02\n",
      "   8.04384146e-03 -2.70912424e-05]\n",
      " [-2.66093984e-02  5.14525063e-02  4.32603620e-03 ... -7.27294311e-02\n",
      "   1.32054491e-02  1.76451076e-03]\n",
      " ...\n",
      " [-2.86212713e-02  7.09957108e-02  2.52510589e-02 ... -8.32557976e-02\n",
      "   1.88412890e-02 -1.26795294e-02]\n",
      " [-2.13427916e-02  4.73470651e-02 -4.42620888e-02 ... -2.48031951e-02\n",
      "   1.19238785e-02  3.60614210e-02]\n",
      " [-1.14413975e-02  1.63379796e-02 -5.63307200e-03 ... -3.35679241e-02\n",
      "  -7.39462767e-03 -2.80180085e-03]]\n"
     ]
    }
   ],
   "source": [
    "X_train = np.array(train_data['textvector'].tolist())\n",
    "Y_train = np.array(train_data['grade'])\n",
    "\n",
    "X_test = np.array(test_data['textvector'].tolist())\n",
    "Y_test = np.array(test_data['grade'])\n",
    "print(X_test)"
   ]
  },
  {
   "cell_type": "markdown",
   "id": "86755220",
   "metadata": {},
   "source": [
    "# build Models "
   ]
  },
  {
   "cell_type": "code",
   "execution_count": 269,
   "id": "2295f14f",
   "metadata": {},
   "outputs": [],
   "source": [
    "def getModel(name):\n",
    "    if name == 'svm_linear':\n",
    "        model_svm_linear = SVC(kernel='linear' ,probability=True)\n",
    "        model_svm_linear.fit(X_train, Y_train)\n",
    "        return model_svm_linear\n",
    "    elif name == 'svm_rbf':\n",
    "        model_svm_rbf = SVC(kernel='rbf' , probability=True)\n",
    "        model_svm_rbf.fit(X_train, Y_train)\n",
    "        return model_svm_rbf\n",
    "    elif name == 'random_forest':\n",
    "        model_rf = RandomForestClassifier(n_estimators=100, random_state=42)\n",
    "        model_rf.fit(X_train, Y_train)\n",
    "        return model_rf\n",
    "    elif name == 'knn':\n",
    "        model_knn = KNeighborsClassifier(n_neighbors=3)\n",
    "        model_knn.fit(X_train, Y_train)\n",
    "        return model_knn\n",
    "    elif name == 'naive_bayes':\n",
    "        model_nb = GaussianNB()\n",
    "        model_nb.fit(X_train, Y_train)\n",
    "        return model_nb\n",
    "    elif name == 'bagging':\n",
    "        # Créer le modèle de base\n",
    "        base_model = KNeighborsClassifier(n_neighbors=3)\n",
    "        model_bagging = BaggingClassifier(base_estimator=base_model, n_estimators=10, random_state=42)\n",
    "        # Entraîner le modèle Bagging\n",
    "        model_bagging.fit(X_train, Y_train)\n",
    "        return model_bagging\n",
    "    elif name == 'ann':\n",
    "        # MLP: création + entrainement\n",
    "        model_ANN = MLPClassifier(hidden_layer_sizes=(15, 10), random_state=1, max_iter=800)\n",
    "        model_ANN.fit(X_train , Y_train)\n",
    "        return model_ANN\n",
    "    else:\n",
    "        raise ValueError(\"Invalid model name. Please choose from 'svm', 'random_forest', 'knn', or 'naive_bayes'.\")\n"
   ]
  },
  {
   "cell_type": "code",
   "execution_count": 270,
   "id": "6e744ceb",
   "metadata": {},
   "outputs": [],
   "source": [
    "# construire le model \n",
    "model_svm_lin = getModel('svm_linear')\n",
    "# predire les donnees de Test\n",
    "Y_pred_svm_lin = model_svm_lin.predict_proba(X_test)"
   ]
  },
  {
   "cell_type": "code",
   "execution_count": 271,
   "id": "cd2e4d43",
   "metadata": {},
   "outputs": [],
   "source": [
    "# construire le model \n",
    "model_svm_rbf = getModel('svm_rbf')\n",
    "# predire les donnees de Test\n",
    "Y_pred_svm_rbf = model_svm_rbf.predict_proba(X_test)"
   ]
  },
  {
   "cell_type": "code",
   "execution_count": 272,
   "id": "7b730ae6",
   "metadata": {},
   "outputs": [],
   "source": [
    "# construire le model \n",
    "model_rf = getModel('random_forest')\n",
    "# predire les donnees de Test\n",
    "Y_pred_rf = model_rf.predict_proba(X_test)"
   ]
  },
  {
   "cell_type": "code",
   "execution_count": 273,
   "id": "53e1ac7f",
   "metadata": {},
   "outputs": [],
   "source": [
    "# construire le model \n",
    "model_knn = getModel('knn')\n",
    "# predire les donnees de Test\n",
    "Y_pred_knn = model_knn.predict_proba(X_test)"
   ]
  },
  {
   "cell_type": "code",
   "execution_count": 274,
   "id": "cb80ba6c",
   "metadata": {},
   "outputs": [],
   "source": [
    "# construire le model \n",
    "model_nb = getModel('naive_bayes')\n",
    "# predire les donnees de Test\n",
    "Y_pred_nb = model_nb.predict_proba(X_test)"
   ]
  },
  {
   "cell_type": "code",
   "execution_count": 275,
   "id": "220e236a",
   "metadata": {},
   "outputs": [],
   "source": [
    "# construire le model \n",
    "model_ann = getModel(\"ann\")\n",
    "# predire les donnees de Test\n",
    "Y_pred_ann = model_ann.predict_proba(X_test)"
   ]
  },
  {
   "cell_type": "code",
   "execution_count": 276,
   "id": "0915ebc5",
   "metadata": {},
   "outputs": [],
   "source": [
    "# construire le model \n",
    "model_bagging  = getModel('bagging')\n",
    "# predire les donnees de Test\n",
    "Y_pred_bagging = model_bagging.predict_proba(X_test)"
   ]
  },
  {
   "cell_type": "markdown",
   "id": "a152cdc2",
   "metadata": {},
   "source": [
    "# Models Evaluation"
   ]
  },
  {
   "cell_type": "code",
   "execution_count": 277,
   "id": "5007df49",
   "metadata": {},
   "outputs": [],
   "source": [
    "models = [\n",
    "  getModel('svm_linear'),\n",
    "  getModel('svm_rbf'),\n",
    "  getModel('random_forest'),\n",
    "  getModel('knn'),\n",
    "  getModel('naive_bayes'),\n",
    "  getModel(\"ann\"),\n",
    "  getModel('bagging')\n",
    "]\n",
    "models_names = [\n",
    "    'SVM Linear',\n",
    "    'SVM RBF',\n",
    "    'Random Forest',\n",
    "    'KNN',\n",
    "    'Naive Bayes',\n",
    "    'ANN',\n",
    "    'Ensemble Learning (Bagging)'\n",
    "]\n",
    "predicted_Xtest_proba = [\n",
    "    Y_pred_svm_lin,\n",
    "    Y_pred_svm_rbf,\n",
    "    Y_pred_rf,\n",
    "    Y_pred_knn,\n",
    "    Y_pred_nb,\n",
    "    Y_pred_ann,\n",
    "    Y_pred_bagging\n",
    "]"
   ]
  },
  {
   "cell_type": "code",
   "execution_count": 278,
   "id": "dc9672da",
   "metadata": {},
   "outputs": [],
   "source": [
    "def getAccuracy(models):\n",
    "  accuracies = []\n",
    "  for model in models:\n",
    "    Y_Test_predi = model.predict(X_test)\n",
    "    accuracy = accuracy_score(Y_test, Y_Test_predi)\n",
    "    accuracies.append(accuracy)\n",
    "\n",
    "  return accuracies"
   ]
  },
  {
   "cell_type": "code",
   "execution_count": 279,
   "id": "fadb072b",
   "metadata": {},
   "outputs": [
    {
     "name": "stdout",
     "output_type": "stream",
     "text": [
      "accuracy SVM Linear :  0.5263157894736842\n",
      "accuracy SVM RBF :  0.5263157894736842\n",
      "accuracy Random Forest :  0.5263157894736842\n",
      "accuracy KNN :  0.5263157894736842\n",
      "accuracy Naive Bayes :  0.5263157894736842\n",
      "accuracy ANN :  0.7368421052631579\n",
      "accuracy Ensemble Learning (Bagging) :  0.5263157894736842\n"
     ]
    }
   ],
   "source": [
    "accuracies = getAccuracy(models)\n",
    "i=0\n",
    "for model in models_names:\n",
    "    print(f\"accuracy {model} :  {accuracies[i]}\")\n",
    "    i += 1"
   ]
  },
  {
   "cell_type": "code",
   "execution_count": 280,
   "id": "6ec2b838",
   "metadata": {},
   "outputs": [
    {
     "name": "stdout",
     "output_type": "stream",
     "text": [
      "SVM Linear  Aire sous la courbe ROC: 0.6833694083694084\n",
      "SVM RBF  Aire sous la courbe ROC: 0.6295454545454545\n",
      "Random Forest  Aire sous la courbe ROC: 0.7142676767676767\n",
      "KNN  Aire sous la courbe ROC: 0.6690295815295816\n",
      "Naive Bayes  Aire sous la courbe ROC: 0.6937950937950937\n",
      "ANN  Aire sous la courbe ROC: 0.7922799422799423\n",
      "Ensemble Learning (Bagging)  Aire sous la courbe ROC: 0.720851370851371\n"
     ]
    }
   ],
   "source": [
    "i=0\n",
    "for  Y_test_pred_prob in predicted_Xtest_proba:\n",
    "#     Y_test_pred = Y_test_pred.reshape(-1, 1)\n",
    "    auc_roc = roc_auc_score(Y_test, Y_test_pred_prob , multi_class='ovr')\n",
    "    print(f\"{models_names[i]}  Aire sous la courbe ROC:\", auc_roc)\n",
    "    i += 1"
   ]
  },
  {
   "cell_type": "markdown",
   "id": "708b4a12",
   "metadata": {},
   "source": [
    "# the best Model"
   ]
  },
  {
   "cell_type": "code",
   "execution_count": 281,
   "id": "ccaec5b6",
   "metadata": {},
   "outputs": [],
   "source": [
    "max_index = np.argmax(accuracies)\n",
    "best_model = models[max_index]"
   ]
  },
  {
   "cell_type": "code",
   "execution_count": 282,
   "id": "46582201",
   "metadata": {},
   "outputs": [
    {
     "data": {
      "text/html": [
       "<div>\n",
       "<style scoped>\n",
       "    .dataframe tbody tr th:only-of-type {\n",
       "        vertical-align: middle;\n",
       "    }\n",
       "\n",
       "    .dataframe tbody tr th {\n",
       "        vertical-align: top;\n",
       "    }\n",
       "\n",
       "    .dataframe thead th {\n",
       "        text-align: right;\n",
       "    }\n",
       "</style>\n",
       "<table border=\"1\" class=\"dataframe\">\n",
       "  <thead>\n",
       "    <tr style=\"text-align: right;\">\n",
       "      <th></th>\n",
       "      <th>Real</th>\n",
       "      <th>Predicted</th>\n",
       "    </tr>\n",
       "  </thead>\n",
       "  <tbody>\n",
       "    <tr>\n",
       "      <th>0</th>\n",
       "      <td>2</td>\n",
       "      <td>1</td>\n",
       "    </tr>\n",
       "    <tr>\n",
       "      <th>1</th>\n",
       "      <td>0</td>\n",
       "      <td>0</td>\n",
       "    </tr>\n",
       "    <tr>\n",
       "      <th>2</th>\n",
       "      <td>0</td>\n",
       "      <td>2</td>\n",
       "    </tr>\n",
       "    <tr>\n",
       "      <th>3</th>\n",
       "      <td>2</td>\n",
       "      <td>2</td>\n",
       "    </tr>\n",
       "    <tr>\n",
       "      <th>4</th>\n",
       "      <td>0</td>\n",
       "      <td>0</td>\n",
       "    </tr>\n",
       "    <tr>\n",
       "      <th>5</th>\n",
       "      <td>0</td>\n",
       "      <td>0</td>\n",
       "    </tr>\n",
       "    <tr>\n",
       "      <th>6</th>\n",
       "      <td>1</td>\n",
       "      <td>1</td>\n",
       "    </tr>\n",
       "    <tr>\n",
       "      <th>7</th>\n",
       "      <td>2</td>\n",
       "      <td>2</td>\n",
       "    </tr>\n",
       "    <tr>\n",
       "      <th>8</th>\n",
       "      <td>1</td>\n",
       "      <td>1</td>\n",
       "    </tr>\n",
       "    <tr>\n",
       "      <th>9</th>\n",
       "      <td>2</td>\n",
       "      <td>1</td>\n",
       "    </tr>\n",
       "    <tr>\n",
       "      <th>10</th>\n",
       "      <td>0</td>\n",
       "      <td>0</td>\n",
       "    </tr>\n",
       "    <tr>\n",
       "      <th>11</th>\n",
       "      <td>1</td>\n",
       "      <td>1</td>\n",
       "    </tr>\n",
       "    <tr>\n",
       "      <th>12</th>\n",
       "      <td>2</td>\n",
       "      <td>1</td>\n",
       "    </tr>\n",
       "    <tr>\n",
       "      <th>13</th>\n",
       "      <td>1</td>\n",
       "      <td>1</td>\n",
       "    </tr>\n",
       "    <tr>\n",
       "      <th>14</th>\n",
       "      <td>2</td>\n",
       "      <td>2</td>\n",
       "    </tr>\n",
       "    <tr>\n",
       "      <th>15</th>\n",
       "      <td>0</td>\n",
       "      <td>1</td>\n",
       "    </tr>\n",
       "    <tr>\n",
       "      <th>16</th>\n",
       "      <td>2</td>\n",
       "      <td>2</td>\n",
       "    </tr>\n",
       "    <tr>\n",
       "      <th>17</th>\n",
       "      <td>0</td>\n",
       "      <td>0</td>\n",
       "    </tr>\n",
       "    <tr>\n",
       "      <th>18</th>\n",
       "      <td>0</td>\n",
       "      <td>0</td>\n",
       "    </tr>\n",
       "  </tbody>\n",
       "</table>\n",
       "</div>"
      ],
      "text/plain": [
       "    Real   Predicted\n",
       "0       2          1\n",
       "1       0          0\n",
       "2       0          2\n",
       "3       2          2\n",
       "4       0          0\n",
       "5       0          0\n",
       "6       1          1\n",
       "7       2          2\n",
       "8       1          1\n",
       "9       2          1\n",
       "10      0          0\n",
       "11      1          1\n",
       "12      2          1\n",
       "13      1          1\n",
       "14      2          2\n",
       "15      0          1\n",
       "16      2          2\n",
       "17      0          0\n",
       "18      0          0"
      ]
     },
     "execution_count": 282,
     "metadata": {},
     "output_type": "execute_result"
    }
   ],
   "source": [
    "pd.DataFrame({\"Real \": Y_test , \"Predicted\" : best_model.predict(X_test)})"
   ]
  },
  {
   "cell_type": "markdown",
   "id": "92a28795",
   "metadata": {},
   "source": [
    "# saving the best model"
   ]
  },
  {
   "cell_type": "code",
   "execution_count": 65,
   "id": "7ba36545",
   "metadata": {},
   "outputs": [],
   "source": [
    "model_path = '../saved_models/model_question5.h5'\n",
    "with open(model_path, 'wb') as file:\n",
    "    pickle.dump((best_model, model_word2vec), file)"
   ]
  },
  {
   "cell_type": "markdown",
   "id": "29dfff85",
   "metadata": {},
   "source": [
    "# Test Model"
   ]
  },
  {
   "cell_type": "code",
   "execution_count": 294,
   "id": "cccc2ef6",
   "metadata": {},
   "outputs": [
    {
     "name": "stdout",
     "output_type": "stream",
     "text": [
      " SVM Linear :  0\n",
      " SVM RBF :  0\n",
      " Random Forest :  1\n",
      " KNN :  0\n",
      " Naive Bayes :  0\n",
      " ANN :  1\n",
      " Ensemble Learning (Bagging) :  0\n"
     ]
    }
   ],
   "source": [
    "answer = 'الموحدون هي سلالة بربرية أمازيغيا '\n",
    "process = txt_preprocess(answer)\n",
    "txt = get_word_vector(process, model_word2vec)\n",
    "txt = txt.reshape(1, -1)\n",
    "\n",
    "i=0\n",
    "for model in models_names:\n",
    "    predicted_ques = models[i].predict(txt)[0]\n",
    "    print(f\" {model} :  {predicted_ques}\")\n",
    "    i += 1"
   ]
  },
  {
   "cell_type": "code",
   "execution_count": null,
   "id": "c91531b4",
   "metadata": {},
   "outputs": [],
   "source": []
  },
  {
   "cell_type": "code",
   "execution_count": null,
   "id": "02b0a606",
   "metadata": {},
   "outputs": [],
   "source": []
  }
 ],
 "metadata": {
  "kernelspec": {
   "display_name": "Python 3 (ipykernel)",
   "language": "python",
   "name": "python3"
  },
  "language_info": {
   "codemirror_mode": {
    "name": "ipython",
    "version": 3
   },
   "file_extension": ".py",
   "mimetype": "text/x-python",
   "name": "python",
   "nbconvert_exporter": "python",
   "pygments_lexer": "ipython3",
   "version": "3.10.5"
  }
 },
 "nbformat": 4,
 "nbformat_minor": 5
}
