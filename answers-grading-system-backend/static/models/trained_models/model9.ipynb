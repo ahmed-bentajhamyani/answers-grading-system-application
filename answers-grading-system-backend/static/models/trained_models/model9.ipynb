{
 "cells": [
  {
   "cell_type": "markdown",
   "id": "74395077",
   "metadata": {},
   "source": [
    "# Import Libraries"
   ]
  },
  {
   "cell_type": "code",
   "execution_count": 1,
   "id": "2db1ad22",
   "metadata": {},
   "outputs": [],
   "source": [
    "import pandas as pd\n",
    "import numpy as np\n",
    "import matplotlib.pyplot as plt\n",
    "import seaborn as sns\n",
    "import string \n",
    "from nltk.corpus import stopwords\n",
    "from nltk.stem.isri import ISRIStemmer\n",
    "from sklearn.model_selection import train_test_split\n",
    "import tensorflow as tf \n",
    "from keras.preprocessing.text import Tokenizer\n",
    "from tensorflow.keras.preprocessing.sequence import pad_sequences\n",
    "from keras.models import Sequential\n",
    "from keras.layers import Embedding, LSTM, Dense, Dropout\n",
    "from sklearn.model_selection import cross_val_score\n",
    "from sklearn.metrics import accuracy_score\n",
    "from sklearn.metrics import roc_auc_score\n",
    "\n",
    "# from keras.models import Sequential\n",
    "from sklearn.svm import SVC\n",
    "from sklearn.ensemble import RandomForestClassifier\n",
    "from sklearn.neighbors import KNeighborsClassifier\n",
    "from sklearn.naive_bayes import GaussianNB\n",
    "from sklearn.ensemble import BaggingClassifier\n",
    "from sklearn.neural_network import MLPClassifier\n",
    "\n",
    "\n",
    "import nltk\n",
    "from nltk.tokenize import word_tokenize\n",
    "from gensim.models import Word2Vec\n",
    "import pickle "
   ]
  },
  {
   "cell_type": "code",
   "execution_count": 2,
   "id": "64e006be",
   "metadata": {},
   "outputs": [],
   "source": [
    "import warnings\n",
    "warnings.filterwarnings('ignore')"
   ]
  },
  {
   "cell_type": "markdown",
   "id": "cea978ea",
   "metadata": {},
   "source": [
    "# Load Data"
   ]
  },
  {
   "cell_type": "code",
   "execution_count": 3,
   "id": "034bf77f",
   "metadata": {
    "scrolled": true
   },
   "outputs": [
    {
     "data": {
      "text/html": [
       "<div>\n",
       "<style scoped>\n",
       "    .dataframe tbody tr th:only-of-type {\n",
       "        vertical-align: middle;\n",
       "    }\n",
       "\n",
       "    .dataframe tbody tr th {\n",
       "        vertical-align: top;\n",
       "    }\n",
       "\n",
       "    .dataframe thead th {\n",
       "        text-align: right;\n",
       "    }\n",
       "</style>\n",
       "<table border=\"1\" class=\"dataframe\">\n",
       "  <thead>\n",
       "    <tr style=\"text-align: right;\">\n",
       "      <th></th>\n",
       "      <th>question_id</th>\n",
       "      <th>answer</th>\n",
       "      <th>grade</th>\n",
       "    </tr>\n",
       "  </thead>\n",
       "  <tbody>\n",
       "    <tr>\n",
       "      <th>0</th>\n",
       "      <td>9</td>\n",
       "      <td>اخوه</td>\n",
       "      <td>1</td>\n",
       "    </tr>\n",
       "    <tr>\n",
       "      <th>1</th>\n",
       "      <td>9</td>\n",
       "      <td>اخوه السلطان احمد المنصور</td>\n",
       "      <td>2</td>\n",
       "    </tr>\n",
       "    <tr>\n",
       "      <th>2</th>\n",
       "      <td>9</td>\n",
       "      <td>الملك محمد السادس</td>\n",
       "      <td>0</td>\n",
       "    </tr>\n",
       "  </tbody>\n",
       "</table>\n",
       "</div>"
      ],
      "text/plain": [
       "   question_id                     answer  grade\n",
       "0            9                       اخوه      1\n",
       "1            9  اخوه السلطان احمد المنصور      2\n",
       "2            9          الملك محمد السادس      0"
      ]
     },
     "execution_count": 3,
     "metadata": {},
     "output_type": "execute_result"
    }
   ],
   "source": [
    "# read csv file into pandas\n",
    "df = pd.read_csv(\"../datasets/question9.csv\")\n",
    "df.head(3)"
   ]
  },
  {
   "cell_type": "markdown",
   "id": "5984b4ed",
   "metadata": {},
   "source": [
    "# EDA"
   ]
  },
  {
   "cell_type": "code",
   "execution_count": 4,
   "id": "e4cc011c",
   "metadata": {},
   "outputs": [
    {
     "name": "stdout",
     "output_type": "stream",
     "text": [
      "<class 'pandas.core.frame.DataFrame'>\n",
      "RangeIndex: 70 entries, 0 to 69\n",
      "Data columns (total 3 columns):\n",
      " #   Column       Non-Null Count  Dtype \n",
      "---  ------       --------------  ----- \n",
      " 0   question_id  70 non-null     int64 \n",
      " 1   answer       70 non-null     object\n",
      " 2   grade        70 non-null     int64 \n",
      "dtypes: int64(2), object(1)\n",
      "memory usage: 1.8+ KB\n"
     ]
    }
   ],
   "source": [
    "df.info()"
   ]
  },
  {
   "cell_type": "code",
   "execution_count": 5,
   "id": "89ced33c",
   "metadata": {},
   "outputs": [
    {
     "data": {
      "text/plain": [
       "grade\n",
       "0    27\n",
       "1    25\n",
       "2    18\n",
       "dtype: int64"
      ]
     },
     "execution_count": 5,
     "metadata": {},
     "output_type": "execute_result"
    }
   ],
   "source": [
    "df.groupby('grade').size()"
   ]
  },
  {
   "cell_type": "code",
   "execution_count": 6,
   "id": "3a720ee4",
   "metadata": {},
   "outputs": [
    {
     "data": {
      "text/plain": [
       "10"
      ]
     },
     "execution_count": 6,
     "metadata": {},
     "output_type": "execute_result"
    }
   ],
   "source": [
    "df.duplicated().sum()"
   ]
  },
  {
   "cell_type": "code",
   "execution_count": 7,
   "id": "a52be670",
   "metadata": {},
   "outputs": [
    {
     "data": {
      "image/png": "[encoded data removed]",
      "text/plain": [
       "<Figure size 1000x600 with 1 Axes>"
      ]
     },
     "metadata": {},
     "output_type": "display_data"
    }
   ],
   "source": [
    "plt.figure(figsize=(10, 6))\n",
    "sns.countplot(data=df, x='grade')\n",
    "plt.show()"
   ]
  },
  {
   "cell_type": "markdown",
   "id": "f927deff",
   "metadata": {},
   "source": [
    "# Data Cleaning"
   ]
  },
  {
   "cell_type": "code",
   "execution_count": 8,
   "id": "4e2b5cd3",
   "metadata": {},
   "outputs": [],
   "source": [
    "df.drop('question_id', axis=1, inplace=True)"
   ]
  },
  {
   "cell_type": "code",
   "execution_count": 9,
   "id": "2bedaead",
   "metadata": {},
   "outputs": [],
   "source": [
    "df.dropna(inplace=True)"
   ]
  },
  {
   "cell_type": "code",
   "execution_count": 10,
   "id": "c7aecaff",
   "metadata": {},
   "outputs": [],
   "source": [
    "df.drop_duplicates(inplace=True)"
   ]
  },
  {
   "cell_type": "markdown",
   "id": "3ae6d336",
   "metadata": {},
   "source": [
    "# Data Pre-Preocessing"
   ]
  },
  {
   "cell_type": "code",
   "execution_count": 11,
   "id": "75658c83",
   "metadata": {},
   "outputs": [],
   "source": [
    "def txt_preprocess(text):\n",
    "    text = text.lower()\n",
    "    tokens = word_tokenize(text)\n",
    "    #tokens = [token for token in tokens if token.isalpha() and token not in stop_words]\n",
    "    return tokens"
   ]
  },
  {
   "cell_type": "code",
   "execution_count": 12,
   "id": "0cf45543",
   "metadata": {},
   "outputs": [],
   "source": [
    "df['tokens'] = df['answer'].apply(txt_preprocess)"
   ]
  },
  {
   "cell_type": "markdown",
   "id": "9bfbf36f",
   "metadata": {},
   "source": [
    "# Text Representation"
   ]
  },
  {
   "cell_type": "code",
   "execution_count": 13,
   "id": "cf192e33",
   "metadata": {},
   "outputs": [],
   "source": [
    "model_word2vec = Word2Vec(df['tokens'], vector_size=100, window=5, min_count=1, workers=4)"
   ]
  },
  {
   "cell_type": "code",
   "execution_count": 14,
   "id": "0f75f229",
   "metadata": {},
   "outputs": [],
   "source": [
    "def get_word_vector(tokens, model_word2vec):\n",
    "    textvector = np.zeros((100,), dtype='float32')\n",
    "    for token in tokens:\n",
    "        try:\n",
    "            textvector += model_word2vec.wv[token]\n",
    "        except KeyError:\n",
    "            continue\n",
    "    return textvector\n",
    "\n",
    "\n",
    "df['textvector'] = df['tokens'].apply(lambda x: get_word_vector(x, model_word2vec))"
   ]
  },
  {
   "cell_type": "code",
   "execution_count": 15,
   "id": "b59986fa",
   "metadata": {},
   "outputs": [
    {
     "data": {
      "text/html": [
       "<div>\n",
       "<style scoped>\n",
       "    .dataframe tbody tr th:only-of-type {\n",
       "        vertical-align: middle;\n",
       "    }\n",
       "\n",
       "    .dataframe tbody tr th {\n",
       "        vertical-align: top;\n",
       "    }\n",
       "\n",
       "    .dataframe thead th {\n",
       "        text-align: right;\n",
       "    }\n",
       "</style>\n",
       "<table border=\"1\" class=\"dataframe\">\n",
       "  <thead>\n",
       "    <tr style=\"text-align: right;\">\n",
       "      <th></th>\n",
       "      <th>answer</th>\n",
       "      <th>grade</th>\n",
       "      <th>tokens</th>\n",
       "      <th>textvector</th>\n",
       "    </tr>\n",
       "  </thead>\n",
       "  <tbody>\n",
       "    <tr>\n",
       "      <th>0</th>\n",
       "      <td>اخوه</td>\n",
       "      <td>1</td>\n",
       "      <td>[اخوه]</td>\n",
       "      <td>[-0.0019388014, -0.005175127, 0.009393465, -0....</td>\n",
       "    </tr>\n",
       "    <tr>\n",
       "      <th>1</th>\n",
       "      <td>اخوه السلطان احمد المنصور</td>\n",
       "      <td>2</td>\n",
       "      <td>[اخوه, السلطان, احمد, المنصور]</td>\n",
       "      <td>[-0.010603506, 0.0075739296, 0.007396634, -0.0...</td>\n",
       "    </tr>\n",
       "    <tr>\n",
       "      <th>2</th>\n",
       "      <td>الملك محمد السادس</td>\n",
       "      <td>0</td>\n",
       "      <td>[الملك, محمد, السادس]</td>\n",
       "      <td>[-0.011622576, -0.015337364, 0.007903495, 0.00...</td>\n",
       "    </tr>\n",
       "    <tr>\n",
       "      <th>3</th>\n",
       "      <td>تولى الحكم أخوه السلطان أحمد المنصور</td>\n",
       "      <td>2</td>\n",
       "      <td>[تولى, الحكم, أخوه, السلطان, أحمد, المنصور]</td>\n",
       "      <td>[-0.006268422, 0.02702748, 0.01878013, 0.02061...</td>\n",
       "    </tr>\n",
       "    <tr>\n",
       "      <th>4</th>\n",
       "      <td>السلطان أحمد المنصور</td>\n",
       "      <td>2</td>\n",
       "      <td>[السلطان, أحمد, المنصور]</td>\n",
       "      <td>[-0.00695661, 0.016682792, 0.0077810176, 5.532...</td>\n",
       "    </tr>\n",
       "  </tbody>\n",
       "</table>\n",
       "</div>"
      ],
      "text/plain": [
       "                                 answer  grade  \\\n",
       "0                                  اخوه      1   \n",
       "1             اخوه السلطان احمد المنصور      2   \n",
       "2                     الملك محمد السادس      0   \n",
       "3  تولى الحكم أخوه السلطان أحمد المنصور      2   \n",
       "4                  السلطان أحمد المنصور      2   \n",
       "\n",
       "                                        tokens  \\\n",
       "0                                       [اخوه]   \n",
       "1               [اخوه, السلطان, احمد, المنصور]   \n",
       "2                        [الملك, محمد, السادس]   \n",
       "3  [تولى, الحكم, أخوه, السلطان, أحمد, المنصور]   \n",
       "4                     [السلطان, أحمد, المنصور]   \n",
       "\n",
       "                                          textvector  \n",
       "0  [-0.0019388014, -0.005175127, 0.009393465, -0....  \n",
       "1  [-0.010603506, 0.0075739296, 0.007396634, -0.0...  \n",
       "2  [-0.011622576, -0.015337364, 0.007903495, 0.00...  \n",
       "3  [-0.006268422, 0.02702748, 0.01878013, 0.02061...  \n",
       "4  [-0.00695661, 0.016682792, 0.0077810176, 5.532...  "
      ]
     },
     "execution_count": 15,
     "metadata": {},
     "output_type": "execute_result"
    }
   ],
   "source": [
    "df.head()"
   ]
  },
  {
   "cell_type": "markdown",
   "id": "22a8ed60",
   "metadata": {},
   "source": [
    "# split the data"
   ]
  },
  {
   "cell_type": "code",
   "execution_count": 16,
   "id": "3df3116d",
   "metadata": {},
   "outputs": [],
   "source": [
    "train_data = df.sample(frac=0.85, random_state=42)\n",
    "test_data = df.drop(train_data.index)"
   ]
  },
  {
   "cell_type": "code",
   "execution_count": 17,
   "id": "ff7cd537",
   "metadata": {},
   "outputs": [
    {
     "name": "stdout",
     "output_type": "stream",
     "text": [
      "[[ 8.32437724e-03 -1.67975686e-02  2.40003830e-03  1.64690614e-02\n",
      "   6.64723571e-03 -1.73489284e-02  8.67121480e-03  2.52982862e-02\n",
      "  -1.36855384e-03 -1.51893087e-02 -9.87374038e-03 -2.11156951e-03\n",
      "  -4.64829383e-03  1.61380321e-03  2.03166381e-02  1.52285257e-03\n",
      "  -8.46567098e-03  3.30124213e-03 -4.49362909e-03  6.85612857e-03\n",
      "  -2.84766499e-03 -7.09008705e-03 -8.10427219e-03 -1.91989522e-02\n",
      "  -6.10478502e-03 -1.89878363e-02 -1.49328150e-02  3.88654065e-03\n",
      "   9.28595476e-03 -1.04843155e-02  4.34154738e-03 -3.20982328e-03\n",
      "   1.33875003e-02  5.90492226e-03  1.83285121e-03  2.47235829e-03\n",
      "   3.54365469e-03  9.41353291e-03  3.32346628e-03 -1.34259546e-02\n",
      "   8.37164931e-04  6.81978534e-04  3.35729076e-03  4.87056095e-04\n",
      "   1.35784748e-03  7.74340751e-03 -3.87025066e-04  9.43678990e-03\n",
      "   1.79621316e-02 -2.90574064e-03  3.98953306e-03 -2.07131766e-02\n",
      "   8.05727206e-03  1.46838054e-02 -1.86602436e-02  2.15826258e-02\n",
      "  -1.01732751e-02 -7.41938362e-03  1.90827362e-02  5.52712055e-03\n",
      "   3.59022687e-03  2.64284965e-02 -4.04933095e-03 -2.59903260e-04\n",
      "  -5.53209987e-03  1.53705282e-02  4.97732870e-03  2.03873068e-02\n",
      "  -2.41409242e-02  8.59222934e-03  8.62697884e-03  1.25562400e-02\n",
      "   2.18641274e-02  3.78340250e-03  2.73487810e-02 -4.14674822e-03\n",
      "   7.30466889e-03  4.55290964e-03 -1.62961017e-02 -1.67654548e-02\n",
      "  -1.05579831e-02  8.53826478e-03 -9.34394915e-03  1.34926401e-02\n",
      "  -1.56872626e-03  2.18215166e-03 -1.13985268e-02 -7.14737875e-03\n",
      "   7.99188204e-03 -1.07889650e-02  2.00624205e-02 -8.72568227e-03\n",
      "   9.99718159e-03  2.80682854e-02  9.78201721e-03  6.69782143e-03\n",
      "  -1.30495420e-02 -6.73779286e-05 -2.97026522e-03  4.50525712e-03]\n",
      " [-9.66166519e-03  8.39784741e-03 -1.14304479e-02 -7.98604544e-03\n",
      "   6.70923525e-03 -2.14631483e-03 -8.91080871e-03  1.92455426e-02\n",
      "   4.16223332e-03 -4.95052896e-03  7.22305290e-03 -6.17818255e-03\n",
      "   2.08338629e-02  2.95104040e-03  1.68017447e-02 -1.50652993e-02\n",
      "   1.10307438e-02  9.28537082e-03 -1.95251741e-02  4.71099652e-03\n",
      "   4.04485734e-03 -2.69579748e-03  6.22604974e-04  6.41237479e-03\n",
      "  -4.73812036e-03 -8.73599295e-03  2.15292387e-02 -9.08523798e-05\n",
      "  -5.68736158e-03  2.98430491e-03 -2.20477325e-03 -1.23363882e-02\n",
      "  -8.84720683e-03 -9.88979917e-03 -1.17805172e-02  1.35019217e-02\n",
      "   5.44499047e-03 -1.05744721e-02 -7.68192112e-03  8.73494707e-03\n",
      "   5.38172014e-03  7.43648037e-03  1.32393073e-02 -5.87601867e-03\n",
      "   1.54045848e-02  1.35832261e-02  5.30031510e-03 -7.93619361e-03\n",
      "  -6.43808581e-03 -4.20760317e-03 -2.40492914e-03 -9.42332763e-03\n",
      "  -1.54656842e-02 -1.94947124e-02 -5.67539176e-03 -7.04710279e-03\n",
      "   6.27439655e-03  7.17556383e-03  7.17482343e-03 -1.72898732e-02\n",
      "   6.98664133e-03 -2.05104705e-04  1.82362795e-02  1.66233280e-04\n",
      "  -9.64202546e-03  1.27561614e-02  3.97176901e-03  1.55606754e-02\n",
      "  -1.57638416e-02 -2.69347802e-05  1.97473727e-02  8.28024931e-05\n",
      "   9.70786251e-03  1.18425190e-02  2.60666478e-03  1.32283140e-02\n",
      "   3.88830295e-03  9.07558575e-03 -1.81563664e-02  1.19838472e-02\n",
      "  -6.56764489e-03 -1.59445219e-04 -5.72090223e-03  1.08364020e-02\n",
      "   8.07360373e-03 -7.00752111e-03  7.25737214e-03  4.28973697e-03\n",
      "   8.42810422e-03 -2.93542910e-03 -1.17284153e-02  2.37098592e-03\n",
      "   1.37292743e-02 -1.00578908e-02  1.51151251e-02  1.37484018e-02\n",
      "   2.61572888e-03 -1.03837773e-02  2.83345953e-03 -6.93804165e-03]\n",
      " [ 2.47969739e-02  3.08952909e-02 -9.43257567e-03  4.59671021e-03\n",
      "   1.32916793e-02 -3.81089561e-02 -5.22928685e-03  2.94359475e-02\n",
      "  -2.22667120e-02 -1.96577311e-02  1.78015092e-03 -1.64875947e-02\n",
      "   2.93117613e-02  4.34569530e-02  1.67203192e-02  1.98079385e-02\n",
      "   3.72698382e-02  3.02225407e-02 -5.34795225e-04 -5.31975105e-02\n",
      "   5.84255951e-03 -2.54556024e-03  3.03335972e-02 -4.26496603e-02\n",
      "   5.57125453e-03 -1.01702856e-02 -4.67553660e-02  1.54325366e-02\n",
      "   1.11225611e-02  5.72123099e-04  3.45414244e-02  8.10317288e-04\n",
      "   3.46883647e-02 -9.62985028e-03 -8.72804038e-03  3.30635905e-02\n",
      "   7.24052265e-03  3.06816725e-03 -3.98457348e-02 -2.45799739e-02\n",
      "  -5.62694715e-03 -8.96104798e-03  6.88980194e-03  1.07110543e-02\n",
      "  -1.79359950e-02 -4.25342238e-03 -2.43733339e-02 -2.69283969e-02\n",
      "   4.64830082e-04 -4.76043252e-03 -1.76943149e-02 -4.44475003e-02\n",
      "  -2.23646723e-02  7.07300566e-03 -2.65952013e-03  1.27176959e-02\n",
      "   9.96941887e-03 -5.32612298e-03  7.43061304e-04  2.32660249e-02\n",
      "   9.62421950e-03 -2.05637366e-02  2.99611203e-02  3.68116461e-02\n",
      "  -2.93053761e-02  3.03097330e-02 -4.71248850e-03  2.72134878e-03\n",
      "  -1.33708380e-02  1.81197710e-02  1.16455229e-03 -1.94364786e-02\n",
      "   2.24234723e-02  4.59116176e-02  2.82867029e-02 -1.56507920e-02\n",
      "  -4.07124823e-03 -7.00832764e-03 -3.64624336e-02 -1.77608505e-02\n",
      "  -1.66638680e-02  1.41554698e-02 -2.10697968e-02  3.04344613e-02\n",
      "   7.25998636e-03  1.23261958e-02  1.67936608e-02  8.66255350e-03\n",
      "   1.91969294e-02  9.60008241e-03  3.41908708e-02  8.53130780e-03\n",
      "  -2.23702043e-02 -2.78788572e-03 -1.87377073e-02 -7.04915263e-04\n",
      "   1.00375572e-02 -2.10064892e-02  5.30797429e-03  6.25832006e-03]\n",
      " [-2.62403628e-03  1.48187168e-02  1.61941419e-03  3.77838663e-03\n",
      "  -4.34909249e-03  2.40592519e-03  1.19959339e-02  2.82184919e-03\n",
      "   7.67886406e-03 -1.27775334e-02  1.04392767e-02  7.41920108e-03\n",
      "   1.21309953e-02 -5.68021415e-03  1.10337716e-02 -8.58875108e-04\n",
      "   1.72471814e-02 -1.10641122e-02 -1.43925603e-02  3.10815033e-03\n",
      "  -6.11387077e-04  2.84482026e-03  1.41701009e-03  6.64688367e-03\n",
      "  -1.79871209e-02  7.66155729e-03  3.54594458e-03 -5.17236954e-03\n",
      "   6.08182279e-03  9.45822895e-03 -2.32042628e-03 -9.64985043e-03\n",
      "  -4.07464243e-03 -2.55527510e-03 -6.08422700e-03  1.72714777e-02\n",
      "   1.93285476e-03 -1.09408181e-02 -1.20659173e-02  4.26052790e-03\n",
      "   5.15155634e-03  1.48581639e-02  1.08298194e-02  5.25627658e-03\n",
      "   6.89008925e-03  3.47759272e-03  1.86713412e-04 -1.11860838e-02\n",
      "   3.19673214e-04 -2.65182927e-04 -5.14238235e-03 -4.92742378e-03\n",
      "  -1.93209387e-02 -1.53773073e-02 -2.08084239e-03  8.49793665e-03\n",
      "   6.11408381e-03  1.18115358e-02  1.37053812e-02 -5.39878383e-03\n",
      "  -1.11080823e-03 -3.77159659e-03  7.57872639e-03 -3.71533469e-03\n",
      "   4.66711633e-03  1.51948957e-03 -7.84177240e-03  4.17023106e-03\n",
      "  -9.08861775e-03 -1.31608527e-02  2.44691991e-03 -1.76899321e-03\n",
      "   2.15986837e-03  5.05441288e-03 -6.74331607e-03 -3.62393097e-03\n",
      "   1.29617751e-04  1.23572368e-02 -8.72998964e-03 -2.15844670e-03\n",
      "  -1.08772330e-02  5.56271244e-03  6.23789802e-03  4.19825222e-03\n",
      "   5.84033225e-03 -5.51710278e-03  8.98155011e-03 -3.32294032e-04\n",
      "  -3.33807641e-03 -1.71959735e-02 -8.35534651e-03  2.61959387e-04\n",
      "  -9.36412998e-03  6.17838465e-03  5.20094298e-04 -1.00657223e-02\n",
      "  -2.62056245e-03 -1.48430467e-04  2.98097869e-03  3.69856600e-03]\n",
      " [-4.19967546e-04  3.43189854e-03 -1.79867307e-03  7.58376019e-03\n",
      "  -1.53468130e-03  6.68494031e-05  2.82943738e-03  1.19211711e-02\n",
      "  -1.33349821e-02  2.40112888e-03  2.70891935e-03 -4.81025502e-03\n",
      "   4.80406452e-03  7.51801860e-03  2.75862636e-03 -7.92978331e-03\n",
      "   8.05000216e-03  1.08914133e-02 -1.66938826e-02 -1.48929497e-02\n",
      "   3.18771694e-04  2.00191513e-04  3.08826892e-03 -7.75792636e-03\n",
      "   1.42686758e-02 -8.24186578e-03  7.40705244e-03  1.10981362e-02\n",
      "  -1.41612235e-02  1.55894086e-05 -1.86620466e-03 -8.34739767e-03\n",
      "   2.33983062e-03 -9.94649157e-03 -1.10862702e-02 -3.42548406e-03\n",
      "   7.72299850e-03 -2.74994178e-03  1.43691362e-03 -5.81553951e-03\n",
      "  -1.52106415e-02  6.68048672e-03 -9.74410586e-03  2.34548561e-03\n",
      "   4.08075284e-03  4.23475355e-03 -6.30616583e-03  6.89179031e-03\n",
      "   6.95117749e-04  8.28211755e-03 -6.75429963e-03  1.72525179e-03\n",
      "  -1.12248231e-02 -7.03869807e-03 -5.56990504e-04 -1.04887951e-02\n",
      "   2.63703149e-03 -1.11549143e-02 -1.01177562e-02  5.67201804e-03\n",
      "   2.79894518e-03 -3.42909060e-03  4.28136857e-03 -6.14063907e-03\n",
      "  -8.93298443e-03  1.20934490e-02  6.75180741e-03  1.11593716e-02\n",
      "  -9.82263125e-03  8.31617881e-03  9.36206244e-03  1.35820527e-02\n",
      "   2.91798729e-03 -7.19991745e-03  1.40448660e-03  8.92566051e-03\n",
      "   1.70516409e-02  3.01680272e-03 -5.58410445e-03 -8.80714227e-03\n",
      "   3.94651317e-04 -5.72433602e-03 -3.16158123e-03  7.03980448e-03\n",
      "  -4.50448133e-03 -4.01620893e-03  1.58471614e-03 -1.22061381e-02\n",
      "   5.26413787e-03  6.87694922e-03 -2.71900953e-03  5.92125440e-03\n",
      "   1.27516836e-02 -3.85528919e-03  1.77501068e-02  1.05001274e-02\n",
      "  -2.96165142e-03 -6.60292804e-03  9.21535026e-03 -7.10709020e-04]\n",
      " [ 6.46938058e-03 -1.01819970e-02 -2.10889634e-02  2.39286595e-03\n",
      "  -9.89301875e-03 -3.83646344e-03  8.54509883e-03  1.20402779e-02\n",
      "   1.23956222e-02  4.99689952e-04  3.81503138e-04 -1.35759125e-03\n",
      "  -1.42772831e-02 -9.99626331e-03 -7.44803529e-03  4.23833169e-03\n",
      "   6.92559034e-03 -1.08498968e-02 -3.38069955e-03 -7.18956022e-03\n",
      "  -9.64591838e-03  5.28337993e-03  6.85423566e-03 -1.32632069e-03\n",
      "   2.97826342e-03  1.46427099e-02  2.04581674e-03 -1.24737236e-03\n",
      "  -7.22413417e-04  9.49396472e-03 -4.03393200e-03 -9.27080400e-03\n",
      "   2.20491067e-02  5.13053779e-03  6.08107075e-03  1.31088309e-04\n",
      "   6.70801336e-03  2.36448995e-03  1.70407593e-02 -1.56894438e-02\n",
      "  -3.78635735e-03 -2.37013027e-02  3.89474700e-03 -2.48709135e-02\n",
      "  -1.72532815e-03 -5.10026701e-03  4.70476225e-05  1.26653146e-02\n",
      "  -1.28499512e-02 -6.18269900e-03 -1.47600453e-02 -1.07672568e-02\n",
      "   5.84896747e-03  7.85533898e-03  1.60181839e-02  4.98372503e-03\n",
      "   8.40568077e-03  5.41942008e-03 -1.40534677e-02  1.55474851e-03\n",
      "  -1.96364149e-02  4.88943141e-03  6.01369981e-03  1.33642722e-02\n",
      "   6.25567976e-03  7.21727731e-03  1.13137262e-02  2.19656788e-02\n",
      "  -2.11138371e-03  1.95957795e-02  8.50190315e-03 -9.00911167e-04\n",
      "   2.13389229e-02 -1.45253688e-02 -1.28171826e-02 -4.63918922e-03\n",
      "  -1.08596375e-02  1.35803875e-03  9.29204747e-04 -5.64526021e-03\n",
      "   1.29278628e-02 -7.83018023e-03  9.38804878e-04  1.95704084e-02\n",
      "   1.75626576e-02  3.34174093e-03 -3.86795821e-03  1.36211887e-02\n",
      "  -1.08131515e-02  6.36834046e-03 -4.87039238e-03  1.32004470e-02\n",
      "   1.41185913e-02 -7.23047787e-03 -1.68349291e-03 -1.49838859e-03\n",
      "   1.44928573e-02 -4.33307141e-04  7.54418410e-03 -6.13885000e-03]\n",
      " [-9.58721060e-03 -3.07175773e-03  8.22636299e-03 -5.92271099e-03\n",
      "  -5.13606519e-03  5.06893359e-03  1.26263127e-02 -1.03269471e-03\n",
      "  -1.28343813e-02 -1.06183952e-02 -8.71625822e-03 -1.17453625e-02\n",
      "  -7.85113405e-03 -1.76784713e-02  7.03679072e-03 -1.17718820e-02\n",
      "  -1.23393964e-02 -1.37798898e-02 -5.89296501e-03 -1.13117984e-02\n",
      "  -8.16373434e-03  4.67784749e-03  5.31437527e-03  1.53771667e-02\n",
      "  -9.07799322e-03 -1.09164175e-02 -2.04648823e-05 -1.26999523e-02\n",
      "  -5.64004714e-03 -3.15133529e-03  1.69270346e-03 -1.03451265e-02\n",
      "   5.29789366e-04 -1.57794151e-02 -4.95049451e-03  1.06476340e-02\n",
      "   4.30827029e-03  8.58494919e-03  3.16466810e-03  1.04864361e-03\n",
      "   1.75392665e-02 -1.52854538e-02 -3.53285274e-03  3.70302284e-03\n",
      "  -1.33133261e-03  3.53936409e-03 -6.03435142e-03  2.89751729e-03\n",
      "  -8.53042677e-03  7.86398072e-03 -6.66938443e-03 -1.16387783e-02\n",
      "   7.39673292e-03  3.66827613e-03 -1.13267452e-04 -4.40438930e-03\n",
      "   1.87075138e-03  1.55051053e-03 -1.52925607e-02  1.93960080e-03\n",
      "   4.30990104e-03  4.98018228e-03  8.74041207e-03 -1.21397674e-02\n",
      "  -3.78354010e-03 -3.60066909e-03  7.58057833e-03  8.67033657e-03\n",
      "  -7.34378863e-03 -2.94102216e-03  6.20036526e-03  1.00054266e-02\n",
      "   1.06745604e-02 -3.96910077e-03  8.51786975e-03  9.19504091e-05\n",
      "  -1.23476051e-02  4.83726338e-03  5.49449027e-03 -5.35133854e-03\n",
      "   9.08445381e-03 -3.89165245e-04 -3.21998820e-03  6.97653741e-05\n",
      "  -6.04253029e-03  8.25329684e-04 -1.15676299e-02  1.58610195e-02\n",
      "   7.49275880e-03 -6.32993877e-03  9.38692875e-03  1.22610759e-03\n",
      "  -7.82506540e-05  6.56376220e-03  3.86102078e-03  5.95323462e-03\n",
      "  -3.80252581e-03 -1.64708346e-02  3.78324161e-03 -1.65781192e-02]\n",
      " [ 6.50274102e-03 -1.24499938e-02 -5.15681133e-03 -7.63223041e-04\n",
      "   9.50537901e-03 -2.15158798e-04 -6.26662839e-03 -1.55438753e-02\n",
      "  -8.37554503e-03  1.12709384e-02  6.28773402e-03 -1.17945150e-02\n",
      "   1.52624529e-02  1.00779696e-03  8.50830320e-03 -1.04922848e-03\n",
      "   7.32290093e-03  5.21727838e-03 -4.50883619e-03 -2.87452992e-03\n",
      "  -1.52431317e-02  5.46066929e-03 -9.06950235e-03 -1.84142813e-02\n",
      "   9.73495655e-03  5.95094590e-03  8.37924518e-03  1.34613141e-02\n",
      "  -3.94885708e-03  9.71179269e-03  1.38331931e-02 -4.05534031e-03\n",
      "   2.73365993e-04 -1.06857009e-02 -2.87384586e-03  1.71596631e-02\n",
      "   7.42457435e-03 -3.00559681e-03  9.47400695e-05 -1.16023030e-02\n",
      "   5.33845834e-03 -1.44540975e-02 -9.15052369e-05  1.36576872e-02\n",
      "   9.64122731e-03  1.69590190e-02 -1.08529702e-02  1.02298604e-02\n",
      "  -2.72683427e-03 -1.94204785e-02  1.36103621e-02  1.99837843e-03\n",
      "   8.95317085e-03 -5.02947904e-03 -2.63022874e-02  5.31343278e-03\n",
      "  -4.24630521e-03  1.06913904e-02 -1.07944785e-02 -4.68682917e-03\n",
      "   1.56440958e-03  2.00426835e-03  2.27463688e-03  7.11511774e-03\n",
      "   7.31911743e-03  1.04729738e-02  8.33056774e-03  2.10051658e-03\n",
      "  -6.21400774e-04  1.53407911e-02 -8.93434323e-03  2.86260992e-03\n",
      "  -1.11375656e-03  1.01335132e-02  4.93086781e-03  2.30012718e-03\n",
      "   4.40340163e-03  7.94020388e-03  1.12917349e-02  1.30690690e-02\n",
      "   2.45059934e-03 -1.54799037e-02 -1.22549748e-02 -1.23843271e-02\n",
      "  -1.16663799e-02 -2.97657051e-03 -9.31792986e-03 -9.14112572e-03\n",
      "   2.00321209e-02  1.81651320e-02 -3.08348984e-03  1.64957065e-02\n",
      "  -2.92749796e-03 -1.08774807e-02  5.33592515e-03 -8.17633886e-03\n",
      "  -2.98979599e-03 -4.98872157e-03  1.43081583e-02 -1.16296234e-02]\n",
      " [-3.48586068e-02  1.64083764e-02  6.69892365e-03  3.26319523e-02\n",
      "   5.18780341e-03 -1.45885590e-02  2.12455187e-02  3.59739512e-02\n",
      "  -3.25502753e-02 -2.26523839e-02  1.19974883e-02 -1.42510692e-02\n",
      "  -1.50328930e-02  1.36467349e-02  1.06041897e-02  4.62288503e-04\n",
      "   4.38347533e-02  2.14920435e-02 -2.95345597e-02 -6.16313182e-02\n",
      "   1.74977109e-02  1.21481000e-02  5.95842265e-02 -9.26293433e-06\n",
      "   2.77657323e-02  1.77618861e-02 -2.62211431e-02  3.38125415e-02\n",
      "  -3.87660488e-02  1.25203561e-02  2.40966491e-02  2.90167890e-03\n",
      "   2.33524125e-02 -2.50526424e-02 -1.42915659e-02 -2.41335295e-03\n",
      "   6.27102330e-04 -3.02016735e-03 -4.09118831e-03 -4.49495390e-03\n",
      "   2.36469274e-03  7.06140278e-03 -2.55807340e-02 -2.96869967e-03\n",
      "   1.41845588e-02 -4.84374072e-03 -1.43900737e-02  3.73409456e-03\n",
      "   1.37047758e-02  1.48872966e-02  1.12726353e-03 -7.74443010e-03\n",
      "  -2.20691524e-02 -2.25130171e-02 -5.30586997e-03 -2.59028766e-02\n",
      "  -3.55487829e-03 -1.74497552e-02 -2.65979208e-04  1.69595554e-02\n",
      "  -8.08136724e-03 -4.13741916e-03  3.96775492e-02 -1.24207570e-03\n",
      "  -1.96348689e-02  2.09447499e-02  1.60866845e-02  3.35804038e-02\n",
      "  -3.40125859e-02  6.37844857e-03  9.42238141e-03  3.05795185e-02\n",
      "   2.85456609e-03  1.70059223e-03  1.24071054e-02 -4.14013350e-03\n",
      "   2.10062303e-02  2.96989921e-03 -8.74504726e-03 -3.59333940e-02\n",
      "  -2.75624264e-02 -1.77597143e-02  9.82716866e-03  3.83301899e-02\n",
      "  -1.29095716e-02 -2.52403710e-02  5.02661653e-02 -1.84006654e-02\n",
      "  -6.24063751e-03 -3.26336129e-03 -6.74559129e-03  9.88625269e-03\n",
      "   2.67068222e-02 -1.53362313e-02  5.22961393e-02  7.28448946e-03\n",
      "   2.32984219e-02 -1.35853793e-02  1.74174793e-02  2.41559409e-02]]\n"
     ]
    }
   ],
   "source": [
    "X_train = np.array(train_data['textvector'].tolist())\n",
    "Y_train = np.array(train_data['grade'])\n",
    "\n",
    "X_test = np.array(test_data['textvector'].tolist())\n",
    "Y_test = np.array(test_data['grade'])\n",
    "print(X_test)"
   ]
  },
  {
   "cell_type": "markdown",
   "id": "73b1a014",
   "metadata": {},
   "source": [
    "# build Models "
   ]
  },
  {
   "cell_type": "code",
   "execution_count": 18,
   "id": "493a5eba",
   "metadata": {},
   "outputs": [],
   "source": [
    "def getModel(name):\n",
    "    if name == 'svm_linear':\n",
    "        model_svm_linear = SVC(kernel='linear' ,probability=True)\n",
    "        model_svm_linear.fit(X_train, Y_train)\n",
    "        return model_svm_linear\n",
    "    elif name == 'svm_rbf':\n",
    "        model_svm_rbf = SVC(kernel='rbf' , probability=True)\n",
    "        model_svm_rbf.fit(X_train, Y_train)\n",
    "        return model_svm_rbf\n",
    "    elif name == 'random_forest':\n",
    "        model_rf = RandomForestClassifier(n_estimators=100, random_state=42)\n",
    "        model_rf.fit(X_train, Y_train)\n",
    "        return model_rf\n",
    "    elif name == 'knn':\n",
    "        model_knn = KNeighborsClassifier(n_neighbors=3)\n",
    "        model_knn.fit(X_train, Y_train)\n",
    "        return model_knn\n",
    "    elif name == 'naive_bayes':\n",
    "        model_nb = GaussianNB()\n",
    "        model_nb.fit(X_train, Y_train)\n",
    "        return model_nb\n",
    "    elif name == 'bagging':\n",
    "        # Créer le modèle de base\n",
    "        base_model = KNeighborsClassifier(n_neighbors=3)\n",
    "        model_bagging = BaggingClassifier(base_estimator=base_model, n_estimators=10, random_state=42)\n",
    "        # Entraîner le modèle Bagging\n",
    "        model_bagging.fit(X_train, Y_train)\n",
    "        return model_bagging\n",
    "    elif name == 'ann':\n",
    "        # MLP: création + entrainement\n",
    "        model_ANN = MLPClassifier(hidden_layer_sizes=(15, 10), random_state=1, max_iter=800)\n",
    "        model_ANN.fit(X_train , Y_train)\n",
    "        return model_ANN\n",
    "    else:\n",
    "        raise ValueError(\"Invalid model name. Please choose from 'svm', 'random_forest', 'knn', or 'naive_bayes'.\")\n"
   ]
  },
  {
   "cell_type": "code",
   "execution_count": 19,
   "id": "d97c45d3",
   "metadata": {},
   "outputs": [],
   "source": [
    "# construire le model \n",
    "model_svm_lin = getModel('svm_linear')\n",
    "# predire les donnees de Test\n",
    "Y_pred_svm_lin = model_svm_lin.predict_proba(X_test)"
   ]
  },
  {
   "cell_type": "code",
   "execution_count": 20,
   "id": "4a1301e8",
   "metadata": {},
   "outputs": [],
   "source": [
    "# construire le model \n",
    "model_svm_rbf = getModel('svm_rbf')\n",
    "# predire les donnees de Test\n",
    "Y_pred_svm_rbf = model_svm_rbf.predict_proba(X_test)"
   ]
  },
  {
   "cell_type": "code",
   "execution_count": 21,
   "id": "d5cc9432",
   "metadata": {},
   "outputs": [],
   "source": [
    "# construire le model \n",
    "model_rf = getModel('random_forest')\n",
    "# predire les donnees de Test\n",
    "Y_pred_rf = model_rf.predict_proba(X_test)"
   ]
  },
  {
   "cell_type": "code",
   "execution_count": 22,
   "id": "adade476",
   "metadata": {},
   "outputs": [],
   "source": [
    "# construire le model \n",
    "model_knn = getModel('knn')\n",
    "# predire les donnees de Test\n",
    "Y_pred_knn = model_knn.predict_proba(X_test)"
   ]
  },
  {
   "cell_type": "code",
   "execution_count": 23,
   "id": "5ac8af74",
   "metadata": {},
   "outputs": [],
   "source": [
    "# construire le model \n",
    "model_nb = getModel('naive_bayes')\n",
    "# predire les donnees de Test\n",
    "Y_pred_nb = model_nb.predict_proba(X_test)"
   ]
  },
  {
   "cell_type": "code",
   "execution_count": 24,
   "id": "27d00b84",
   "metadata": {},
   "outputs": [],
   "source": [
    "# construire le model \n",
    "model_ann = getModel(\"ann\")\n",
    "# predire les donnees de Test\n",
    "Y_pred_ann = model_ann.predict_proba(X_test)"
   ]
  },
  {
   "cell_type": "code",
   "execution_count": 25,
   "id": "09fb9c0f",
   "metadata": {},
   "outputs": [],
   "source": [
    "# construire le model \n",
    "model_bagging  = getModel('bagging')\n",
    "# predire les donnees de Test\n",
    "Y_pred_bagging = model_bagging.predict_proba(X_test)"
   ]
  },
  {
   "cell_type": "markdown",
   "id": "ca6aea06",
   "metadata": {},
   "source": [
    "# Models Evaluation"
   ]
  },
  {
   "cell_type": "code",
   "execution_count": 26,
   "id": "be63a662",
   "metadata": {},
   "outputs": [],
   "source": [
    "models = [\n",
    "  getModel('svm_linear'),\n",
    "  getModel('svm_rbf'),\n",
    "  getModel('random_forest'),\n",
    "  getModel('knn'),\n",
    "  getModel('naive_bayes'),\n",
    "  getModel(\"ann\"),\n",
    "  getModel('bagging')\n",
    "]\n",
    "models_names = [\n",
    "    'SVM Linear',\n",
    "    'SVM RBF',\n",
    "    'Random Forest',\n",
    "    'KNN',\n",
    "    'Naive Bayes',\n",
    "    'ANN',\n",
    "    'Ensemble Learning (Bagging)'\n",
    "]\n",
    "predicted_Xtest_proba = [\n",
    "    Y_pred_svm_lin,\n",
    "    Y_pred_svm_rbf,\n",
    "    Y_pred_rf,\n",
    "    Y_pred_knn,\n",
    "    Y_pred_nb,\n",
    "    Y_pred_ann,\n",
    "    Y_pred_bagging\n",
    "]"
   ]
  },
  {
   "cell_type": "code",
   "execution_count": 27,
   "id": "957cde67",
   "metadata": {},
   "outputs": [],
   "source": [
    "def getAccuracy(models):\n",
    "  accuracies = []\n",
    "  for model in models:\n",
    "    Y_Test_predi = model.predict(X_test)\n",
    "    accuracy = accuracy_score(Y_test, Y_Test_predi)\n",
    "    accuracies.append(accuracy)\n",
    "\n",
    "  return accuracies"
   ]
  },
  {
   "cell_type": "code",
   "execution_count": 28,
   "id": "1933e833",
   "metadata": {
    "scrolled": true
   },
   "outputs": [
    {
     "name": "stdout",
     "output_type": "stream",
     "text": [
      "accuracy SVM Linear :  0.4444444444444444\n",
      "accuracy SVM RBF :  0.5555555555555556\n",
      "accuracy Random Forest :  0.5555555555555556\n",
      "accuracy KNN :  0.7777777777777778\n",
      "accuracy Naive Bayes :  0.5555555555555556\n",
      "accuracy ANN :  0.6666666666666666\n",
      "accuracy Ensemble Learning (Bagging) :  0.6666666666666666\n"
     ]
    }
   ],
   "source": [
    "accuracies = getAccuracy(models)\n",
    "i=0\n",
    "for model in models_names:\n",
    "    print(f\"accuracy {model} :  {accuracies[i]}\")\n",
    "    i += 1"
   ]
  },
  {
   "cell_type": "code",
   "execution_count": 29,
   "id": "05218892",
   "metadata": {},
   "outputs": [
    {
     "name": "stdout",
     "output_type": "stream",
     "text": [
      "SVM Linear  Aire sous la courbe ROC: 0.6214285714285714\n",
      "SVM RBF  Aire sous la courbe ROC: 0.8357142857142857\n",
      "Random Forest  Aire sous la courbe ROC: 0.7714285714285714\n",
      "KNN  Aire sous la courbe ROC: 0.9314814814814815\n",
      "Naive Bayes  Aire sous la courbe ROC: 0.6957671957671957\n",
      "ANN  Aire sous la courbe ROC: 0.8928571428571429\n",
      "Ensemble Learning (Bagging)  Aire sous la courbe ROC: 0.8462962962962962\n"
     ]
    }
   ],
   "source": [
    "i=0\n",
    "for  Y_test_pred_prob in predicted_Xtest_proba:\n",
    "#     Y_test_pred = Y_test_pred.reshape(-1, 1)\n",
    "    auc_roc = roc_auc_score(Y_test, Y_test_pred_prob , multi_class='ovr')\n",
    "    print(f\"{models_names[i]}  Aire sous la courbe ROC:\", auc_roc)\n",
    "    i += 1"
   ]
  },
  {
   "cell_type": "markdown",
   "id": "f7b3ff11",
   "metadata": {},
   "source": [
    "# the best Model"
   ]
  },
  {
   "cell_type": "code",
   "execution_count": 30,
   "id": "ca0db268",
   "metadata": {},
   "outputs": [],
   "source": [
    "max_index = np.argmax(accuracies)\n",
    "best_model = models[max_index]"
   ]
  },
  {
   "cell_type": "code",
   "execution_count": 31,
   "id": "7684801a",
   "metadata": {},
   "outputs": [
    {
     "data": {
      "text/html": [
       "<div>\n",
       "<style scoped>\n",
       "    .dataframe tbody tr th:only-of-type {\n",
       "        vertical-align: middle;\n",
       "    }\n",
       "\n",
       "    .dataframe tbody tr th {\n",
       "        vertical-align: top;\n",
       "    }\n",
       "\n",
       "    .dataframe thead th {\n",
       "        text-align: right;\n",
       "    }\n",
       "</style>\n",
       "<table border=\"1\" class=\"dataframe\">\n",
       "  <thead>\n",
       "    <tr style=\"text-align: right;\">\n",
       "      <th></th>\n",
       "      <th>Real</th>\n",
       "      <th>Predicted</th>\n",
       "    </tr>\n",
       "  </thead>\n",
       "  <tbody>\n",
       "    <tr>\n",
       "      <th>0</th>\n",
       "      <td>0</td>\n",
       "      <td>0</td>\n",
       "    </tr>\n",
       "    <tr>\n",
       "      <th>1</th>\n",
       "      <td>2</td>\n",
       "      <td>2</td>\n",
       "    </tr>\n",
       "    <tr>\n",
       "      <th>2</th>\n",
       "      <td>0</td>\n",
       "      <td>0</td>\n",
       "    </tr>\n",
       "    <tr>\n",
       "      <th>3</th>\n",
       "      <td>2</td>\n",
       "      <td>1</td>\n",
       "    </tr>\n",
       "    <tr>\n",
       "      <th>4</th>\n",
       "      <td>1</td>\n",
       "      <td>0</td>\n",
       "    </tr>\n",
       "    <tr>\n",
       "      <th>5</th>\n",
       "      <td>1</td>\n",
       "      <td>1</td>\n",
       "    </tr>\n",
       "    <tr>\n",
       "      <th>6</th>\n",
       "      <td>1</td>\n",
       "      <td>1</td>\n",
       "    </tr>\n",
       "    <tr>\n",
       "      <th>7</th>\n",
       "      <td>1</td>\n",
       "      <td>1</td>\n",
       "    </tr>\n",
       "    <tr>\n",
       "      <th>8</th>\n",
       "      <td>2</td>\n",
       "      <td>2</td>\n",
       "    </tr>\n",
       "  </tbody>\n",
       "</table>\n",
       "</div>"
      ],
      "text/plain": [
       "   Real   Predicted\n",
       "0      0          0\n",
       "1      2          2\n",
       "2      0          0\n",
       "3      2          1\n",
       "4      1          0\n",
       "5      1          1\n",
       "6      1          1\n",
       "7      1          1\n",
       "8      2          2"
      ]
     },
     "execution_count": 31,
     "metadata": {},
     "output_type": "execute_result"
    }
   ],
   "source": [
    "pd.DataFrame({\"Real \": Y_test , \"Predicted\" : best_model.predict(X_test)})"
   ]
  },
  {
   "cell_type": "markdown",
   "id": "cc97ec21",
   "metadata": {},
   "source": [
    "# saving the best model"
   ]
  },
  {
   "cell_type": "code",
   "execution_count": 34,
   "id": "ff343d9f",
   "metadata": {},
   "outputs": [],
   "source": [
    "model_path = '../saved_models/model_question9.h5'\n",
    "with open(model_path, 'wb') as file:\n",
    "    pickle.dump((best_model, model_word2vec), file)"
   ]
  },
  {
   "cell_type": "markdown",
   "id": "89f382c5",
   "metadata": {},
   "source": [
    "# Test Model"
   ]
  },
  {
   "cell_type": "code",
   "execution_count": null,
   "id": "ce5db3ae",
   "metadata": {},
   "outputs": [],
   "source": [
    "i=1\n",
    "while True:\n",
    "    print(\"--------------  Testing  ---------------\")\n",
    "    \n",
    "    answer = input('الاجابه: ')\n",
    "    process = txt_preprocess(answer)\n",
    "    txt = get_word_vector(process, model_word2vec)\n",
    "    txt = txt.reshape(1, -1)\n",
    "    predicted_ques = best_model.predict(txt)[0]\n",
    "    print(f'Grade of Answer Is : {predicted_ques}')\n",
    "    \n",
    "    exit = int(input(\"Enter Zero To Exit From System  OR One To Run The Program : \\n\"))\n",
    "    if exit == 0:\n",
    "        print('Exit From System...','Thank You')\n",
    "        break\n",
    "    else:\n",
    "        continue   \n",
    "        print('\\n')"
   ]
  },
  {
   "cell_type": "code",
   "execution_count": null,
   "id": "4247c261",
   "metadata": {},
   "outputs": [],
   "source": []
  },
  {
   "cell_type": "code",
   "execution_count": null,
   "id": "96af8809",
   "metadata": {},
   "outputs": [],
   "source": []
  }
 ],
 "metadata": {
  "kernelspec": {
   "display_name": "Python 3 (ipykernel)",
   "language": "python",
   "name": "python3"
  },
  "language_info": {
   "codemirror_mode": {
    "name": "ipython",
    "version": 3
   },
   "file_extension": ".py",
   "mimetype": "text/x-python",
   "name": "python",
   "nbconvert_exporter": "python",
   "pygments_lexer": "ipython3",
   "version": "3.10.5"
  }
 },
 "nbformat": 4,
 "nbformat_minor": 5
}
